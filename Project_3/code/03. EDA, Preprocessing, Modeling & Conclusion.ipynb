{
 "cells": [
  {
   "cell_type": "markdown",
   "metadata": {},
   "source": [
    "# Project 3: Reddit API Classification & Natural Language Processing"
   ]
  },
  {
   "cell_type": "markdown",
   "metadata": {},
   "source": [
    "## 03. EDA, Pre-Processing, Modeling & Conclusion"
   ]
  },
  {
   "cell_type": "markdown",
   "metadata": {},
   "source": [
    "## Table of contents\n",
    "\n",
    "- [1. Import Data and EDA](#1.-Import-Data-and-EDA)\n",
    "- [2. Pre-Processing and Modeling](#2.-Pre-Processing-and-Modeling)\n",
    "   - [2.1 Train Test Split](#2.1-Train-Test-Split)\n",
    "   - [2.2 Pipeline CountVectorizer & Classifiers](#2.2-Pipeline-CountVectorizer-&-Classifiers)\n",
    "   - [2.3 Pipeline TF-IDF & Classifiers](#2.3-Pipeline-TF-IDF-&-Classifiers)\n",
    "   - [2.4 GridSearchCV](#2.4-GridSearchCV)\n",
    "- [3. Evaluation and Conceptual Understanding](#3.-Evaluation-and-Conceptual-Understanding)\n",
    "   - [3.1 Confusion Matrix](#3.1-Confusion-Matrix)\n",
    "   - [3.2 Receiver Operating Characteristic (ROC) Curve & Area Under Curve (AUC)](#3.2-Receiver-Operating-Characteristic-(ROC)-Curve-&-Area-Under-Curve-(AUC))\n",
    "   - [3.3 Missclassification](#3.3-Missclassification)\n",
    "- [4. Conclusion and Recommendations](#4.-Conclusion-and-Recommendations)   "
   ]
  },
  {
   "cell_type": "code",
   "execution_count": 1,
   "metadata": {},
   "outputs": [],
   "source": [
    "import numpy as np\n",
    "import pandas as pd\n",
    "import matplotlib.pyplot as plt\n",
    "import seaborn as sns\n",
    "from nltk.stem.porter import PorterStemmer\n",
    "from sklearn.model_selection import GridSearchCV, train_test_split, cross_val_score\n",
    "from sklearn.pipeline import Pipeline\n",
    "from sklearn.preprocessing import StandardScaler\n",
    "from sklearn.linear_model import LogisticRegressionCV\n",
    "from sklearn.neighbors import KNeighborsClassifier\n",
    "from sklearn.naive_bayes import MultinomialNB\n",
    "from sklearn.feature_extraction import text \n",
    "from sklearn.feature_extraction.text import CountVectorizer, TfidfVectorizer\n",
    "from sklearn.tree import DecisionTreeClassifier\n",
    "from sklearn.ensemble import RandomForestClassifier\n",
    "from sklearn.metrics import confusion_matrix, accuracy_score, roc_auc_score, classification_report\n",
    "from wordcloud import WordCloud,STOPWORDS,ImageColorGenerator\n",
    "from PIL import Image\n",
    "\n",
    "%matplotlib inline\n",
    "sns.set(font_scale = 1.25)"
   ]
  },
  {
   "cell_type": "markdown",
   "metadata": {},
   "source": [
    "## 1. Import Data and EDA"
   ]
  },
  {
   "cell_type": "code",
   "execution_count": 2,
   "metadata": {},
   "outputs": [],
   "source": [
    "py_df = pd.read_csv('../datasets/Python_cleaned.csv')\n",
    "bd_df = pd.read_csv('../datasets/Bigdata_cleaned.csv')"
   ]
  },
  {
   "cell_type": "code",
   "execution_count": 3,
   "metadata": {},
   "outputs": [
    {
     "data": {
      "text/plain": [
       "(866, 5)"
      ]
     },
     "execution_count": 3,
     "metadata": {},
     "output_type": "execute_result"
    }
   ],
   "source": [
    "py_df.shape"
   ]
  },
  {
   "cell_type": "code",
   "execution_count": 4,
   "metadata": {},
   "outputs": [
    {
     "data": {
      "text/plain": [
       "(971, 5)"
      ]
     },
     "execution_count": 4,
     "metadata": {},
     "output_type": "execute_result"
    }
   ],
   "source": [
    "bd_df.shape"
   ]
  },
  {
   "cell_type": "markdown",
   "metadata": {},
   "source": [
    "**Combine the Python and Bigdata post into a single DataFrame**"
   ]
  },
  {
   "cell_type": "code",
   "execution_count": 5,
   "metadata": {},
   "outputs": [],
   "source": [
    "final_df = pd.concat([py_df,bd_df])"
   ]
  },
  {
   "cell_type": "code",
   "execution_count": 6,
   "metadata": {},
   "outputs": [
    {
     "data": {
      "text/html": [
       "<div>\n",
       "<style scoped>\n",
       "    .dataframe tbody tr th:only-of-type {\n",
       "        vertical-align: middle;\n",
       "    }\n",
       "\n",
       "    .dataframe tbody tr th {\n",
       "        vertical-align: top;\n",
       "    }\n",
       "\n",
       "    .dataframe thead th {\n",
       "        text-align: right;\n",
       "    }\n",
       "</style>\n",
       "<table border=\"1\" class=\"dataframe\">\n",
       "  <thead>\n",
       "    <tr style=\"text-align: right;\">\n",
       "      <th></th>\n",
       "      <th>name</th>\n",
       "      <th>title</th>\n",
       "      <th>selftext</th>\n",
       "      <th>subreddit</th>\n",
       "      <th>title_text</th>\n",
       "    </tr>\n",
       "  </thead>\n",
       "  <tbody>\n",
       "    <tr>\n",
       "      <th>0</th>\n",
       "      <td>t3_gdfaip</td>\n",
       "      <td>/r/Python Job Board for May, June, July</td>\n",
       "      <td>Top Level comments must be **Job Opportunities...</td>\n",
       "      <td>Python</td>\n",
       "      <td>rpython job   for may june july top level comm...</td>\n",
       "    </tr>\n",
       "    <tr>\n",
       "      <th>1</th>\n",
       "      <td>t3_gibxv4</td>\n",
       "      <td>What's everyone working on this week?</td>\n",
       "      <td>Tell /r/python what you're working on this wee...</td>\n",
       "      <td>Python</td>\n",
       "      <td>whats everyone working on this week tell rpyth...</td>\n",
       "    </tr>\n",
       "    <tr>\n",
       "      <th>2</th>\n",
       "      <td>t3_gl7lp7</td>\n",
       "      <td>Created a python script that execute Explorato...</td>\n",
       "      <td>NaN</td>\n",
       "      <td>Python</td>\n",
       "      <td>a python script that execute exploratory   a...</td>\n",
       "    </tr>\n",
       "    <tr>\n",
       "      <th>3</th>\n",
       "      <td>t3_glikj1</td>\n",
       "      <td>I made an Android app that detects and recogni...</td>\n",
       "      <td>NaN</td>\n",
       "      <td>Python</td>\n",
       "      <td>i   an   app that     recognises traffic signs...</td>\n",
       "    </tr>\n",
       "    <tr>\n",
       "      <th>4</th>\n",
       "      <td>t3_glikya</td>\n",
       "      <td>Anyone else learning python during the quarant...</td>\n",
       "      <td>I have been watching the lectures from a compu...</td>\n",
       "      <td>Python</td>\n",
       "      <td>anyone else learning python   the quarantine i...</td>\n",
       "    </tr>\n",
       "  </tbody>\n",
       "</table>\n",
       "</div>"
      ],
      "text/plain": [
       "        name                                              title  \\\n",
       "0  t3_gdfaip            /r/Python Job Board for May, June, July   \n",
       "1  t3_gibxv4              What's everyone working on this week?   \n",
       "2  t3_gl7lp7  Created a python script that execute Explorato...   \n",
       "3  t3_glikj1  I made an Android app that detects and recogni...   \n",
       "4  t3_glikya  Anyone else learning python during the quarant...   \n",
       "\n",
       "                                            selftext subreddit  \\\n",
       "0  Top Level comments must be **Job Opportunities...    Python   \n",
       "1  Tell /r/python what you're working on this wee...    Python   \n",
       "2                                                NaN    Python   \n",
       "3                                                NaN    Python   \n",
       "4  I have been watching the lectures from a compu...    Python   \n",
       "\n",
       "                                          title_text  \n",
       "0  rpython job   for may june july top level comm...  \n",
       "1  whats everyone working on this week tell rpyth...  \n",
       "2    a python script that execute exploratory   a...  \n",
       "3  i   an   app that     recognises traffic signs...  \n",
       "4  anyone else learning python   the quarantine i...  "
      ]
     },
     "execution_count": 6,
     "metadata": {},
     "output_type": "execute_result"
    }
   ],
   "source": [
    "final_df.head()"
   ]
  },
  {
   "cell_type": "code",
   "execution_count": 7,
   "metadata": {},
   "outputs": [
    {
     "data": {
      "text/html": [
       "<div>\n",
       "<style scoped>\n",
       "    .dataframe tbody tr th:only-of-type {\n",
       "        vertical-align: middle;\n",
       "    }\n",
       "\n",
       "    .dataframe tbody tr th {\n",
       "        vertical-align: top;\n",
       "    }\n",
       "\n",
       "    .dataframe thead th {\n",
       "        text-align: right;\n",
       "    }\n",
       "</style>\n",
       "<table border=\"1\" class=\"dataframe\">\n",
       "  <thead>\n",
       "    <tr style=\"text-align: right;\">\n",
       "      <th></th>\n",
       "      <th>name</th>\n",
       "      <th>title</th>\n",
       "      <th>selftext</th>\n",
       "      <th>subreddit</th>\n",
       "      <th>title_text</th>\n",
       "    </tr>\n",
       "  </thead>\n",
       "  <tbody>\n",
       "    <tr>\n",
       "      <th>966</th>\n",
       "      <td>t3_djjg57</td>\n",
       "      <td>Big Data in Retail Industry [Case Studies] - T...</td>\n",
       "      <td>NaN</td>\n",
       "      <td>bigdata</td>\n",
       "      <td>big   in retail      take your business to nex...</td>\n",
       "    </tr>\n",
       "    <tr>\n",
       "      <th>967</th>\n",
       "      <td>t3_dji8zf</td>\n",
       "      <td>A Brief Introduction Of Big Data Framework</td>\n",
       "      <td>NaN</td>\n",
       "      <td>bigdata</td>\n",
       "      <td>a brief   of big   framework</td>\n",
       "    </tr>\n",
       "    <tr>\n",
       "      <th>968</th>\n",
       "      <td>t3_djcgf9</td>\n",
       "      <td>Simplifying the data pipeline</td>\n",
       "      <td>NaN</td>\n",
       "      <td>bigdata</td>\n",
       "      <td>simplifying the   pipeline</td>\n",
       "    </tr>\n",
       "    <tr>\n",
       "      <th>969</th>\n",
       "      <td>t3_dj2vmp</td>\n",
       "      <td>Mainframe to Big Data - Why you should switch ...</td>\n",
       "      <td>NaN</td>\n",
       "      <td>bigdata</td>\n",
       "      <td>mainframe to big    why you   switch your care...</td>\n",
       "    </tr>\n",
       "    <tr>\n",
       "      <th>970</th>\n",
       "      <td>t3_dj66ew</td>\n",
       "      <td>Ideas for Big Data presentation</td>\n",
       "      <td>I don't know if this is the right place to ask...</td>\n",
       "      <td>bigdata</td>\n",
       "      <td>for big   presentation i   know if this is t...</td>\n",
       "    </tr>\n",
       "  </tbody>\n",
       "</table>\n",
       "</div>"
      ],
      "text/plain": [
       "          name                                              title  \\\n",
       "966  t3_djjg57  Big Data in Retail Industry [Case Studies] - T...   \n",
       "967  t3_dji8zf         A Brief Introduction Of Big Data Framework   \n",
       "968  t3_djcgf9                      Simplifying the data pipeline   \n",
       "969  t3_dj2vmp  Mainframe to Big Data - Why you should switch ...   \n",
       "970  t3_dj66ew                    Ideas for Big Data presentation   \n",
       "\n",
       "                                              selftext subreddit  \\\n",
       "966                                                NaN   bigdata   \n",
       "967                                                NaN   bigdata   \n",
       "968                                                NaN   bigdata   \n",
       "969                                                NaN   bigdata   \n",
       "970  I don't know if this is the right place to ask...   bigdata   \n",
       "\n",
       "                                            title_text  \n",
       "966  big   in retail      take your business to nex...  \n",
       "967                      a brief   of big   framework   \n",
       "968                        simplifying the   pipeline   \n",
       "969  mainframe to big    why you   switch your care...  \n",
       "970    for big   presentation i   know if this is t...  "
      ]
     },
     "execution_count": 7,
     "metadata": {},
     "output_type": "execute_result"
    }
   ],
   "source": [
    "final_df.tail()"
   ]
  },
  {
   "cell_type": "code",
   "execution_count": 8,
   "metadata": {},
   "outputs": [
    {
     "data": {
      "text/plain": [
       "bigdata    971\n",
       "Python     866\n",
       "Name: subreddit, dtype: int64"
      ]
     },
     "execution_count": 8,
     "metadata": {},
     "output_type": "execute_result"
    }
   ],
   "source": [
    "final_df['subreddit'].value_counts()"
   ]
  },
  {
   "cell_type": "code",
   "execution_count": 9,
   "metadata": {},
   "outputs": [
    {
     "data": {
      "text/plain": [
       "852    how much        we generate every year  i reme...\n",
       "19     help   for installing interpreter hello guys i...\n",
       "495    i   an escape the room game entirely in python...\n",
       "800    i am working on automatic image   using python...\n",
       "336                               heap sort with python \n",
       "Name: title_text, dtype: object"
      ]
     },
     "execution_count": 9,
     "metadata": {},
     "output_type": "execute_result"
    }
   ],
   "source": [
    "final_df['title_text'].sample(5)"
   ]
  },
  {
   "cell_type": "code",
   "execution_count": 10,
   "metadata": {},
   "outputs": [],
   "source": [
    "#Define function to draw a word cloud\n",
    "\n",
    "def draw_wordcloud(text, plot_title=None, mask_img=None):\n",
    "    \"\"\"\n",
    "    Generate and draw word cloud from text.\n",
    "    \n",
    "    Parameters\n",
    "    ----------\n",
    "    text : str\n",
    "        Text to generate word cloud from.\n",
    "    title : str\n",
    "        Title to set on plot\n",
    "    mask_img: str\n",
    "        Path to image mask\n",
    "    \"\"\"\n",
    "    char_mask = np.array(Image.open(mask_img))\n",
    "    image_colors = ImageColorGenerator(char_mask)\n",
    "    \n",
    "    wordcloud = WordCloud(\n",
    "        mask = char_mask,\n",
    "        scale=5,\n",
    "        max_words=1000,\n",
    "        background_color='white',\n",
    "        colormap='brg',\n",
    "        contour_width=3,\n",
    "        contour_color='white',\n",
    "        random_state=42\n",
    "    ).generate(text)\n",
    "    plt.figure(figsize=(10,10), facecolor='white')\n",
    "    plt.imshow(wordcloud, interpolation=\"bilinear\")\n",
    "    if plot_title:\n",
    "        plt.title(plot_title, fontsize=20, pad=50)\n",
    "    plt.axis(\"off\")\n",
    "    plt.show()"
   ]
  },
  {
   "cell_type": "code",
   "execution_count": 11,
   "metadata": {
    "scrolled": false
   },
   "outputs": [
    {
     "data": {
      "image/png": "[encoded data removed]",
      "text/plain": [
       "<Figure size 720x720 with 1 Axes>"
      ]
     },
     "metadata": {},
     "output_type": "display_data"
    }
   ],
   "source": [
    "# Word cloud for /r/Python\n",
    "draw_wordcloud(\n",
    "    str(final_df[final_df['subreddit']=='Python'].title_text),\n",
    "    plot_title = 'Word Cloud for /r/Python',\n",
    "    mask_img = '../images/oval_mask.png'\n",
    ")"
   ]
  },
  {
   "cell_type": "code",
   "execution_count": 12,
   "metadata": {},
   "outputs": [
    {
     "data": {
      "image/png": "[encoded data removed]",
      "text/plain": [
       "<Figure size 720x720 with 1 Axes>"
      ]
     },
     "metadata": {},
     "output_type": "display_data"
    }
   ],
   "source": [
    "# Word cloud for /r/bigdata\n",
    "draw_wordcloud(\n",
    "    str(final_df[final_df['subreddit']=='bigdata'].title_text),\n",
    "    plot_title = 'Word Cloud for /r/bigdata',\n",
    "    mask_img = '../images/oval_mask.png'\n",
    ")"
   ]
  },
  {
   "cell_type": "code",
   "execution_count": 13,
   "metadata": {},
   "outputs": [
    {
     "data": {
      "text/plain": [
       "1837"
      ]
     },
     "execution_count": 13,
     "metadata": {},
     "output_type": "execute_result"
    }
   ],
   "source": [
    "len(final_df)"
   ]
  },
  {
   "cell_type": "code",
   "execution_count": 14,
   "metadata": {},
   "outputs": [],
   "source": [
    "# Instantiate CountVectorizer and TfidfVectorizer\n",
    "\n",
    "cv = CountVectorizer(stop_words = frozenset(['english','python','big','data']))\n",
    "tf = TfidfVectorizer(stop_words = frozenset(['english','python','big','data']))"
   ]
  },
  {
   "cell_type": "code",
   "execution_count": 15,
   "metadata": {},
   "outputs": [
    {
     "data": {
      "image/png": "[encoded data removed]",
      "text/plain": [
       "<Figure size 1584x1152 with 2 Axes>"
      ]
     },
     "metadata": {},
     "output_type": "display_data"
    }
   ],
   "source": [
    "# Explore CountVectorizer word counts in /r/Python\n",
    "words_cv_pf = pd.DataFrame(cv.fit_transform(final_df[final_df.subreddit=='Python'].title_text).todense(),\n",
    "                       columns=cv.get_feature_names())\n",
    "word_cv_counts_pf = words_cv_pf.sum(axis=0)\n",
    "\n",
    "# Explore TfidfVectorizer word counts in /r/Python\n",
    "words_tf_pf = pd.DataFrame(tf.fit_transform(final_df[final_df.subreddit=='Python'].title_text).todense(),\n",
    "                       columns=tf.get_feature_names())\n",
    "word_counts_tf_pf = words_tf_pf.sum(axis=0)\n",
    "\n",
    "# Plot top 20 words\n",
    "plt.figure(figsize=(22,16), facecolor='white',)\n",
    "\n",
    "plt.subplot(2,2,1)\n",
    "word_cv_counts_pf.sort_values().tail(20).plot(kind='barh', color = 'crimson')\n",
    "plt.title('Top 20 Words in /r/Python')\n",
    "plt.xlabel('Count')\n",
    "plt.ylabel('Word')\n",
    "\n",
    "plt.subplot(2,2,2)\n",
    "word_counts_tf_pf.sort_values().tail(20).plot(kind='barh',color = 'crimson')\n",
    "plt.title('Top 20 TFIDF Words in /r/Python')\n",
    "plt.xlabel('TFIDF Value')\n",
    "plt.ylabel('Word')\n",
    "\n",
    "plt.tight_layout()"
   ]
  },
  {
   "cell_type": "markdown",
   "metadata": {},
   "source": [
    ">The bar chart above shows which words occured most frequent in the r/Python subreddits, and comparing both TFIDF and CountVectorizer model, the results are quite similar."
   ]
  },
  {
   "cell_type": "code",
   "execution_count": 16,
   "metadata": {},
   "outputs": [
    {
     "data": {
      "image/png": "[encoded data removed]",
      "text/plain": [
       "<Figure size 1584x1152 with 2 Axes>"
      ]
     },
     "metadata": {},
     "output_type": "display_data"
    }
   ],
   "source": [
    "# Explore CountVectorizer word counts in /r/bigdata\n",
    "words_cv_pf = pd.DataFrame(cv.fit_transform(final_df[final_df.subreddit=='bigdata'].title_text).todense(),\n",
    "                       columns=cv.get_feature_names())\n",
    "word_cv_counts_pf = words_cv_pf.sum(axis=0)\n",
    "\n",
    "# Explore TfidfVectorizer word counts in /r/bigdata\n",
    "words_tf_pf = pd.DataFrame(tf.fit_transform(final_df[final_df.subreddit=='bigdata'].title_text).todense(),\n",
    "                       columns=tf.get_feature_names())\n",
    "word_counts_tf_pf = words_tf_pf.sum(axis=0)\n",
    "\n",
    "# Plot top 20 words\n",
    "plt.figure(figsize=(22,16), facecolor='white',)\n",
    "\n",
    "plt.subplot(2,2,1)\n",
    "word_cv_counts_pf.sort_values().tail(20).plot(kind='barh', color = 'steelblue')\n",
    "plt.title('Top 20 Words in /r/bigdata')\n",
    "plt.xlabel('Count')\n",
    "plt.ylabel('Word')\n",
    "\n",
    "plt.subplot(2,2,2)\n",
    "word_counts_tf_pf.sort_values().tail(20).plot(kind='barh',color = 'steelblue')\n",
    "plt.title('Top 20 TFIDF Words in /r/bigdata')\n",
    "plt.xlabel('TFIDF Value')\n",
    "plt.ylabel('Word')\n",
    "\n",
    "plt.tight_layout()"
   ]
  },
  {
   "cell_type": "markdown",
   "metadata": {},
   "source": [
    ">The bar chart above shows which words occured most frequent in the r/bigdata subreddits, by compating TFIDF and CountVectorizer model, both word counts are quite similar."
   ]
  },
  {
   "cell_type": "markdown",
   "metadata": {},
   "source": [
    "## 2. Pre-Processing and Modeling"
   ]
  },
  {
   "cell_type": "code",
   "execution_count": 17,
   "metadata": {},
   "outputs": [],
   "source": [
    "# Binarize the subreddit, /r/Python as 0 and /r/bigdata as 1\n",
    "final_df['subreddit'] = [1 if i =='bigdata' else 0 for i in final_df['subreddit']] "
   ]
  },
  {
   "cell_type": "code",
   "execution_count": 18,
   "metadata": {},
   "outputs": [
    {
     "data": {
      "text/html": [
       "<div>\n",
       "<style scoped>\n",
       "    .dataframe tbody tr th:only-of-type {\n",
       "        vertical-align: middle;\n",
       "    }\n",
       "\n",
       "    .dataframe tbody tr th {\n",
       "        vertical-align: top;\n",
       "    }\n",
       "\n",
       "    .dataframe thead th {\n",
       "        text-align: right;\n",
       "    }\n",
       "</style>\n",
       "<table border=\"1\" class=\"dataframe\">\n",
       "  <thead>\n",
       "    <tr style=\"text-align: right;\">\n",
       "      <th></th>\n",
       "      <th>name</th>\n",
       "      <th>title</th>\n",
       "      <th>selftext</th>\n",
       "      <th>subreddit</th>\n",
       "      <th>title_text</th>\n",
       "    </tr>\n",
       "  </thead>\n",
       "  <tbody>\n",
       "    <tr>\n",
       "      <th>0</th>\n",
       "      <td>t3_gdfaip</td>\n",
       "      <td>/r/Python Job Board for May, June, July</td>\n",
       "      <td>Top Level comments must be **Job Opportunities...</td>\n",
       "      <td>0</td>\n",
       "      <td>rpython job   for may june july top level comm...</td>\n",
       "    </tr>\n",
       "    <tr>\n",
       "      <th>1</th>\n",
       "      <td>t3_gibxv4</td>\n",
       "      <td>What's everyone working on this week?</td>\n",
       "      <td>Tell /r/python what you're working on this wee...</td>\n",
       "      <td>0</td>\n",
       "      <td>whats everyone working on this week tell rpyth...</td>\n",
       "    </tr>\n",
       "    <tr>\n",
       "      <th>2</th>\n",
       "      <td>t3_gl7lp7</td>\n",
       "      <td>Created a python script that execute Explorato...</td>\n",
       "      <td>NaN</td>\n",
       "      <td>0</td>\n",
       "      <td>a python script that execute exploratory   a...</td>\n",
       "    </tr>\n",
       "    <tr>\n",
       "      <th>3</th>\n",
       "      <td>t3_glikj1</td>\n",
       "      <td>I made an Android app that detects and recogni...</td>\n",
       "      <td>NaN</td>\n",
       "      <td>0</td>\n",
       "      <td>i   an   app that     recognises traffic signs...</td>\n",
       "    </tr>\n",
       "    <tr>\n",
       "      <th>4</th>\n",
       "      <td>t3_glikya</td>\n",
       "      <td>Anyone else learning python during the quarant...</td>\n",
       "      <td>I have been watching the lectures from a compu...</td>\n",
       "      <td>0</td>\n",
       "      <td>anyone else learning python   the quarantine i...</td>\n",
       "    </tr>\n",
       "    <tr>\n",
       "      <th>...</th>\n",
       "      <td>...</td>\n",
       "      <td>...</td>\n",
       "      <td>...</td>\n",
       "      <td>...</td>\n",
       "      <td>...</td>\n",
       "    </tr>\n",
       "    <tr>\n",
       "      <th>966</th>\n",
       "      <td>t3_djjg57</td>\n",
       "      <td>Big Data in Retail Industry [Case Studies] - T...</td>\n",
       "      <td>NaN</td>\n",
       "      <td>1</td>\n",
       "      <td>big   in retail      take your business to nex...</td>\n",
       "    </tr>\n",
       "    <tr>\n",
       "      <th>967</th>\n",
       "      <td>t3_dji8zf</td>\n",
       "      <td>A Brief Introduction Of Big Data Framework</td>\n",
       "      <td>NaN</td>\n",
       "      <td>1</td>\n",
       "      <td>a brief   of big   framework</td>\n",
       "    </tr>\n",
       "    <tr>\n",
       "      <th>968</th>\n",
       "      <td>t3_djcgf9</td>\n",
       "      <td>Simplifying the data pipeline</td>\n",
       "      <td>NaN</td>\n",
       "      <td>1</td>\n",
       "      <td>simplifying the   pipeline</td>\n",
       "    </tr>\n",
       "    <tr>\n",
       "      <th>969</th>\n",
       "      <td>t3_dj2vmp</td>\n",
       "      <td>Mainframe to Big Data - Why you should switch ...</td>\n",
       "      <td>NaN</td>\n",
       "      <td>1</td>\n",
       "      <td>mainframe to big    why you   switch your care...</td>\n",
       "    </tr>\n",
       "    <tr>\n",
       "      <th>970</th>\n",
       "      <td>t3_dj66ew</td>\n",
       "      <td>Ideas for Big Data presentation</td>\n",
       "      <td>I don't know if this is the right place to ask...</td>\n",
       "      <td>1</td>\n",
       "      <td>for big   presentation i   know if this is t...</td>\n",
       "    </tr>\n",
       "  </tbody>\n",
       "</table>\n",
       "<p>1837 rows × 5 columns</p>\n",
       "</div>"
      ],
      "text/plain": [
       "          name                                              title  \\\n",
       "0    t3_gdfaip            /r/Python Job Board for May, June, July   \n",
       "1    t3_gibxv4              What's everyone working on this week?   \n",
       "2    t3_gl7lp7  Created a python script that execute Explorato...   \n",
       "3    t3_glikj1  I made an Android app that detects and recogni...   \n",
       "4    t3_glikya  Anyone else learning python during the quarant...   \n",
       "..         ...                                                ...   \n",
       "966  t3_djjg57  Big Data in Retail Industry [Case Studies] - T...   \n",
       "967  t3_dji8zf         A Brief Introduction Of Big Data Framework   \n",
       "968  t3_djcgf9                      Simplifying the data pipeline   \n",
       "969  t3_dj2vmp  Mainframe to Big Data - Why you should switch ...   \n",
       "970  t3_dj66ew                    Ideas for Big Data presentation   \n",
       "\n",
       "                                              selftext  subreddit  \\\n",
       "0    Top Level comments must be **Job Opportunities...          0   \n",
       "1    Tell /r/python what you're working on this wee...          0   \n",
       "2                                                  NaN          0   \n",
       "3                                                  NaN          0   \n",
       "4    I have been watching the lectures from a compu...          0   \n",
       "..                                                 ...        ...   \n",
       "966                                                NaN          1   \n",
       "967                                                NaN          1   \n",
       "968                                                NaN          1   \n",
       "969                                                NaN          1   \n",
       "970  I don't know if this is the right place to ask...          1   \n",
       "\n",
       "                                            title_text  \n",
       "0    rpython job   for may june july top level comm...  \n",
       "1    whats everyone working on this week tell rpyth...  \n",
       "2      a python script that execute exploratory   a...  \n",
       "3    i   an   app that     recognises traffic signs...  \n",
       "4    anyone else learning python   the quarantine i...  \n",
       "..                                                 ...  \n",
       "966  big   in retail      take your business to nex...  \n",
       "967                      a brief   of big   framework   \n",
       "968                        simplifying the   pipeline   \n",
       "969  mainframe to big    why you   switch your care...  \n",
       "970    for big   presentation i   know if this is t...  \n",
       "\n",
       "[1837 rows x 5 columns]"
      ]
     },
     "execution_count": 18,
     "metadata": {},
     "output_type": "execute_result"
    }
   ],
   "source": [
    "final_df"
   ]
  },
  {
   "cell_type": "code",
   "execution_count": 19,
   "metadata": {},
   "outputs": [
    {
     "name": "stdout",
     "output_type": "stream",
     "text": [
      "<class 'pandas.core.frame.DataFrame'>\n",
      "Int64Index: 1837 entries, 0 to 970\n",
      "Data columns (total 5 columns):\n",
      " #   Column      Non-Null Count  Dtype \n",
      "---  ------      --------------  ----- \n",
      " 0   name        1837 non-null   object\n",
      " 1   title       1837 non-null   object\n",
      " 2   selftext    841 non-null    object\n",
      " 3   subreddit   1837 non-null   int64 \n",
      " 4   title_text  1837 non-null   object\n",
      "dtypes: int64(1), object(4)\n",
      "memory usage: 86.1+ KB\n"
     ]
    }
   ],
   "source": [
    "final_df.info()"
   ]
  },
  {
   "cell_type": "code",
   "execution_count": 20,
   "metadata": {},
   "outputs": [
    {
     "data": {
      "text/plain": [
       "name            0\n",
       "title           0\n",
       "selftext      996\n",
       "subreddit       0\n",
       "title_text      0\n",
       "dtype: int64"
      ]
     },
     "execution_count": 20,
     "metadata": {},
     "output_type": "execute_result"
    }
   ],
   "source": [
    "#Check if there is any null value after combine /r/Python and /r/bigdata\n",
    "final_df.isnull().sum()"
   ]
  },
  {
   "cell_type": "code",
   "execution_count": 21,
   "metadata": {},
   "outputs": [],
   "source": [
    "final_df.fillna(value = ' ', axis = 1, inplace = True)"
   ]
  },
  {
   "cell_type": "code",
   "execution_count": 22,
   "metadata": {},
   "outputs": [
    {
     "data": {
      "text/plain": [
       "0      rpython job   for may june july top level comm...\n",
       "1      whats everyone working on this week tell rpyth...\n",
       "2        a python script that execute exploratory   a...\n",
       "3      i   an   app that     recognises traffic signs...\n",
       "4      anyone else learning python   the quarantine i...\n",
       "                             ...                        \n",
       "966    big   in retail      take your business to nex...\n",
       "967                        a brief   of big   framework \n",
       "968                          simplifying the   pipeline \n",
       "969    mainframe to big    why you   switch your care...\n",
       "970      for big   presentation i   know if this is t...\n",
       "Name: title_text, Length: 1837, dtype: object"
      ]
     },
     "execution_count": 22,
     "metadata": {},
     "output_type": "execute_result"
    }
   ],
   "source": [
    "final_df['title_text'].astype(str)"
   ]
  },
  {
   "cell_type": "markdown",
   "metadata": {},
   "source": [
    "### 2.1 Train Test Split"
   ]
  },
  {
   "cell_type": "code",
   "execution_count": 23,
   "metadata": {},
   "outputs": [],
   "source": [
    "X = final_df['title_text']\n",
    "y = final_df['subreddit']"
   ]
  },
  {
   "cell_type": "code",
   "execution_count": 24,
   "metadata": {},
   "outputs": [
    {
     "data": {
      "text/plain": [
       "0      rpython job   for may june july top level comm...\n",
       "1      whats everyone working on this week tell rpyth...\n",
       "2        a python script that execute exploratory   a...\n",
       "3      i   an   app that     recognises traffic signs...\n",
       "4      anyone else learning python   the quarantine i...\n",
       "                             ...                        \n",
       "966    big   in retail      take your business to nex...\n",
       "967                        a brief   of big   framework \n",
       "968                          simplifying the   pipeline \n",
       "969    mainframe to big    why you   switch your care...\n",
       "970      for big   presentation i   know if this is t...\n",
       "Name: title_text, Length: 1837, dtype: object"
      ]
     },
     "execution_count": 24,
     "metadata": {},
     "output_type": "execute_result"
    }
   ],
   "source": [
    "final_df['title_text']"
   ]
  },
  {
   "cell_type": "code",
   "execution_count": 25,
   "metadata": {},
   "outputs": [],
   "source": [
    "X_train, X_test, y_train, y_test = train_test_split(X, y, random_state=42, stratify=y, test_size = 0.2)"
   ]
  },
  {
   "cell_type": "markdown",
   "metadata": {},
   "source": [
    "**Check each data set len**"
   ]
  },
  {
   "cell_type": "code",
   "execution_count": 26,
   "metadata": {},
   "outputs": [
    {
     "name": "stdout",
     "output_type": "stream",
     "text": [
      "X train :  1469\n",
      "X test :  368\n",
      "Y train :  1469\n",
      "Y test :  368\n"
     ]
    }
   ],
   "source": [
    "print (\"X train : \" , len(X_train))\n",
    "print (\"X test : \" , len(X_test))\n",
    "print (\"Y train : \" , len(y_train))\n",
    "print (\"Y test : \" , len(y_test))"
   ]
  },
  {
   "cell_type": "markdown",
   "metadata": {},
   "source": [
    "**Baseline Accuracy**\n",
    "\n",
    "We need to know what is the baseline accuracy value in order to tell if the model built is better than the null model."
   ]
  },
  {
   "cell_type": "code",
   "execution_count": 27,
   "metadata": {},
   "outputs": [
    {
     "data": {
      "text/plain": [
       "1    0.529891\n",
       "0    0.470109\n",
       "Name: subreddit, dtype: float64"
      ]
     },
     "execution_count": 27,
     "metadata": {},
     "output_type": "execute_result"
    }
   ],
   "source": [
    "y_test.value_counts(normalize = True)"
   ]
  },
  {
   "cell_type": "markdown",
   "metadata": {},
   "source": [
    "### 2.2 Pipeline CountVectorizer & Classifiers"
   ]
  },
  {
   "cell_type": "markdown",
   "metadata": {},
   "source": [
    "By using Pipeline to fit the Countvectorizer with classifiers to get the benchmark score, can compare the train test score whether the data is overfitted or undderfitted.\n",
    "\n",
    "The CountVectorizer model will be run with following 4 classifiers:\n",
    "\n",
    "- Logistic Regression\n",
    "- Multinomial Naive Bayes\n",
    "- Random Forest\n",
    "- Decision Tree Classifier"
   ]
  },
  {
   "cell_type": "markdown",
   "metadata": {},
   "source": [
    "**CountVectorizer and model of LogisticRegression**"
   ]
  },
  {
   "cell_type": "code",
   "execution_count": 28,
   "metadata": {},
   "outputs": [],
   "source": [
    "# Define the pipeline sequence, model and parameters\n",
    "cv_lr =  [('cv',CountVectorizer(stop_words = frozenset(['english','python','big','data']), ngram_range=(1,2), max_features = 5_000)),\n",
    "            ('lr',LogisticRegressionCV(solver = 'lbfgs',random_state = 42, cv =5, max_iter=300))]\n",
    "# Instantiate Pipeline\n",
    "pipe_lr = Pipeline(cv_lr)"
   ]
  },
  {
   "cell_type": "code",
   "execution_count": 29,
   "metadata": {},
   "outputs": [
    {
     "name": "stdout",
     "output_type": "stream",
     "text": [
      "Total Features: 6699\n"
     ]
    }
   ],
   "source": [
    "#instantiate CounVectorizer\n",
    "cv = CountVectorizer(stop_words = frozenset(['english','python','big','data']))\n",
    "\n",
    "X_train_cv = cv.fit_transform(X_train)\n",
    "X_test_cv = cv.transform(X_test)\n",
    "\n",
    "print(\"Total Features: {}\".format(len(cv.get_feature_names())))"
   ]
  },
  {
   "cell_type": "code",
   "execution_count": 30,
   "metadata": {},
   "outputs": [
    {
     "name": "stdout",
     "output_type": "stream",
     "text": [
      "Cvec Logistic Regression Model\n"
     ]
    },
    {
     "name": "stderr",
     "output_type": "stream",
     "text": [
      "C:\\Users\\User\\anaconda3\\lib\\site-packages\\sklearn\\linear_model\\_logistic.py:940: ConvergenceWarning: lbfgs failed to converge (status=1):\n",
      "STOP: TOTAL NO. of ITERATIONS REACHED LIMIT.\n",
      "\n",
      "Increase the number of iterations (max_iter) or scale the data as shown in:\n",
      "    https://scikit-learn.org/stable/modules/preprocessing.html\n",
      "Please also refer to the documentation for alternative solver options:\n",
      "    https://scikit-learn.org/stable/modules/linear_model.html#logistic-regression\n",
      "  extra_warning_msg=_LOGISTIC_SOLVER_CONVERGENCE_MSG)\n"
     ]
    },
    {
     "name": "stdout",
     "output_type": "stream",
     "text": [
      "Train score: 0.9653 \n",
      " Test score 0.8234\n"
     ]
    }
   ],
   "source": [
    "print(\"Cvec Logistic Regression Model\")\n",
    "\n",
    "pipe_lr.fit(X_train, y_train)\n",
    "train_score_lr = pipe_lr.score(X_train, y_train)\n",
    "test_score_lr = pipe_lr.score(X_test, y_test)\n",
    "\n",
    "print(\"Train score: {} \\n Test score {}\".format(round(train_score_lr,4),round(test_score_lr,4)))"
   ]
  },
  {
   "cell_type": "markdown",
   "metadata": {},
   "source": [
    ">Train score is much higher than the test score,so the model is overfitted."
   ]
  },
  {
   "cell_type": "markdown",
   "metadata": {},
   "source": [
    "**CountVectorizer and model of Naive Bayes**"
   ]
  },
  {
   "cell_type": "code",
   "execution_count": 31,
   "metadata": {},
   "outputs": [],
   "source": [
    "# Define the pipeline sequence, model and parameters\n",
    "mn_nb =  [('cv',CountVectorizer(stop_words=frozenset(['english','python','big','data']), ngram_range=(1,2), max_features = 5_000)),\n",
    "            ('mnb',MultinomialNB())]\n",
    "\n",
    "# Instantiate Pipeline\n",
    "pipe_nb = Pipeline(mn_nb)"
   ]
  },
  {
   "cell_type": "code",
   "execution_count": 32,
   "metadata": {},
   "outputs": [
    {
     "name": "stdout",
     "output_type": "stream",
     "text": [
      "Cvec Naive Bayes Model\n",
      "Train score: 0.9176 \n",
      " Test score 0.8234\n"
     ]
    }
   ],
   "source": [
    "print(\"Cvec Naive Bayes Model\")\n",
    "\n",
    "pipe_nb.fit(X_train, y_train)\n",
    "train_score_nb = pipe_nb.score(X_train, y_train)\n",
    "test_score_nb = pipe_nb.score(X_test, y_test)\n",
    "\n",
    "print(\"Train score: {} \\n Test score {}\".format(round(train_score_nb,4), round(test_score_nb,4)))"
   ]
  },
  {
   "cell_type": "markdown",
   "metadata": {},
   "source": [
    ">The train score decreased comparing to the baseline Logistic Regression model, however the train score is still higher than the test score, the model is still overfit."
   ]
  },
  {
   "cell_type": "markdown",
   "metadata": {},
   "source": [
    "**CountVectorizer and RandomForestClassifier model**"
   ]
  },
  {
   "cell_type": "code",
   "execution_count": 33,
   "metadata": {},
   "outputs": [],
   "source": [
    "# Define the pipeline sequence, model and parameters\n",
    "cv_rf =  [('cv',CountVectorizer(stop_words=frozenset(['english','python','big','data']), ngram_range=(1,2), max_features = 5_000)),\n",
    "            ('rf',RandomForestClassifier())]\n",
    "# Instantiate Pipeline\n",
    "pipe_rf = Pipeline(cv_rf)"
   ]
  },
  {
   "cell_type": "code",
   "execution_count": 34,
   "metadata": {},
   "outputs": [
    {
     "name": "stdout",
     "output_type": "stream",
     "text": [
      "Cvec Random Forest Classifier\n",
      "Train score: 0.9966 \n",
      " Test score 0.7582\n"
     ]
    }
   ],
   "source": [
    "print(\"Cvec Random Forest Classifier\")\n",
    "\n",
    "pipe_rf.fit(X_train, y_train)\n",
    "train_score_rf = pipe_rf.score(X_train, y_train)\n",
    "test_score_rf = pipe_rf.score(X_test, y_test)\n",
    "\n",
    "print(\"Train score: {} \\n Test score {}\".format(round(train_score_rf,4), round(test_score_rf,4)))"
   ]
  },
  {
   "cell_type": "markdown",
   "metadata": {},
   "source": [
    ">The train score is much higher than test score, this show the model is not performing better than previous 2 models, the model is still overfit."
   ]
  },
  {
   "cell_type": "markdown",
   "metadata": {},
   "source": [
    "**CountVectorizer and DecisionTreeClassifier model**"
   ]
  },
  {
   "cell_type": "code",
   "execution_count": 35,
   "metadata": {},
   "outputs": [],
   "source": [
    "# Define the pipeline sequence, model and parameters\n",
    "cv_tree =  [('cv',CountVectorizer(stop_words=frozenset(['english','python','big','data']), ngram_range=(1,2), max_features = 5_000)),\n",
    "            ('tree',DecisionTreeClassifier())]\n",
    "# Instantiate Pipeline\n",
    "pipe_tree = Pipeline(cv_tree)"
   ]
  },
  {
   "cell_type": "code",
   "execution_count": 36,
   "metadata": {
    "scrolled": true
   },
   "outputs": [
    {
     "name": "stdout",
     "output_type": "stream",
     "text": [
      "Cvec Decision Tree Classifier\n",
      "Train score: 0.9966 \n",
      " Test score 0.7201\n"
     ]
    }
   ],
   "source": [
    "print(\"Cvec Decision Tree Classifier\")\n",
    "\n",
    "pipe_tree.fit(X_train, y_train)\n",
    "train_score_tree = pipe_tree.score(X_train, y_train)\n",
    "test_score_tree = pipe_tree.score(X_test, y_test)\n",
    "\n",
    "print(\"Train score: {} \\n Test score {}\".format(round(train_score_tree,4), round(test_score_tree,4)))"
   ]
  },
  {
   "cell_type": "markdown",
   "metadata": {},
   "source": [
    ">Similar to Random Forest Classifier the train score is much higher than test score, and notably it is the worst among the 4 models chose ,and the model is overfit too."
   ]
  },
  {
   "cell_type": "markdown",
   "metadata": {},
   "source": [
    "### 2.3 Pipeline TF-IDF & Classifiers"
   ]
  },
  {
   "cell_type": "markdown",
   "metadata": {},
   "source": [
    "By using Pipeline to fit the TF-IDF with classfiers to get the benchmark score, can compare the train test score whether the data is overfitted or undderfitted.\n",
    "\n",
    "The TF-IDF model will be run with following 4 classifiers:\n",
    "\n",
    "- Logistic Regression\n",
    "- Multinomial Naive Bayes\n",
    "- Random Forest\n",
    "- Decision Tree Classifier"
   ]
  },
  {
   "cell_type": "markdown",
   "metadata": {},
   "source": [
    "**TF-IDF and model of LogisticRegression**"
   ]
  },
  {
   "cell_type": "code",
   "execution_count": 37,
   "metadata": {},
   "outputs": [],
   "source": [
    "tf_lr = [('tf',TfidfVectorizer(stop_words=frozenset(['english','python','big','data']), ngram_range=(1,2), max_features = 5_000)),\n",
    "            ('lr',LogisticRegressionCV(solver = 'lbfgs',random_state = 42, cv =5,max_iter=300))]\n",
    "\n",
    "# Instantiate Pipeline\n",
    "pipe_tf_lr = Pipeline(tf_lr)"
   ]
  },
  {
   "cell_type": "code",
   "execution_count": 38,
   "metadata": {},
   "outputs": [
    {
     "name": "stdout",
     "output_type": "stream",
     "text": [
      "TF-IDF Logistic Regression Model\n",
      "Train score: 0.9673 \n",
      " Test score 0.8533\n"
     ]
    }
   ],
   "source": [
    "print(\"TF-IDF Logistic Regression Model\")\n",
    "\n",
    "pipe_tf_lr.fit(X_train, y_train)\n",
    "train_score_tf_lr = pipe_tf_lr.score(X_train, y_train)\n",
    "test_score_tf_lr = pipe_tf_lr.score(X_test, y_test)\n",
    "\n",
    "print(\"Train score: {} \\n Test score {}\".format(round(train_score_tf_lr,4),round(test_score_tf_lr,4)))"
   ]
  },
  {
   "cell_type": "markdown",
   "metadata": {},
   "source": [
    ">Comparing with CountVectorizer with Logistic Regression model, the train score slightly improve 0.1, and the test score remain the same, the model is still overfit."
   ]
  },
  {
   "cell_type": "markdown",
   "metadata": {},
   "source": [
    "**TF-IDF and model of Naive Bayes**"
   ]
  },
  {
   "cell_type": "code",
   "execution_count": 39,
   "metadata": {},
   "outputs": [],
   "source": [
    "# Define the pipeline sequence, model and parameters\n",
    "tf_nb =  [('tf',TfidfVectorizer(stop_words=frozenset(['english','python','big','data']), ngram_range=(1,2), max_features = 5_000)),\n",
    "            ('mnb',MultinomialNB())]\n",
    "\n",
    "# Instantiate Pipeline\n",
    "pipe_tf_nb = Pipeline(tf_nb)"
   ]
  },
  {
   "cell_type": "code",
   "execution_count": 40,
   "metadata": {},
   "outputs": [
    {
     "name": "stdout",
     "output_type": "stream",
     "text": [
      "TF-IDF Naive Bayes Model\n",
      "Train score: 0.9408 \n",
      " Test score 0.8342\n"
     ]
    }
   ],
   "source": [
    "print(\"TF-IDF Naive Bayes Model\")\n",
    "\n",
    "pipe_tf_nb.fit(X_train, y_train)\n",
    "train_score_tf_nb = pipe_tf_nb.score(X_train, y_train)\n",
    "test_score_tf_nb = pipe_tf_nb.score(X_test, y_test)\n",
    "\n",
    "print(\"Train score: {} \\n Test score {}\".format(round(train_score_tf_nb,4), round(test_score_tf_nb,4)))"
   ]
  },
  {
   "cell_type": "markdown",
   "metadata": {},
   "source": [
    ">The train score increased comparing to the CountVectorizer with Logistic Regression model and model is overfit."
   ]
  },
  {
   "cell_type": "markdown",
   "metadata": {},
   "source": [
    "**TF-IDF and RandomForestClassifier model**"
   ]
  },
  {
   "cell_type": "code",
   "execution_count": 41,
   "metadata": {},
   "outputs": [],
   "source": [
    "# Define the pipeline sequence, model and parameters\n",
    "tf_rf =  [('tf',TfidfVectorizer(stop_words=frozenset(['english','python','big','data']), ngram_range=(1,2), max_features = 5_000)),\n",
    "            ('rf',RandomForestClassifier())]\n",
    "# Instantiate Pipeline\n",
    "pipe_tf_rf = Pipeline(tf_rf)"
   ]
  },
  {
   "cell_type": "code",
   "execution_count": 42,
   "metadata": {},
   "outputs": [
    {
     "name": "stdout",
     "output_type": "stream",
     "text": [
      "TF-IDF Random Forest Classifier\n",
      "Train score: 0.9966 \n",
      " Test score 0.7663\n"
     ]
    }
   ],
   "source": [
    "print(\"TF-IDF Random Forest Classifier\")\n",
    "\n",
    "pipe_tf_rf.fit(X_train, y_train)\n",
    "train_score_tf_rf = pipe_tf_rf.score(X_train, y_train)\n",
    "test_score_tf_rf = pipe_tf_rf.score(X_test, y_test)\n",
    "\n",
    "print(\"Train score: {} \\n Test score {}\".format(round(train_score_tf_rf,4), round(test_score_tf_rf,4)))"
   ]
  },
  {
   "cell_type": "markdown",
   "metadata": {},
   "source": [
    ">The train score remain the same comparing with CountVectorizer, but there is a slight drop for test score and model is overfit."
   ]
  },
  {
   "cell_type": "markdown",
   "metadata": {},
   "source": [
    "**TF-IDF and DecisionTreeClassifier model**"
   ]
  },
  {
   "cell_type": "code",
   "execution_count": 43,
   "metadata": {},
   "outputs": [],
   "source": [
    "# Define the pipeline sequence, model and parameters\n",
    "tf_tree =  [('tf',TfidfVectorizer(stop_words=frozenset(['english','python','big','data']), ngram_range=(1,2), max_features = 5_000)),\n",
    "            ('tree',DecisionTreeClassifier())]\n",
    "# Instantiate Pipeline\n",
    "pipe_tf_tree = Pipeline(tf_tree)"
   ]
  },
  {
   "cell_type": "code",
   "execution_count": 44,
   "metadata": {
    "scrolled": true
   },
   "outputs": [
    {
     "name": "stdout",
     "output_type": "stream",
     "text": [
      "TF-IDF Decision Tree Classifier\n",
      "Train score: 0.9966 \n",
      " Test score 0.6957\n"
     ]
    }
   ],
   "source": [
    "print(\"TF-IDF Decision Tree Classifier\")\n",
    "\n",
    "pipe_tf_tree.fit(X_train, y_train)\n",
    "train_score_tf_tree = pipe_tf_tree.score(X_train, y_train)\n",
    "test_score_tf_tree = pipe_tf_tree.score(X_test, y_test)\n",
    "\n",
    "print(\"Train score: {} \\n Test score {}\".format(round(train_score_tf_tree,4), round(test_score_tf_tree,4)))"
   ]
  },
  {
   "cell_type": "markdown",
   "metadata": {},
   "source": [
    ">Similar to TF-IDF Random Forest Classifier the train score remain the same comparing with CountVectorizer, but the test score had drop more and hence the worst performed model among the all models."
   ]
  },
  {
   "cell_type": "markdown",
   "metadata": {},
   "source": [
    "### 2.4 GridSearchCV"
   ]
  },
  {
   "cell_type": "markdown",
   "metadata": {},
   "source": [
    "All the benchmark models aboves were overfitted, so in order to improve the test score, we will run GridSearchCV to program multiple hyperparameters to tune the model to generate the better scoring with different combinations."
   ]
  },
  {
   "cell_type": "code",
   "execution_count": 45,
   "metadata": {},
   "outputs": [],
   "source": [
    "# Create dictionary for models\n",
    "model_dict = {\n",
    "    'cv': CountVectorizer(stop_words=frozenset(['english','python','big','data'])),\n",
    "    'tf': TfidfVectorizer(stop_words=frozenset(['english','python','big','data'])),\n",
    "    'lr': LogisticRegressionCV(solver='lbfgs', random_state =42, cv=5,max_iter=500),\n",
    "    'nb': MultinomialNB(),\n",
    "    'tree': DecisionTreeClassifier(),\n",
    "    'rf': RandomForestClassifier()\n",
    "}"
   ]
  },
  {
   "cell_type": "code",
   "execution_count": 46,
   "metadata": {},
   "outputs": [],
   "source": [
    "model_lib = {\n",
    "    'cv': 'CountVectorizer',\n",
    "    'tf': 'TfidfVectorizer',\n",
    "    'lr': 'Logistic Regression',\n",
    "    'nb': 'Multinomial NB',\n",
    "    'rf': 'Random Forest',\n",
    "    'tree': 'Decision Tree'\n",
    "}"
   ]
  },
  {
   "cell_type": "code",
   "execution_count": 47,
   "metadata": {},
   "outputs": [],
   "source": [
    "# Create dictionary for each model and classifier hyperparameters\n",
    "\n",
    "model_params ={\n",
    "    'cv': {\n",
    "        'cv__max_features': [2500, 5000],\n",
    "        'cv__min_df': [2, 3],\n",
    "        'cv__max_df': [.9, .95],\n",
    "        'cv__ngram_range': [(1,1), (1,2)]\n",
    "    },\n",
    "    'tf': {\n",
    "        'tf__max_features': [2500, 5000],\n",
    "        'tf__min_df': [2, 3],\n",
    "        'tf__max_df': [.9, .95],\n",
    "        'tf__ngram_range': [(1,1), (1,2)]\n",
    "    },\n",
    "    'lr': {},\n",
    "    'nb': {},\n",
    "    'rf': {},\n",
    "    'tree': {}\n",
    "}"
   ]
  },
  {
   "cell_type": "code",
   "execution_count": 48,
   "metadata": {},
   "outputs": [],
   "source": [
    "# Define pipeline of models\n",
    "def pipelines (models_list):\n",
    "    \n",
    "    pipe_model = [(i,model_dict[i]) for i in models_list]\n",
    "    return Pipeline(pipe_model)"
   ]
  },
  {
   "cell_type": "code",
   "execution_count": 49,
   "metadata": {},
   "outputs": [],
   "source": [
    "# Define parameters to fit into GridSearch\n",
    "def parameter(name,model_dict):\n",
    "    parameters = model_params[name]\n",
    "    for k,v in parameters.items():\n",
    "        model_dict[k] = v\n",
    "    return model_dict"
   ]
  },
  {
   "cell_type": "code",
   "execution_count": 50,
   "metadata": {},
   "outputs": [],
   "source": [
    "# Define GridSearch\n",
    "def gs(method,model,X_train=X_train,y_train=y_train,X_test=X_test,y_test=y_test):\n",
    "    pipe_param = {}\n",
    "    pipe_param = parameter(method,pipe_param)\n",
    "    pipe_param = parameter(model,pipe_param)\n",
    "    pipe = pipelines([method,model])\n",
    "    g_search = GridSearchCV(pipe,param_grid=pipe_param, cv =5)\n",
    "    g_search.fit(X_train,y_train)\n",
    "    print(f'{model_lib[model]} with {model_lib[method]}:')\n",
    "    print(f'Train Score : {round(g_search.best_estimator_.score(X_train,y_train),4)}')\n",
    "    print(f'Test Score: {round(g_search.best_estimator_.score(X_test,y_test),4)}')\n",
    "    print(f'Parameters: {g_search.best_params_}')\n",
    "    return g_search.best_estimator_.predict(X_test)"
   ]
  },
  {
   "cell_type": "markdown",
   "metadata": {},
   "source": [
    "**GridSearch of CountVectorizer**"
   ]
  },
  {
   "cell_type": "code",
   "execution_count": 51,
   "metadata": {
    "scrolled": true
   },
   "outputs": [
    {
     "name": "stderr",
     "output_type": "stream",
     "text": [
      "C:\\Users\\User\\anaconda3\\lib\\site-packages\\sklearn\\linear_model\\_logistic.py:940: ConvergenceWarning: lbfgs failed to converge (status=1):\n",
      "STOP: TOTAL NO. of ITERATIONS REACHED LIMIT.\n",
      "\n",
      "Increase the number of iterations (max_iter) or scale the data as shown in:\n",
      "    https://scikit-learn.org/stable/modules/preprocessing.html\n",
      "Please also refer to the documentation for alternative solver options:\n",
      "    https://scikit-learn.org/stable/modules/linear_model.html#logistic-regression\n",
      "  extra_warning_msg=_LOGISTIC_SOLVER_CONVERGENCE_MSG)\n",
      "C:\\Users\\User\\anaconda3\\lib\\site-packages\\sklearn\\linear_model\\_logistic.py:940: ConvergenceWarning: lbfgs failed to converge (status=1):\n",
      "STOP: TOTAL NO. of ITERATIONS REACHED LIMIT.\n",
      "\n",
      "Increase the number of iterations (max_iter) or scale the data as shown in:\n",
      "    https://scikit-learn.org/stable/modules/preprocessing.html\n",
      "Please also refer to the documentation for alternative solver options:\n",
      "    https://scikit-learn.org/stable/modules/linear_model.html#logistic-regression\n",
      "  extra_warning_msg=_LOGISTIC_SOLVER_CONVERGENCE_MSG)\n",
      "C:\\Users\\User\\anaconda3\\lib\\site-packages\\sklearn\\linear_model\\_logistic.py:940: ConvergenceWarning: lbfgs failed to converge (status=1):\n",
      "STOP: TOTAL NO. of ITERATIONS REACHED LIMIT.\n",
      "\n",
      "Increase the number of iterations (max_iter) or scale the data as shown in:\n",
      "    https://scikit-learn.org/stable/modules/preprocessing.html\n",
      "Please also refer to the documentation for alternative solver options:\n",
      "    https://scikit-learn.org/stable/modules/linear_model.html#logistic-regression\n",
      "  extra_warning_msg=_LOGISTIC_SOLVER_CONVERGENCE_MSG)\n",
      "C:\\Users\\User\\anaconda3\\lib\\site-packages\\sklearn\\linear_model\\_logistic.py:940: ConvergenceWarning: lbfgs failed to converge (status=1):\n",
      "STOP: TOTAL NO. of ITERATIONS REACHED LIMIT.\n",
      "\n",
      "Increase the number of iterations (max_iter) or scale the data as shown in:\n",
      "    https://scikit-learn.org/stable/modules/preprocessing.html\n",
      "Please also refer to the documentation for alternative solver options:\n",
      "    https://scikit-learn.org/stable/modules/linear_model.html#logistic-regression\n",
      "  extra_warning_msg=_LOGISTIC_SOLVER_CONVERGENCE_MSG)\n",
      "C:\\Users\\User\\anaconda3\\lib\\site-packages\\sklearn\\linear_model\\_logistic.py:940: ConvergenceWarning: lbfgs failed to converge (status=1):\n",
      "STOP: TOTAL NO. of ITERATIONS REACHED LIMIT.\n",
      "\n",
      "Increase the number of iterations (max_iter) or scale the data as shown in:\n",
      "    https://scikit-learn.org/stable/modules/preprocessing.html\n",
      "Please also refer to the documentation for alternative solver options:\n",
      "    https://scikit-learn.org/stable/modules/linear_model.html#logistic-regression\n",
      "  extra_warning_msg=_LOGISTIC_SOLVER_CONVERGENCE_MSG)\n",
      "C:\\Users\\User\\anaconda3\\lib\\site-packages\\sklearn\\linear_model\\_logistic.py:940: ConvergenceWarning: lbfgs failed to converge (status=1):\n",
      "STOP: TOTAL NO. of ITERATIONS REACHED LIMIT.\n",
      "\n",
      "Increase the number of iterations (max_iter) or scale the data as shown in:\n",
      "    https://scikit-learn.org/stable/modules/preprocessing.html\n",
      "Please also refer to the documentation for alternative solver options:\n",
      "    https://scikit-learn.org/stable/modules/linear_model.html#logistic-regression\n",
      "  extra_warning_msg=_LOGISTIC_SOLVER_CONVERGENCE_MSG)\n",
      "C:\\Users\\User\\anaconda3\\lib\\site-packages\\sklearn\\linear_model\\_logistic.py:940: ConvergenceWarning: lbfgs failed to converge (status=1):\n",
      "STOP: TOTAL NO. of ITERATIONS REACHED LIMIT.\n",
      "\n",
      "Increase the number of iterations (max_iter) or scale the data as shown in:\n",
      "    https://scikit-learn.org/stable/modules/preprocessing.html\n",
      "Please also refer to the documentation for alternative solver options:\n",
      "    https://scikit-learn.org/stable/modules/linear_model.html#logistic-regression\n",
      "  extra_warning_msg=_LOGISTIC_SOLVER_CONVERGENCE_MSG)\n",
      "C:\\Users\\User\\anaconda3\\lib\\site-packages\\sklearn\\linear_model\\_logistic.py:940: ConvergenceWarning: lbfgs failed to converge (status=1):\n",
      "STOP: TOTAL NO. of ITERATIONS REACHED LIMIT.\n",
      "\n",
      "Increase the number of iterations (max_iter) or scale the data as shown in:\n",
      "    https://scikit-learn.org/stable/modules/preprocessing.html\n",
      "Please also refer to the documentation for alternative solver options:\n",
      "    https://scikit-learn.org/stable/modules/linear_model.html#logistic-regression\n",
      "  extra_warning_msg=_LOGISTIC_SOLVER_CONVERGENCE_MSG)\n",
      "C:\\Users\\User\\anaconda3\\lib\\site-packages\\sklearn\\linear_model\\_logistic.py:940: ConvergenceWarning: lbfgs failed to converge (status=1):\n",
      "STOP: TOTAL NO. of ITERATIONS REACHED LIMIT.\n",
      "\n",
      "Increase the number of iterations (max_iter) or scale the data as shown in:\n",
      "    https://scikit-learn.org/stable/modules/preprocessing.html\n",
      "Please also refer to the documentation for alternative solver options:\n",
      "    https://scikit-learn.org/stable/modules/linear_model.html#logistic-regression\n",
      "  extra_warning_msg=_LOGISTIC_SOLVER_CONVERGENCE_MSG)\n",
      "C:\\Users\\User\\anaconda3\\lib\\site-packages\\sklearn\\linear_model\\_logistic.py:940: ConvergenceWarning: lbfgs failed to converge (status=1):\n",
      "STOP: TOTAL NO. of ITERATIONS REACHED LIMIT.\n",
      "\n",
      "Increase the number of iterations (max_iter) or scale the data as shown in:\n",
      "    https://scikit-learn.org/stable/modules/preprocessing.html\n",
      "Please also refer to the documentation for alternative solver options:\n",
      "    https://scikit-learn.org/stable/modules/linear_model.html#logistic-regression\n",
      "  extra_warning_msg=_LOGISTIC_SOLVER_CONVERGENCE_MSG)\n",
      "C:\\Users\\User\\anaconda3\\lib\\site-packages\\sklearn\\linear_model\\_logistic.py:940: ConvergenceWarning: lbfgs failed to converge (status=1):\n",
      "STOP: TOTAL NO. of ITERATIONS REACHED LIMIT.\n",
      "\n",
      "Increase the number of iterations (max_iter) or scale the data as shown in:\n",
      "    https://scikit-learn.org/stable/modules/preprocessing.html\n",
      "Please also refer to the documentation for alternative solver options:\n",
      "    https://scikit-learn.org/stable/modules/linear_model.html#logistic-regression\n",
      "  extra_warning_msg=_LOGISTIC_SOLVER_CONVERGENCE_MSG)\n",
      "C:\\Users\\User\\anaconda3\\lib\\site-packages\\sklearn\\linear_model\\_logistic.py:940: ConvergenceWarning: lbfgs failed to converge (status=1):\n",
      "STOP: TOTAL NO. of ITERATIONS REACHED LIMIT.\n",
      "\n",
      "Increase the number of iterations (max_iter) or scale the data as shown in:\n",
      "    https://scikit-learn.org/stable/modules/preprocessing.html\n",
      "Please also refer to the documentation for alternative solver options:\n",
      "    https://scikit-learn.org/stable/modules/linear_model.html#logistic-regression\n",
      "  extra_warning_msg=_LOGISTIC_SOLVER_CONVERGENCE_MSG)\n",
      "C:\\Users\\User\\anaconda3\\lib\\site-packages\\sklearn\\linear_model\\_logistic.py:940: ConvergenceWarning: lbfgs failed to converge (status=1):\n",
      "STOP: TOTAL NO. of ITERATIONS REACHED LIMIT.\n",
      "\n",
      "Increase the number of iterations (max_iter) or scale the data as shown in:\n",
      "    https://scikit-learn.org/stable/modules/preprocessing.html\n",
      "Please also refer to the documentation for alternative solver options:\n",
      "    https://scikit-learn.org/stable/modules/linear_model.html#logistic-regression\n",
      "  extra_warning_msg=_LOGISTIC_SOLVER_CONVERGENCE_MSG)\n",
      "C:\\Users\\User\\anaconda3\\lib\\site-packages\\sklearn\\linear_model\\_logistic.py:940: ConvergenceWarning: lbfgs failed to converge (status=1):\n",
      "STOP: TOTAL NO. of ITERATIONS REACHED LIMIT.\n",
      "\n",
      "Increase the number of iterations (max_iter) or scale the data as shown in:\n",
      "    https://scikit-learn.org/stable/modules/preprocessing.html\n",
      "Please also refer to the documentation for alternative solver options:\n",
      "    https://scikit-learn.org/stable/modules/linear_model.html#logistic-regression\n",
      "  extra_warning_msg=_LOGISTIC_SOLVER_CONVERGENCE_MSG)\n",
      "C:\\Users\\User\\anaconda3\\lib\\site-packages\\sklearn\\linear_model\\_logistic.py:940: ConvergenceWarning: lbfgs failed to converge (status=1):\n",
      "STOP: TOTAL NO. of ITERATIONS REACHED LIMIT.\n",
      "\n",
      "Increase the number of iterations (max_iter) or scale the data as shown in:\n",
      "    https://scikit-learn.org/stable/modules/preprocessing.html\n",
      "Please also refer to the documentation for alternative solver options:\n",
      "    https://scikit-learn.org/stable/modules/linear_model.html#logistic-regression\n",
      "  extra_warning_msg=_LOGISTIC_SOLVER_CONVERGENCE_MSG)\n",
      "C:\\Users\\User\\anaconda3\\lib\\site-packages\\sklearn\\linear_model\\_logistic.py:940: ConvergenceWarning: lbfgs failed to converge (status=1):\n",
      "STOP: TOTAL NO. of ITERATIONS REACHED LIMIT.\n",
      "\n",
      "Increase the number of iterations (max_iter) or scale the data as shown in:\n",
      "    https://scikit-learn.org/stable/modules/preprocessing.html\n",
      "Please also refer to the documentation for alternative solver options:\n",
      "    https://scikit-learn.org/stable/modules/linear_model.html#logistic-regression\n",
      "  extra_warning_msg=_LOGISTIC_SOLVER_CONVERGENCE_MSG)\n"
     ]
    },
    {
     "name": "stderr",
     "output_type": "stream",
     "text": [
      "C:\\Users\\User\\anaconda3\\lib\\site-packages\\sklearn\\linear_model\\_logistic.py:940: ConvergenceWarning: lbfgs failed to converge (status=1):\n",
      "STOP: TOTAL NO. of ITERATIONS REACHED LIMIT.\n",
      "\n",
      "Increase the number of iterations (max_iter) or scale the data as shown in:\n",
      "    https://scikit-learn.org/stable/modules/preprocessing.html\n",
      "Please also refer to the documentation for alternative solver options:\n",
      "    https://scikit-learn.org/stable/modules/linear_model.html#logistic-regression\n",
      "  extra_warning_msg=_LOGISTIC_SOLVER_CONVERGENCE_MSG)\n",
      "C:\\Users\\User\\anaconda3\\lib\\site-packages\\sklearn\\linear_model\\_logistic.py:940: ConvergenceWarning: lbfgs failed to converge (status=1):\n",
      "STOP: TOTAL NO. of ITERATIONS REACHED LIMIT.\n",
      "\n",
      "Increase the number of iterations (max_iter) or scale the data as shown in:\n",
      "    https://scikit-learn.org/stable/modules/preprocessing.html\n",
      "Please also refer to the documentation for alternative solver options:\n",
      "    https://scikit-learn.org/stable/modules/linear_model.html#logistic-regression\n",
      "  extra_warning_msg=_LOGISTIC_SOLVER_CONVERGENCE_MSG)\n",
      "C:\\Users\\User\\anaconda3\\lib\\site-packages\\sklearn\\linear_model\\_logistic.py:940: ConvergenceWarning: lbfgs failed to converge (status=1):\n",
      "STOP: TOTAL NO. of ITERATIONS REACHED LIMIT.\n",
      "\n",
      "Increase the number of iterations (max_iter) or scale the data as shown in:\n",
      "    https://scikit-learn.org/stable/modules/preprocessing.html\n",
      "Please also refer to the documentation for alternative solver options:\n",
      "    https://scikit-learn.org/stable/modules/linear_model.html#logistic-regression\n",
      "  extra_warning_msg=_LOGISTIC_SOLVER_CONVERGENCE_MSG)\n",
      "C:\\Users\\User\\anaconda3\\lib\\site-packages\\sklearn\\linear_model\\_logistic.py:940: ConvergenceWarning: lbfgs failed to converge (status=1):\n",
      "STOP: TOTAL NO. of ITERATIONS REACHED LIMIT.\n",
      "\n",
      "Increase the number of iterations (max_iter) or scale the data as shown in:\n",
      "    https://scikit-learn.org/stable/modules/preprocessing.html\n",
      "Please also refer to the documentation for alternative solver options:\n",
      "    https://scikit-learn.org/stable/modules/linear_model.html#logistic-regression\n",
      "  extra_warning_msg=_LOGISTIC_SOLVER_CONVERGENCE_MSG)\n",
      "C:\\Users\\User\\anaconda3\\lib\\site-packages\\sklearn\\linear_model\\_logistic.py:940: ConvergenceWarning: lbfgs failed to converge (status=1):\n",
      "STOP: TOTAL NO. of ITERATIONS REACHED LIMIT.\n",
      "\n",
      "Increase the number of iterations (max_iter) or scale the data as shown in:\n",
      "    https://scikit-learn.org/stable/modules/preprocessing.html\n",
      "Please also refer to the documentation for alternative solver options:\n",
      "    https://scikit-learn.org/stable/modules/linear_model.html#logistic-regression\n",
      "  extra_warning_msg=_LOGISTIC_SOLVER_CONVERGENCE_MSG)\n",
      "C:\\Users\\User\\anaconda3\\lib\\site-packages\\sklearn\\linear_model\\_logistic.py:940: ConvergenceWarning: lbfgs failed to converge (status=1):\n",
      "STOP: TOTAL NO. of ITERATIONS REACHED LIMIT.\n",
      "\n",
      "Increase the number of iterations (max_iter) or scale the data as shown in:\n",
      "    https://scikit-learn.org/stable/modules/preprocessing.html\n",
      "Please also refer to the documentation for alternative solver options:\n",
      "    https://scikit-learn.org/stable/modules/linear_model.html#logistic-regression\n",
      "  extra_warning_msg=_LOGISTIC_SOLVER_CONVERGENCE_MSG)\n",
      "C:\\Users\\User\\anaconda3\\lib\\site-packages\\sklearn\\linear_model\\_logistic.py:940: ConvergenceWarning: lbfgs failed to converge (status=1):\n",
      "STOP: TOTAL NO. of ITERATIONS REACHED LIMIT.\n",
      "\n",
      "Increase the number of iterations (max_iter) or scale the data as shown in:\n",
      "    https://scikit-learn.org/stable/modules/preprocessing.html\n",
      "Please also refer to the documentation for alternative solver options:\n",
      "    https://scikit-learn.org/stable/modules/linear_model.html#logistic-regression\n",
      "  extra_warning_msg=_LOGISTIC_SOLVER_CONVERGENCE_MSG)\n",
      "C:\\Users\\User\\anaconda3\\lib\\site-packages\\sklearn\\linear_model\\_logistic.py:940: ConvergenceWarning: lbfgs failed to converge (status=1):\n",
      "STOP: TOTAL NO. of ITERATIONS REACHED LIMIT.\n",
      "\n",
      "Increase the number of iterations (max_iter) or scale the data as shown in:\n",
      "    https://scikit-learn.org/stable/modules/preprocessing.html\n",
      "Please also refer to the documentation for alternative solver options:\n",
      "    https://scikit-learn.org/stable/modules/linear_model.html#logistic-regression\n",
      "  extra_warning_msg=_LOGISTIC_SOLVER_CONVERGENCE_MSG)\n",
      "C:\\Users\\User\\anaconda3\\lib\\site-packages\\sklearn\\linear_model\\_logistic.py:940: ConvergenceWarning: lbfgs failed to converge (status=1):\n",
      "STOP: TOTAL NO. of ITERATIONS REACHED LIMIT.\n",
      "\n",
      "Increase the number of iterations (max_iter) or scale the data as shown in:\n",
      "    https://scikit-learn.org/stable/modules/preprocessing.html\n",
      "Please also refer to the documentation for alternative solver options:\n",
      "    https://scikit-learn.org/stable/modules/linear_model.html#logistic-regression\n",
      "  extra_warning_msg=_LOGISTIC_SOLVER_CONVERGENCE_MSG)\n",
      "C:\\Users\\User\\anaconda3\\lib\\site-packages\\sklearn\\linear_model\\_logistic.py:940: ConvergenceWarning: lbfgs failed to converge (status=1):\n",
      "STOP: TOTAL NO. of ITERATIONS REACHED LIMIT.\n",
      "\n",
      "Increase the number of iterations (max_iter) or scale the data as shown in:\n",
      "    https://scikit-learn.org/stable/modules/preprocessing.html\n",
      "Please also refer to the documentation for alternative solver options:\n",
      "    https://scikit-learn.org/stable/modules/linear_model.html#logistic-regression\n",
      "  extra_warning_msg=_LOGISTIC_SOLVER_CONVERGENCE_MSG)\n",
      "C:\\Users\\User\\anaconda3\\lib\\site-packages\\sklearn\\linear_model\\_logistic.py:940: ConvergenceWarning: lbfgs failed to converge (status=1):\n",
      "STOP: TOTAL NO. of ITERATIONS REACHED LIMIT.\n",
      "\n",
      "Increase the number of iterations (max_iter) or scale the data as shown in:\n",
      "    https://scikit-learn.org/stable/modules/preprocessing.html\n",
      "Please also refer to the documentation for alternative solver options:\n",
      "    https://scikit-learn.org/stable/modules/linear_model.html#logistic-regression\n",
      "  extra_warning_msg=_LOGISTIC_SOLVER_CONVERGENCE_MSG)\n",
      "C:\\Users\\User\\anaconda3\\lib\\site-packages\\sklearn\\linear_model\\_logistic.py:940: ConvergenceWarning: lbfgs failed to converge (status=1):\n",
      "STOP: TOTAL NO. of ITERATIONS REACHED LIMIT.\n",
      "\n",
      "Increase the number of iterations (max_iter) or scale the data as shown in:\n",
      "    https://scikit-learn.org/stable/modules/preprocessing.html\n",
      "Please also refer to the documentation for alternative solver options:\n",
      "    https://scikit-learn.org/stable/modules/linear_model.html#logistic-regression\n",
      "  extra_warning_msg=_LOGISTIC_SOLVER_CONVERGENCE_MSG)\n",
      "C:\\Users\\User\\anaconda3\\lib\\site-packages\\sklearn\\linear_model\\_logistic.py:940: ConvergenceWarning: lbfgs failed to converge (status=1):\n",
      "STOP: TOTAL NO. of ITERATIONS REACHED LIMIT.\n",
      "\n",
      "Increase the number of iterations (max_iter) or scale the data as shown in:\n",
      "    https://scikit-learn.org/stable/modules/preprocessing.html\n",
      "Please also refer to the documentation for alternative solver options:\n",
      "    https://scikit-learn.org/stable/modules/linear_model.html#logistic-regression\n",
      "  extra_warning_msg=_LOGISTIC_SOLVER_CONVERGENCE_MSG)\n",
      "C:\\Users\\User\\anaconda3\\lib\\site-packages\\sklearn\\linear_model\\_logistic.py:940: ConvergenceWarning: lbfgs failed to converge (status=1):\n",
      "STOP: TOTAL NO. of ITERATIONS REACHED LIMIT.\n",
      "\n",
      "Increase the number of iterations (max_iter) or scale the data as shown in:\n",
      "    https://scikit-learn.org/stable/modules/preprocessing.html\n",
      "Please also refer to the documentation for alternative solver options:\n",
      "    https://scikit-learn.org/stable/modules/linear_model.html#logistic-regression\n",
      "  extra_warning_msg=_LOGISTIC_SOLVER_CONVERGENCE_MSG)\n",
      "C:\\Users\\User\\anaconda3\\lib\\site-packages\\sklearn\\linear_model\\_logistic.py:940: ConvergenceWarning: lbfgs failed to converge (status=1):\n",
      "STOP: TOTAL NO. of ITERATIONS REACHED LIMIT.\n",
      "\n",
      "Increase the number of iterations (max_iter) or scale the data as shown in:\n",
      "    https://scikit-learn.org/stable/modules/preprocessing.html\n",
      "Please also refer to the documentation for alternative solver options:\n",
      "    https://scikit-learn.org/stable/modules/linear_model.html#logistic-regression\n",
      "  extra_warning_msg=_LOGISTIC_SOLVER_CONVERGENCE_MSG)\n",
      "C:\\Users\\User\\anaconda3\\lib\\site-packages\\sklearn\\linear_model\\_logistic.py:940: ConvergenceWarning: lbfgs failed to converge (status=1):\n",
      "STOP: TOTAL NO. of ITERATIONS REACHED LIMIT.\n",
      "\n",
      "Increase the number of iterations (max_iter) or scale the data as shown in:\n",
      "    https://scikit-learn.org/stable/modules/preprocessing.html\n",
      "Please also refer to the documentation for alternative solver options:\n",
      "    https://scikit-learn.org/stable/modules/linear_model.html#logistic-regression\n",
      "  extra_warning_msg=_LOGISTIC_SOLVER_CONVERGENCE_MSG)\n"
     ]
    },
    {
     "name": "stderr",
     "output_type": "stream",
     "text": [
      "C:\\Users\\User\\anaconda3\\lib\\site-packages\\sklearn\\linear_model\\_logistic.py:940: ConvergenceWarning: lbfgs failed to converge (status=1):\n",
      "STOP: TOTAL NO. of ITERATIONS REACHED LIMIT.\n",
      "\n",
      "Increase the number of iterations (max_iter) or scale the data as shown in:\n",
      "    https://scikit-learn.org/stable/modules/preprocessing.html\n",
      "Please also refer to the documentation for alternative solver options:\n",
      "    https://scikit-learn.org/stable/modules/linear_model.html#logistic-regression\n",
      "  extra_warning_msg=_LOGISTIC_SOLVER_CONVERGENCE_MSG)\n",
      "C:\\Users\\User\\anaconda3\\lib\\site-packages\\sklearn\\linear_model\\_logistic.py:940: ConvergenceWarning: lbfgs failed to converge (status=1):\n",
      "STOP: TOTAL NO. of ITERATIONS REACHED LIMIT.\n",
      "\n",
      "Increase the number of iterations (max_iter) or scale the data as shown in:\n",
      "    https://scikit-learn.org/stable/modules/preprocessing.html\n",
      "Please also refer to the documentation for alternative solver options:\n",
      "    https://scikit-learn.org/stable/modules/linear_model.html#logistic-regression\n",
      "  extra_warning_msg=_LOGISTIC_SOLVER_CONVERGENCE_MSG)\n",
      "C:\\Users\\User\\anaconda3\\lib\\site-packages\\sklearn\\linear_model\\_logistic.py:940: ConvergenceWarning: lbfgs failed to converge (status=1):\n",
      "STOP: TOTAL NO. of ITERATIONS REACHED LIMIT.\n",
      "\n",
      "Increase the number of iterations (max_iter) or scale the data as shown in:\n",
      "    https://scikit-learn.org/stable/modules/preprocessing.html\n",
      "Please also refer to the documentation for alternative solver options:\n",
      "    https://scikit-learn.org/stable/modules/linear_model.html#logistic-regression\n",
      "  extra_warning_msg=_LOGISTIC_SOLVER_CONVERGENCE_MSG)\n",
      "C:\\Users\\User\\anaconda3\\lib\\site-packages\\sklearn\\linear_model\\_logistic.py:940: ConvergenceWarning: lbfgs failed to converge (status=1):\n",
      "STOP: TOTAL NO. of ITERATIONS REACHED LIMIT.\n",
      "\n",
      "Increase the number of iterations (max_iter) or scale the data as shown in:\n",
      "    https://scikit-learn.org/stable/modules/preprocessing.html\n",
      "Please also refer to the documentation for alternative solver options:\n",
      "    https://scikit-learn.org/stable/modules/linear_model.html#logistic-regression\n",
      "  extra_warning_msg=_LOGISTIC_SOLVER_CONVERGENCE_MSG)\n",
      "C:\\Users\\User\\anaconda3\\lib\\site-packages\\sklearn\\linear_model\\_logistic.py:940: ConvergenceWarning: lbfgs failed to converge (status=1):\n",
      "STOP: TOTAL NO. of ITERATIONS REACHED LIMIT.\n",
      "\n",
      "Increase the number of iterations (max_iter) or scale the data as shown in:\n",
      "    https://scikit-learn.org/stable/modules/preprocessing.html\n",
      "Please also refer to the documentation for alternative solver options:\n",
      "    https://scikit-learn.org/stable/modules/linear_model.html#logistic-regression\n",
      "  extra_warning_msg=_LOGISTIC_SOLVER_CONVERGENCE_MSG)\n",
      "C:\\Users\\User\\anaconda3\\lib\\site-packages\\sklearn\\linear_model\\_logistic.py:940: ConvergenceWarning: lbfgs failed to converge (status=1):\n",
      "STOP: TOTAL NO. of ITERATIONS REACHED LIMIT.\n",
      "\n",
      "Increase the number of iterations (max_iter) or scale the data as shown in:\n",
      "    https://scikit-learn.org/stable/modules/preprocessing.html\n",
      "Please also refer to the documentation for alternative solver options:\n",
      "    https://scikit-learn.org/stable/modules/linear_model.html#logistic-regression\n",
      "  extra_warning_msg=_LOGISTIC_SOLVER_CONVERGENCE_MSG)\n",
      "C:\\Users\\User\\anaconda3\\lib\\site-packages\\sklearn\\linear_model\\_logistic.py:940: ConvergenceWarning: lbfgs failed to converge (status=1):\n",
      "STOP: TOTAL NO. of ITERATIONS REACHED LIMIT.\n",
      "\n",
      "Increase the number of iterations (max_iter) or scale the data as shown in:\n",
      "    https://scikit-learn.org/stable/modules/preprocessing.html\n",
      "Please also refer to the documentation for alternative solver options:\n",
      "    https://scikit-learn.org/stable/modules/linear_model.html#logistic-regression\n",
      "  extra_warning_msg=_LOGISTIC_SOLVER_CONVERGENCE_MSG)\n",
      "C:\\Users\\User\\anaconda3\\lib\\site-packages\\sklearn\\linear_model\\_logistic.py:940: ConvergenceWarning: lbfgs failed to converge (status=1):\n",
      "STOP: TOTAL NO. of ITERATIONS REACHED LIMIT.\n",
      "\n",
      "Increase the number of iterations (max_iter) or scale the data as shown in:\n",
      "    https://scikit-learn.org/stable/modules/preprocessing.html\n",
      "Please also refer to the documentation for alternative solver options:\n",
      "    https://scikit-learn.org/stable/modules/linear_model.html#logistic-regression\n",
      "  extra_warning_msg=_LOGISTIC_SOLVER_CONVERGENCE_MSG)\n",
      "C:\\Users\\User\\anaconda3\\lib\\site-packages\\sklearn\\linear_model\\_logistic.py:940: ConvergenceWarning: lbfgs failed to converge (status=1):\n",
      "STOP: TOTAL NO. of ITERATIONS REACHED LIMIT.\n",
      "\n",
      "Increase the number of iterations (max_iter) or scale the data as shown in:\n",
      "    https://scikit-learn.org/stable/modules/preprocessing.html\n",
      "Please also refer to the documentation for alternative solver options:\n",
      "    https://scikit-learn.org/stable/modules/linear_model.html#logistic-regression\n",
      "  extra_warning_msg=_LOGISTIC_SOLVER_CONVERGENCE_MSG)\n",
      "C:\\Users\\User\\anaconda3\\lib\\site-packages\\sklearn\\linear_model\\_logistic.py:940: ConvergenceWarning: lbfgs failed to converge (status=1):\n",
      "STOP: TOTAL NO. of ITERATIONS REACHED LIMIT.\n",
      "\n",
      "Increase the number of iterations (max_iter) or scale the data as shown in:\n",
      "    https://scikit-learn.org/stable/modules/preprocessing.html\n",
      "Please also refer to the documentation for alternative solver options:\n",
      "    https://scikit-learn.org/stable/modules/linear_model.html#logistic-regression\n",
      "  extra_warning_msg=_LOGISTIC_SOLVER_CONVERGENCE_MSG)\n",
      "C:\\Users\\User\\anaconda3\\lib\\site-packages\\sklearn\\linear_model\\_logistic.py:940: ConvergenceWarning: lbfgs failed to converge (status=1):\n",
      "STOP: TOTAL NO. of ITERATIONS REACHED LIMIT.\n",
      "\n",
      "Increase the number of iterations (max_iter) or scale the data as shown in:\n",
      "    https://scikit-learn.org/stable/modules/preprocessing.html\n",
      "Please also refer to the documentation for alternative solver options:\n",
      "    https://scikit-learn.org/stable/modules/linear_model.html#logistic-regression\n",
      "  extra_warning_msg=_LOGISTIC_SOLVER_CONVERGENCE_MSG)\n",
      "C:\\Users\\User\\anaconda3\\lib\\site-packages\\sklearn\\linear_model\\_logistic.py:940: ConvergenceWarning: lbfgs failed to converge (status=1):\n",
      "STOP: TOTAL NO. of ITERATIONS REACHED LIMIT.\n",
      "\n",
      "Increase the number of iterations (max_iter) or scale the data as shown in:\n",
      "    https://scikit-learn.org/stable/modules/preprocessing.html\n",
      "Please also refer to the documentation for alternative solver options:\n",
      "    https://scikit-learn.org/stable/modules/linear_model.html#logistic-regression\n",
      "  extra_warning_msg=_LOGISTIC_SOLVER_CONVERGENCE_MSG)\n",
      "C:\\Users\\User\\anaconda3\\lib\\site-packages\\sklearn\\linear_model\\_logistic.py:940: ConvergenceWarning: lbfgs failed to converge (status=1):\n",
      "STOP: TOTAL NO. of ITERATIONS REACHED LIMIT.\n",
      "\n",
      "Increase the number of iterations (max_iter) or scale the data as shown in:\n",
      "    https://scikit-learn.org/stable/modules/preprocessing.html\n",
      "Please also refer to the documentation for alternative solver options:\n",
      "    https://scikit-learn.org/stable/modules/linear_model.html#logistic-regression\n",
      "  extra_warning_msg=_LOGISTIC_SOLVER_CONVERGENCE_MSG)\n",
      "C:\\Users\\User\\anaconda3\\lib\\site-packages\\sklearn\\linear_model\\_logistic.py:940: ConvergenceWarning: lbfgs failed to converge (status=1):\n",
      "STOP: TOTAL NO. of ITERATIONS REACHED LIMIT.\n",
      "\n",
      "Increase the number of iterations (max_iter) or scale the data as shown in:\n",
      "    https://scikit-learn.org/stable/modules/preprocessing.html\n",
      "Please also refer to the documentation for alternative solver options:\n",
      "    https://scikit-learn.org/stable/modules/linear_model.html#logistic-regression\n",
      "  extra_warning_msg=_LOGISTIC_SOLVER_CONVERGENCE_MSG)\n",
      "C:\\Users\\User\\anaconda3\\lib\\site-packages\\sklearn\\linear_model\\_logistic.py:940: ConvergenceWarning: lbfgs failed to converge (status=1):\n",
      "STOP: TOTAL NO. of ITERATIONS REACHED LIMIT.\n",
      "\n",
      "Increase the number of iterations (max_iter) or scale the data as shown in:\n",
      "    https://scikit-learn.org/stable/modules/preprocessing.html\n",
      "Please also refer to the documentation for alternative solver options:\n",
      "    https://scikit-learn.org/stable/modules/linear_model.html#logistic-regression\n",
      "  extra_warning_msg=_LOGISTIC_SOLVER_CONVERGENCE_MSG)\n",
      "C:\\Users\\User\\anaconda3\\lib\\site-packages\\sklearn\\linear_model\\_logistic.py:940: ConvergenceWarning: lbfgs failed to converge (status=1):\n",
      "STOP: TOTAL NO. of ITERATIONS REACHED LIMIT.\n",
      "\n",
      "Increase the number of iterations (max_iter) or scale the data as shown in:\n",
      "    https://scikit-learn.org/stable/modules/preprocessing.html\n",
      "Please also refer to the documentation for alternative solver options:\n",
      "    https://scikit-learn.org/stable/modules/linear_model.html#logistic-regression\n",
      "  extra_warning_msg=_LOGISTIC_SOLVER_CONVERGENCE_MSG)\n"
     ]
    },
    {
     "name": "stderr",
     "output_type": "stream",
     "text": [
      "C:\\Users\\User\\anaconda3\\lib\\site-packages\\sklearn\\linear_model\\_logistic.py:940: ConvergenceWarning: lbfgs failed to converge (status=1):\n",
      "STOP: TOTAL NO. of ITERATIONS REACHED LIMIT.\n",
      "\n",
      "Increase the number of iterations (max_iter) or scale the data as shown in:\n",
      "    https://scikit-learn.org/stable/modules/preprocessing.html\n",
      "Please also refer to the documentation for alternative solver options:\n",
      "    https://scikit-learn.org/stable/modules/linear_model.html#logistic-regression\n",
      "  extra_warning_msg=_LOGISTIC_SOLVER_CONVERGENCE_MSG)\n",
      "C:\\Users\\User\\anaconda3\\lib\\site-packages\\sklearn\\linear_model\\_logistic.py:940: ConvergenceWarning: lbfgs failed to converge (status=1):\n",
      "STOP: TOTAL NO. of ITERATIONS REACHED LIMIT.\n",
      "\n",
      "Increase the number of iterations (max_iter) or scale the data as shown in:\n",
      "    https://scikit-learn.org/stable/modules/preprocessing.html\n",
      "Please also refer to the documentation for alternative solver options:\n",
      "    https://scikit-learn.org/stable/modules/linear_model.html#logistic-regression\n",
      "  extra_warning_msg=_LOGISTIC_SOLVER_CONVERGENCE_MSG)\n",
      "C:\\Users\\User\\anaconda3\\lib\\site-packages\\sklearn\\linear_model\\_logistic.py:940: ConvergenceWarning: lbfgs failed to converge (status=1):\n",
      "STOP: TOTAL NO. of ITERATIONS REACHED LIMIT.\n",
      "\n",
      "Increase the number of iterations (max_iter) or scale the data as shown in:\n",
      "    https://scikit-learn.org/stable/modules/preprocessing.html\n",
      "Please also refer to the documentation for alternative solver options:\n",
      "    https://scikit-learn.org/stable/modules/linear_model.html#logistic-regression\n",
      "  extra_warning_msg=_LOGISTIC_SOLVER_CONVERGENCE_MSG)\n",
      "C:\\Users\\User\\anaconda3\\lib\\site-packages\\sklearn\\linear_model\\_logistic.py:940: ConvergenceWarning: lbfgs failed to converge (status=1):\n",
      "STOP: TOTAL NO. of ITERATIONS REACHED LIMIT.\n",
      "\n",
      "Increase the number of iterations (max_iter) or scale the data as shown in:\n",
      "    https://scikit-learn.org/stable/modules/preprocessing.html\n",
      "Please also refer to the documentation for alternative solver options:\n",
      "    https://scikit-learn.org/stable/modules/linear_model.html#logistic-regression\n",
      "  extra_warning_msg=_LOGISTIC_SOLVER_CONVERGENCE_MSG)\n",
      "C:\\Users\\User\\anaconda3\\lib\\site-packages\\sklearn\\linear_model\\_logistic.py:940: ConvergenceWarning: lbfgs failed to converge (status=1):\n",
      "STOP: TOTAL NO. of ITERATIONS REACHED LIMIT.\n",
      "\n",
      "Increase the number of iterations (max_iter) or scale the data as shown in:\n",
      "    https://scikit-learn.org/stable/modules/preprocessing.html\n",
      "Please also refer to the documentation for alternative solver options:\n",
      "    https://scikit-learn.org/stable/modules/linear_model.html#logistic-regression\n",
      "  extra_warning_msg=_LOGISTIC_SOLVER_CONVERGENCE_MSG)\n",
      "C:\\Users\\User\\anaconda3\\lib\\site-packages\\sklearn\\linear_model\\_logistic.py:940: ConvergenceWarning: lbfgs failed to converge (status=1):\n",
      "STOP: TOTAL NO. of ITERATIONS REACHED LIMIT.\n",
      "\n",
      "Increase the number of iterations (max_iter) or scale the data as shown in:\n",
      "    https://scikit-learn.org/stable/modules/preprocessing.html\n",
      "Please also refer to the documentation for alternative solver options:\n",
      "    https://scikit-learn.org/stable/modules/linear_model.html#logistic-regression\n",
      "  extra_warning_msg=_LOGISTIC_SOLVER_CONVERGENCE_MSG)\n",
      "C:\\Users\\User\\anaconda3\\lib\\site-packages\\sklearn\\linear_model\\_logistic.py:940: ConvergenceWarning: lbfgs failed to converge (status=1):\n",
      "STOP: TOTAL NO. of ITERATIONS REACHED LIMIT.\n",
      "\n",
      "Increase the number of iterations (max_iter) or scale the data as shown in:\n",
      "    https://scikit-learn.org/stable/modules/preprocessing.html\n",
      "Please also refer to the documentation for alternative solver options:\n",
      "    https://scikit-learn.org/stable/modules/linear_model.html#logistic-regression\n",
      "  extra_warning_msg=_LOGISTIC_SOLVER_CONVERGENCE_MSG)\n",
      "C:\\Users\\User\\anaconda3\\lib\\site-packages\\sklearn\\linear_model\\_logistic.py:940: ConvergenceWarning: lbfgs failed to converge (status=1):\n",
      "STOP: TOTAL NO. of ITERATIONS REACHED LIMIT.\n",
      "\n",
      "Increase the number of iterations (max_iter) or scale the data as shown in:\n",
      "    https://scikit-learn.org/stable/modules/preprocessing.html\n",
      "Please also refer to the documentation for alternative solver options:\n",
      "    https://scikit-learn.org/stable/modules/linear_model.html#logistic-regression\n",
      "  extra_warning_msg=_LOGISTIC_SOLVER_CONVERGENCE_MSG)\n",
      "C:\\Users\\User\\anaconda3\\lib\\site-packages\\sklearn\\linear_model\\_logistic.py:940: ConvergenceWarning: lbfgs failed to converge (status=1):\n",
      "STOP: TOTAL NO. of ITERATIONS REACHED LIMIT.\n",
      "\n",
      "Increase the number of iterations (max_iter) or scale the data as shown in:\n",
      "    https://scikit-learn.org/stable/modules/preprocessing.html\n",
      "Please also refer to the documentation for alternative solver options:\n",
      "    https://scikit-learn.org/stable/modules/linear_model.html#logistic-regression\n",
      "  extra_warning_msg=_LOGISTIC_SOLVER_CONVERGENCE_MSG)\n",
      "C:\\Users\\User\\anaconda3\\lib\\site-packages\\sklearn\\linear_model\\_logistic.py:940: ConvergenceWarning: lbfgs failed to converge (status=1):\n",
      "STOP: TOTAL NO. of ITERATIONS REACHED LIMIT.\n",
      "\n",
      "Increase the number of iterations (max_iter) or scale the data as shown in:\n",
      "    https://scikit-learn.org/stable/modules/preprocessing.html\n",
      "Please also refer to the documentation for alternative solver options:\n",
      "    https://scikit-learn.org/stable/modules/linear_model.html#logistic-regression\n",
      "  extra_warning_msg=_LOGISTIC_SOLVER_CONVERGENCE_MSG)\n",
      "C:\\Users\\User\\anaconda3\\lib\\site-packages\\sklearn\\linear_model\\_logistic.py:940: ConvergenceWarning: lbfgs failed to converge (status=1):\n",
      "STOP: TOTAL NO. of ITERATIONS REACHED LIMIT.\n",
      "\n",
      "Increase the number of iterations (max_iter) or scale the data as shown in:\n",
      "    https://scikit-learn.org/stable/modules/preprocessing.html\n",
      "Please also refer to the documentation for alternative solver options:\n",
      "    https://scikit-learn.org/stable/modules/linear_model.html#logistic-regression\n",
      "  extra_warning_msg=_LOGISTIC_SOLVER_CONVERGENCE_MSG)\n",
      "C:\\Users\\User\\anaconda3\\lib\\site-packages\\sklearn\\linear_model\\_logistic.py:940: ConvergenceWarning: lbfgs failed to converge (status=1):\n",
      "STOP: TOTAL NO. of ITERATIONS REACHED LIMIT.\n",
      "\n",
      "Increase the number of iterations (max_iter) or scale the data as shown in:\n",
      "    https://scikit-learn.org/stable/modules/preprocessing.html\n",
      "Please also refer to the documentation for alternative solver options:\n",
      "    https://scikit-learn.org/stable/modules/linear_model.html#logistic-regression\n",
      "  extra_warning_msg=_LOGISTIC_SOLVER_CONVERGENCE_MSG)\n",
      "C:\\Users\\User\\anaconda3\\lib\\site-packages\\sklearn\\linear_model\\_logistic.py:940: ConvergenceWarning: lbfgs failed to converge (status=1):\n",
      "STOP: TOTAL NO. of ITERATIONS REACHED LIMIT.\n",
      "\n",
      "Increase the number of iterations (max_iter) or scale the data as shown in:\n",
      "    https://scikit-learn.org/stable/modules/preprocessing.html\n",
      "Please also refer to the documentation for alternative solver options:\n",
      "    https://scikit-learn.org/stable/modules/linear_model.html#logistic-regression\n",
      "  extra_warning_msg=_LOGISTIC_SOLVER_CONVERGENCE_MSG)\n",
      "C:\\Users\\User\\anaconda3\\lib\\site-packages\\sklearn\\linear_model\\_logistic.py:940: ConvergenceWarning: lbfgs failed to converge (status=1):\n",
      "STOP: TOTAL NO. of ITERATIONS REACHED LIMIT.\n",
      "\n",
      "Increase the number of iterations (max_iter) or scale the data as shown in:\n",
      "    https://scikit-learn.org/stable/modules/preprocessing.html\n",
      "Please also refer to the documentation for alternative solver options:\n",
      "    https://scikit-learn.org/stable/modules/linear_model.html#logistic-regression\n",
      "  extra_warning_msg=_LOGISTIC_SOLVER_CONVERGENCE_MSG)\n",
      "C:\\Users\\User\\anaconda3\\lib\\site-packages\\sklearn\\linear_model\\_logistic.py:940: ConvergenceWarning: lbfgs failed to converge (status=1):\n",
      "STOP: TOTAL NO. of ITERATIONS REACHED LIMIT.\n",
      "\n",
      "Increase the number of iterations (max_iter) or scale the data as shown in:\n",
      "    https://scikit-learn.org/stable/modules/preprocessing.html\n",
      "Please also refer to the documentation for alternative solver options:\n",
      "    https://scikit-learn.org/stable/modules/linear_model.html#logistic-regression\n",
      "  extra_warning_msg=_LOGISTIC_SOLVER_CONVERGENCE_MSG)\n",
      "C:\\Users\\User\\anaconda3\\lib\\site-packages\\sklearn\\linear_model\\_logistic.py:940: ConvergenceWarning: lbfgs failed to converge (status=1):\n",
      "STOP: TOTAL NO. of ITERATIONS REACHED LIMIT.\n",
      "\n",
      "Increase the number of iterations (max_iter) or scale the data as shown in:\n",
      "    https://scikit-learn.org/stable/modules/preprocessing.html\n",
      "Please also refer to the documentation for alternative solver options:\n",
      "    https://scikit-learn.org/stable/modules/linear_model.html#logistic-regression\n",
      "  extra_warning_msg=_LOGISTIC_SOLVER_CONVERGENCE_MSG)\n"
     ]
    },
    {
     "name": "stderr",
     "output_type": "stream",
     "text": [
      "C:\\Users\\User\\anaconda3\\lib\\site-packages\\sklearn\\linear_model\\_logistic.py:940: ConvergenceWarning: lbfgs failed to converge (status=1):\n",
      "STOP: TOTAL NO. of ITERATIONS REACHED LIMIT.\n",
      "\n",
      "Increase the number of iterations (max_iter) or scale the data as shown in:\n",
      "    https://scikit-learn.org/stable/modules/preprocessing.html\n",
      "Please also refer to the documentation for alternative solver options:\n",
      "    https://scikit-learn.org/stable/modules/linear_model.html#logistic-regression\n",
      "  extra_warning_msg=_LOGISTIC_SOLVER_CONVERGENCE_MSG)\n",
      "C:\\Users\\User\\anaconda3\\lib\\site-packages\\sklearn\\linear_model\\_logistic.py:940: ConvergenceWarning: lbfgs failed to converge (status=1):\n",
      "STOP: TOTAL NO. of ITERATIONS REACHED LIMIT.\n",
      "\n",
      "Increase the number of iterations (max_iter) or scale the data as shown in:\n",
      "    https://scikit-learn.org/stable/modules/preprocessing.html\n",
      "Please also refer to the documentation for alternative solver options:\n",
      "    https://scikit-learn.org/stable/modules/linear_model.html#logistic-regression\n",
      "  extra_warning_msg=_LOGISTIC_SOLVER_CONVERGENCE_MSG)\n",
      "C:\\Users\\User\\anaconda3\\lib\\site-packages\\sklearn\\linear_model\\_logistic.py:940: ConvergenceWarning: lbfgs failed to converge (status=1):\n",
      "STOP: TOTAL NO. of ITERATIONS REACHED LIMIT.\n",
      "\n",
      "Increase the number of iterations (max_iter) or scale the data as shown in:\n",
      "    https://scikit-learn.org/stable/modules/preprocessing.html\n",
      "Please also refer to the documentation for alternative solver options:\n",
      "    https://scikit-learn.org/stable/modules/linear_model.html#logistic-regression\n",
      "  extra_warning_msg=_LOGISTIC_SOLVER_CONVERGENCE_MSG)\n"
     ]
    },
    {
     "name": "stdout",
     "output_type": "stream",
     "text": [
      "Logistic Regression with CountVectorizer:\n",
      "Train Score : 0.9605\n",
      "Test Score: 0.8207\n",
      "Parameters: {'cv__max_df': 0.9, 'cv__max_features': 2500, 'cv__min_df': 2, 'cv__ngram_range': (1, 1)}\n"
     ]
    },
    {
     "name": "stderr",
     "output_type": "stream",
     "text": [
      "C:\\Users\\User\\anaconda3\\lib\\site-packages\\sklearn\\linear_model\\_logistic.py:940: ConvergenceWarning: lbfgs failed to converge (status=1):\n",
      "STOP: TOTAL NO. of ITERATIONS REACHED LIMIT.\n",
      "\n",
      "Increase the number of iterations (max_iter) or scale the data as shown in:\n",
      "    https://scikit-learn.org/stable/modules/preprocessing.html\n",
      "Please also refer to the documentation for alternative solver options:\n",
      "    https://scikit-learn.org/stable/modules/linear_model.html#logistic-regression\n",
      "  extra_warning_msg=_LOGISTIC_SOLVER_CONVERGENCE_MSG)\n"
     ]
    }
   ],
   "source": [
    "cv_lr_pred = gs('cv', 'lr')"
   ]
  },
  {
   "cell_type": "code",
   "execution_count": 52,
   "metadata": {},
   "outputs": [
    {
     "name": "stdout",
     "output_type": "stream",
     "text": [
      "Multinomial NB with CountVectorizer:\n",
      "Train Score : 0.9142\n",
      "Test Score: 0.8315\n",
      "Parameters: {'cv__max_df': 0.9, 'cv__max_features': 2500, 'cv__min_df': 2, 'cv__ngram_range': (1, 1)}\n"
     ]
    }
   ],
   "source": [
    "cv_nb_pred = gs('cv', 'nb')"
   ]
  },
  {
   "cell_type": "code",
   "execution_count": 53,
   "metadata": {},
   "outputs": [
    {
     "name": "stdout",
     "output_type": "stream",
     "text": [
      "Random Forest with CountVectorizer:\n",
      "Train Score : 0.9973\n",
      "Test Score: 0.7826\n",
      "Parameters: {'cv__max_df': 0.95, 'cv__max_features': 5000, 'cv__min_df': 2, 'cv__ngram_range': (1, 1)}\n"
     ]
    }
   ],
   "source": [
    "cv_rf_pred = gs('cv', 'rf')"
   ]
  },
  {
   "cell_type": "code",
   "execution_count": 54,
   "metadata": {},
   "outputs": [
    {
     "name": "stdout",
     "output_type": "stream",
     "text": [
      "Decision Tree with CountVectorizer:\n",
      "Train Score : 0.9966\n",
      "Test Score: 0.7337\n",
      "Parameters: {'cv__max_df': 0.95, 'cv__max_features': 5000, 'cv__min_df': 2, 'cv__ngram_range': (1, 2)}\n"
     ]
    }
   ],
   "source": [
    "cv_tree_pred = gs('cv', 'tree')"
   ]
  },
  {
   "cell_type": "markdown",
   "metadata": {},
   "source": [
    ">Comparing the results for the 4 models above, the CountVectorize with Multinomial Naive Bayes perform the best among the 4 models. Next we try to compare the scoring with GridSearch of TF-IDF models."
   ]
  },
  {
   "cell_type": "markdown",
   "metadata": {},
   "source": [
    "**GridSearch of TF-IDF**"
   ]
  },
  {
   "cell_type": "code",
   "execution_count": 55,
   "metadata": {},
   "outputs": [
    {
     "name": "stdout",
     "output_type": "stream",
     "text": [
      "Logistic Regression with TfidfVectorizer:\n",
      "Train Score : 0.9694\n",
      "Test Score: 0.8478\n",
      "Parameters: {'tf__max_df': 0.9, 'tf__max_features': 5000, 'tf__min_df': 3, 'tf__ngram_range': (1, 2)}\n"
     ]
    }
   ],
   "source": [
    "tf_lr_pred = gs('tf', 'lr')"
   ]
  },
  {
   "cell_type": "code",
   "execution_count": 56,
   "metadata": {},
   "outputs": [
    {
     "name": "stdout",
     "output_type": "stream",
     "text": [
      "Multinomial NB with TfidfVectorizer:\n",
      "Train Score : 0.9258\n",
      "Test Score: 0.8505\n",
      "Parameters: {'tf__max_df': 0.9, 'tf__max_features': 2500, 'tf__min_df': 3, 'tf__ngram_range': (1, 1)}\n"
     ]
    }
   ],
   "source": [
    "tf_nb_pred = gs('tf', 'nb')"
   ]
  },
  {
   "cell_type": "code",
   "execution_count": 57,
   "metadata": {},
   "outputs": [
    {
     "name": "stdout",
     "output_type": "stream",
     "text": [
      "Random Forest with TfidfVectorizer:\n",
      "Train Score : 0.9966\n",
      "Test Score: 0.7663\n",
      "Parameters: {'tf__max_df': 0.9, 'tf__max_features': 2500, 'tf__min_df': 3, 'tf__ngram_range': (1, 1)}\n"
     ]
    }
   ],
   "source": [
    "tf_rf_pred = gs('tf', 'rf')"
   ]
  },
  {
   "cell_type": "code",
   "execution_count": 58,
   "metadata": {},
   "outputs": [
    {
     "name": "stdout",
     "output_type": "stream",
     "text": [
      "Decision Tree with TfidfVectorizer:\n",
      "Train Score : 0.9966\n",
      "Test Score: 0.6902\n",
      "Parameters: {'tf__max_df': 0.95, 'tf__max_features': 5000, 'tf__min_df': 3, 'tf__ngram_range': (1, 2)}\n"
     ]
    }
   ],
   "source": [
    "tf_tree_pred = gs('tf', 'tree')"
   ]
  },
  {
   "cell_type": "markdown",
   "metadata": {},
   "source": [
    ">After comparing 4 TF-IDF models above with the Countvectorizer models, the scorings are similar that the NaiveBayes classfier scored better. In the conclusion, the CountVectorizer and TF-IDF with Multinomial Naive Bayes Classifier as the best model among the 8 models, so we will chose 1 of the model for next evaluation."
   ]
  },
  {
   "cell_type": "markdown",
   "metadata": {},
   "source": [
    "## 3. Evaluation and Conceptual Understanding"
   ]
  },
  {
   "cell_type": "markdown",
   "metadata": {},
   "source": [
    "In this case, I will chose CountVectorizer with Multinomial Naive Bayes Classifier for evaluation because comparing to the TF-IDF model the scoring are quite similar."
   ]
  },
  {
   "cell_type": "code",
   "execution_count": 59,
   "metadata": {},
   "outputs": [
    {
     "name": "stdout",
     "output_type": "stream",
     "text": [
      "              precision    recall  f1-score   support\n",
      "\n",
      "    r/Python       0.81      0.84      0.82       173\n",
      "   r/bigdata       0.85      0.83      0.84       195\n",
      "\n",
      "    accuracy                           0.83       368\n",
      "   macro avg       0.83      0.83      0.83       368\n",
      "weighted avg       0.83      0.83      0.83       368\n",
      "\n"
     ]
    }
   ],
   "source": [
    "print(classification_report(y_test, cv_nb_pred, target_names=['r/Python','r/bigdata']))"
   ]
  },
  {
   "cell_type": "markdown",
   "metadata": {},
   "source": [
    "**Comparing with TF-IDF with Multinomial NaiveBayes Classification**"
   ]
  },
  {
   "cell_type": "code",
   "execution_count": 60,
   "metadata": {},
   "outputs": [
    {
     "name": "stdout",
     "output_type": "stream",
     "text": [
      "              precision    recall  f1-score   support\n",
      "\n",
      "    r/Python       0.83      0.86      0.84       173\n",
      "   r/bigdata       0.87      0.85      0.86       195\n",
      "\n",
      "    accuracy                           0.85       368\n",
      "   macro avg       0.85      0.85      0.85       368\n",
      "weighted avg       0.85      0.85      0.85       368\n",
      "\n"
     ]
    }
   ],
   "source": [
    "print(classification_report(y_test, tf_nb_pred, target_names=['r/Python','r/bigdata']))"
   ]
  },
  {
   "cell_type": "markdown",
   "metadata": {},
   "source": [
    ">The classifications report of Multinomial Naive Bayes Classifier ,so we proceed with TF-IDF with Multinomial NaiveBayes Classifier as our model."
   ]
  },
  {
   "cell_type": "markdown",
   "metadata": {},
   "source": [
    "### 3.1 Confusion Matrix"
   ]
  },
  {
   "cell_type": "code",
   "execution_count": 80,
   "metadata": {},
   "outputs": [
    {
     "data": {
      "text/plain": [
       "array([[148,  25],\n",
       "       [ 30, 165]], dtype=int64)"
      ]
     },
     "execution_count": 80,
     "metadata": {},
     "output_type": "execute_result"
    }
   ],
   "source": [
    "cm = confusion_matrix(y_test, tf_nb_pred)\n",
    "cm"
   ]
  },
  {
   "cell_type": "code",
   "execution_count": 81,
   "metadata": {},
   "outputs": [
    {
     "data": {
      "text/html": [
       "<div>\n",
       "<style scoped>\n",
       "    .dataframe tbody tr th:only-of-type {\n",
       "        vertical-align: middle;\n",
       "    }\n",
       "\n",
       "    .dataframe tbody tr th {\n",
       "        vertical-align: top;\n",
       "    }\n",
       "\n",
       "    .dataframe thead th {\n",
       "        text-align: right;\n",
       "    }\n",
       "</style>\n",
       "<table border=\"1\" class=\"dataframe\">\n",
       "  <thead>\n",
       "    <tr style=\"text-align: right;\">\n",
       "      <th></th>\n",
       "      <th>pred r/Python</th>\n",
       "      <th>pred r/bigdata</th>\n",
       "    </tr>\n",
       "  </thead>\n",
       "  <tbody>\n",
       "    <tr>\n",
       "      <th>actual r/Python</th>\n",
       "      <td>148</td>\n",
       "      <td>25</td>\n",
       "    </tr>\n",
       "    <tr>\n",
       "      <th>actual r/bigdata</th>\n",
       "      <td>30</td>\n",
       "      <td>165</td>\n",
       "    </tr>\n",
       "  </tbody>\n",
       "</table>\n",
       "</div>"
      ],
      "text/plain": [
       "                  pred r/Python  pred r/bigdata\n",
       "actual r/Python             148              25\n",
       "actual r/bigdata             30             165"
      ]
     },
     "execution_count": 81,
     "metadata": {},
     "output_type": "execute_result"
    }
   ],
   "source": [
    "cm_df = pd.DataFrame(cm, columns=['pred r/Python', 'pred r/bigdata'], index=['actual r/Python', 'actual r/bigdata'])\n",
    "cm_df"
   ]
  },
  {
   "cell_type": "code",
   "execution_count": 82,
   "metadata": {},
   "outputs": [
    {
     "name": "stdout",
     "output_type": "stream",
     "text": [
      "True Negatives: 148\n",
      "\n",
      "False Positives: 25\n",
      "\n",
      "False Negatives: 30\n",
      "\n",
      "True Positives: 165\n"
     ]
    }
   ],
   "source": [
    "tn, fp, fn, tp = confusion_matrix(y_test, tf_nb_pred).ravel()\n",
    "print(\"True Negatives: \" + str(tn))\n",
    "print()\n",
    "print(\"False Positives: \" + str(fp))\n",
    "print()\n",
    "print(\"False Negatives: \" + str(fn))\n",
    "print()\n",
    "print(\"True Positives: \" + str(tp))"
   ]
  },
  {
   "cell_type": "code",
   "execution_count": 83,
   "metadata": {},
   "outputs": [
    {
     "name": "stdout",
     "output_type": "stream",
     "text": [
      "Accuracy: 0.8505\n",
      "Misclassification rate: 0.1495\n",
      "Precision: 0.8684\n",
      "Recall: 0.8462\n",
      "Specificity: 0.8555\n"
     ]
    }
   ],
   "source": [
    "print('Accuracy: {}'.format(round((tp+tn)/(tp+fp+tn+fn),4)))\n",
    "print('Misclassification rate: {}'.format(round((fp+fn)/(tp+fp+tn+fn),4)))\n",
    "print('Precision: {}'.format(round(tp/(tp+fp),4)))\n",
    "print('Recall: {}'.format(round(tp/(tp+fn),4)))\n",
    "print('Specificity: {}'.format(round(tn/(tn+fp),4)))"
   ]
  },
  {
   "cell_type": "markdown",
   "metadata": {},
   "source": [
    "### 3.2 Receiver Operating Characteristic (ROC) Curve & Area Under Curve (AUC)"
   ]
  },
  {
   "cell_type": "code",
   "execution_count": 84,
   "metadata": {},
   "outputs": [],
   "source": [
    "nb = MultinomialNB()\n",
    "tf = TfidfVectorizer(stop_words=frozenset(['english','python','big','data']))"
   ]
  },
  {
   "cell_type": "code",
   "execution_count": 85,
   "metadata": {},
   "outputs": [
    {
     "data": {
      "text/plain": [
       "MultinomialNB(alpha=1.0, class_prior=None, fit_prior=True)"
      ]
     },
     "execution_count": 85,
     "metadata": {},
     "output_type": "execute_result"
    }
   ],
   "source": [
    "X_train_tf = tf.fit_transform(X_train)\n",
    "X_test_tf = tf.transform(X_test)\n",
    "\n",
    "nb.fit(X_train_tf,y_train)"
   ]
  },
  {
   "cell_type": "code",
   "execution_count": 86,
   "metadata": {},
   "outputs": [],
   "source": [
    "nb.predict_proba(X_test_cv)[:5]\n",
    "pred_proba = [i[1] for i in nb.predict_proba(X_test_tf)]\n",
    "\n",
    "pred_df = pd.DataFrame({'true_values': y_test,\n",
    "                        'pred_probs':pred_proba})"
   ]
  },
  {
   "cell_type": "code",
   "execution_count": 87,
   "metadata": {},
   "outputs": [
    {
     "data": {
      "text/html": [
       "<div>\n",
       "<style scoped>\n",
       "    .dataframe tbody tr th:only-of-type {\n",
       "        vertical-align: middle;\n",
       "    }\n",
       "\n",
       "    .dataframe tbody tr th {\n",
       "        vertical-align: top;\n",
       "    }\n",
       "\n",
       "    .dataframe thead th {\n",
       "        text-align: right;\n",
       "    }\n",
       "</style>\n",
       "<table border=\"1\" class=\"dataframe\">\n",
       "  <thead>\n",
       "    <tr style=\"text-align: right;\">\n",
       "      <th></th>\n",
       "      <th>true_values</th>\n",
       "      <th>pred_probs</th>\n",
       "    </tr>\n",
       "  </thead>\n",
       "  <tbody>\n",
       "    <tr>\n",
       "      <th>224</th>\n",
       "      <td>1</td>\n",
       "      <td>0.282474</td>\n",
       "    </tr>\n",
       "    <tr>\n",
       "      <th>330</th>\n",
       "      <td>0</td>\n",
       "      <td>0.107090</td>\n",
       "    </tr>\n",
       "    <tr>\n",
       "      <th>731</th>\n",
       "      <td>1</td>\n",
       "      <td>0.636542</td>\n",
       "    </tr>\n",
       "    <tr>\n",
       "      <th>378</th>\n",
       "      <td>1</td>\n",
       "      <td>0.544048</td>\n",
       "    </tr>\n",
       "    <tr>\n",
       "      <th>458</th>\n",
       "      <td>0</td>\n",
       "      <td>0.059750</td>\n",
       "    </tr>\n",
       "  </tbody>\n",
       "</table>\n",
       "</div>"
      ],
      "text/plain": [
       "     true_values  pred_probs\n",
       "224            1    0.282474\n",
       "330            0    0.107090\n",
       "731            1    0.636542\n",
       "378            1    0.544048\n",
       "458            0    0.059750"
      ]
     },
     "execution_count": 87,
     "metadata": {},
     "output_type": "execute_result"
    }
   ],
   "source": [
    "pred_df.head()"
   ]
  },
  {
   "cell_type": "code",
   "execution_count": 88,
   "metadata": {},
   "outputs": [
    {
     "data": {
      "text/plain": [
       "0.9296576256113829"
      ]
     },
     "execution_count": 88,
     "metadata": {},
     "output_type": "execute_result"
    }
   ],
   "source": [
    "#get the roc_auc_score\n",
    "roc_auc= roc_auc_score(pred_df['true_values'], pred_df['pred_probs'])\n",
    "roc_auc"
   ]
  },
  {
   "cell_type": "code",
   "execution_count": 89,
   "metadata": {},
   "outputs": [
    {
     "data": {
      "image/png": "[encoded data removed]",
      "text/plain": [
       "<Figure size 720x504 with 1 Axes>"
      ]
     },
     "metadata": {},
     "output_type": "display_data"
    }
   ],
   "source": [
    "# Create figure.\n",
    "plt.figure(figsize = (10,7))\n",
    "\n",
    "# Create threshold values. (Dashed red line in image.)\n",
    "thresholds = np.linspace(0, 1, 200)\n",
    "\n",
    "# Define function to calculate sensitivity. (True positive rate.)\n",
    "def TPR(df, true_col, pred_prob_col, threshold):\n",
    "    true_positive = df[(df[true_col] == 1) & (df[pred_prob_col] >= threshold)].shape[0]\n",
    "    false_negative = df[(df[true_col] == 1) & (df[pred_prob_col] < threshold)].shape[0]\n",
    "    return true_positive / (true_positive + false_negative)\n",
    "    \n",
    "\n",
    "# Define function to calculate 1 - specificity. (False positive rate.)\n",
    "def FPR(df, true_col, pred_prob_col, threshold):\n",
    "    true_negative = df[(df[true_col] == 0) & (df[pred_prob_col] <= threshold)].shape[0]\n",
    "    false_positive = df[(df[true_col] == 0) & (df[pred_prob_col] > threshold)].shape[0]\n",
    "    return 1 - (true_negative / (true_negative + false_positive))\n",
    "    \n",
    "# Calculate sensitivity & 1-specificity for each threshold between 0 and 1.\n",
    "tpr_values = [TPR(pred_df, 'true_values', 'pred_probs', prob) for prob in thresholds]\n",
    "fpr_values = [FPR(pred_df, 'true_values', 'pred_probs', prob) for prob in thresholds]\n",
    "\n",
    "# Plot ROC curve.\n",
    "plt.plot(fpr_values, # False Positive Rate on X-axis\n",
    "         tpr_values, # True Positive Rate on Y-axis\n",
    "         label='ROC Curve')\n",
    "\n",
    "# Plot baseline. (Perfect overlap between the two populations.)\n",
    "plt.plot(np.linspace(0, 1, 200),\n",
    "         np.linspace(0, 1, 200),\n",
    "         label='baseline',\n",
    "         linestyle='--')\n",
    "\n",
    "# Label axes.\n",
    "plt.title(f'ROC Curve with AUC = {round(roc_auc_score(pred_df[\"true_values\"], pred_df[\"pred_probs\"]),3)}', fontsize=22)\n",
    "plt.ylabel('Sensitivity', fontsize=18)\n",
    "plt.xlabel('1 - Specificity', fontsize=18)\n",
    "\n",
    "# Create legend.\n",
    "plt.legend(fontsize=16);"
   ]
  },
  {
   "cell_type": "markdown",
   "metadata": {},
   "source": [
    "## 3.3 Missclassification"
   ]
  },
  {
   "cell_type": "code",
   "execution_count": 90,
   "metadata": {},
   "outputs": [
    {
     "name": "stdout",
     "output_type": "stream",
     "text": [
      "  install    a popular python   on   \n",
      "--------------------\n",
      "pipenv v      b   first release in over   years \n",
      "--------------------\n",
      "input   output in python    school \n",
      "--------------------\n",
      "realtime vehicle   with opencv in    minutes \n",
      "--------------------\n",
      "python   python     is now available \n",
      "--------------------\n",
      "i wrote a new ui framework   by flutter \n",
      "--------------------\n",
      "python release python    rc  \n",
      "--------------------\n",
      "python community interview with christopher bailey – real python \n",
      "--------------------\n",
      "python   survey      results \n",
      "--------------------\n",
      "our journey to type checking   million lines of python \n",
      "--------------------\n",
      "python x lotf \n",
      "--------------------\n",
      "online course   can anyone   an online courseprofessional certification in   analytics using python im   in learning   analytics tools for lean management   any   is much    pm\n",
      "--------------------\n",
      "heap      structures  algorithmpython   \n",
      "--------------------\n",
      "    rgbw strips \n",
      "--------------------\n",
      "for anyone trying to   their skills from python into   science   machine learning look no further \n",
      "--------------------\n",
      "learnt a lot of technologies   concepts how   i now get into the   hi guys  i currently work as a   intern in some startup where i use sql   python now for a year when i apply for jobs   they see one job on my cv the recruiter says i’m too junior   they are quick to sweep me by given the volume of applicants i have been learning software   over a year – i have a   a lot of   using many concepts – machine learning   rest api   azure server scripting   js nosql aws ssh   visualisation     i also have a   in maths   how can i get into the   where many applicants where the people with       jobs on their cv get   pick even if the technologies they   is   where on the contrary someone with   year experience but with using the latest     technologies are most often  \n",
      "--------------------\n",
      "how to get stock     with python this post talks about how to   company     with python   pe ratios ps ratios balance sheets   income statements  \n",
      "--------------------\n",
      "my reaction to     the performance of python \n",
      "--------------------\n",
      "overview of pynq project offering fpga capabilities to python     engineers \n",
      "--------------------\n",
      "    the performance of python \n",
      "--------------------\n",
      "i   a generative colorful solar system \n",
      "--------------------\n",
      "best machine learning courses to learn \n",
      "--------------------\n",
      "new to python i am an   for business analytics tho my course has stats   excel   in future we might have python for analytics   i am  new to programming    i   like to start learning python early so i can be fluent by feb what   i start with how many hours   i practice   what   i practice\n",
      "--------------------\n",
      "an actual history of python on   \n",
      "--------------------\n",
      "lorenz system  python simulation the lorenz system is a system of   first   by   it is notable for having   solutions for certain parameter values   initial   in particular the lorenz attractor is a set of chaotic solutions of the lorenz system in popular   the   stems from the   implications of the lorenz attractor ie that in any physical system in the absence of perfect   of the initial   even the minuscule   of the air   to a butterfly flapping its wings our ability to   its future course will always fail this   that physical systems can be completely     yet still be inherently   even in the absence of quantum effects the shape of the lorenz attractor itself when   graphically may also be seen to resemble a butterfly  this is the python simulation i was   if any of you can explain to me what exactly this      x   b  \n",
      "--------------------\n",
      "example recursive select in sqlalchemy \n",
      "--------------------\n",
      "i   publicly   stock   by us senators if you   sen angus kings strategy you   have   the market by about     since      \n",
      "--------------------\n",
      "implementing grpc server using python \n",
      "--------------------\n"
     ]
    }
   ],
   "source": [
    "# Examine incorrectly classified posts\n",
    "y_pred = cv_nb_pred\n",
    "df_pred = pd.DataFrame({\n",
    "    'X_test': X_test,\n",
    "    'y_test': y_test,\n",
    "    'y_pred': y_pred\n",
    "})\n",
    "\n",
    "# Posts incorrectly predicted to be in /r/Python\n",
    "for i in df_pred[(df_pred.y_test - df_pred.y_pred) == -1]['X_test']:\n",
    "    print(i)\n",
    "    print('-'*20)"
   ]
  },
  {
   "cell_type": "code",
   "execution_count": 91,
   "metadata": {
    "scrolled": false
   },
   "outputs": [
    {
     "name": "stdout",
     "output_type": "stream",
     "text": [
      "best “     ” tools free hey everyone i’m currently using   to mine analyse   visualise   i’m quite   with it but i was   if there’s better free softwares tools than this one which  ’t   any programming   to operate   so any suggestions   be great help thanks\n",
      "------------------------------------------------------------------------------------------------------------------------------------------------------\n",
      "  is making its online ai crash course free to the   \n",
      "------------------------------------------------------------------------------------------------------------------------------------------------------\n",
      "is it possible to execute queries to   fusing vba   if so how  thank you\n",
      "------------------------------------------------------------------------------------------------------------------------------------------------------\n",
      "an open source stack   version control   cortex for managing        stepbystep tutorial \n",
      "------------------------------------------------------------------------------------------------------------------------------------------------------\n",
      "how to use mobile big   analysis for   stayathome control \n",
      "------------------------------------------------------------------------------------------------------------------------------------------------------\n",
      "big   was a mistake – wisecrack   \n",
      "------------------------------------------------------------------------------------------------------------------------------------------------------\n",
      "  for git noobs   is a sql   with git versioning     semantics  i just   a blog     that explains the basics of versioning branching   merging so anyone without prior git   can get   using       the blog also   a stepbystep tutorial of how to create a simple   repository that uses versioning branching   merging to facilitate open collaboration on     also check out   it hosts a number of   open     the most comprehensive     available  thanks\n",
      "------------------------------------------------------------------------------------------------------------------------------------------------------\n",
      "  help in converting timestamp having   to unix timestamp unix epoch in         bigint  in hive hi everyone i was working on a manual source ingestion   came across this scenario where the timestamp has to be   to unix timestamp format  which is of bigint    i   unixtimestamptimestampcolname to convert it   please notethe timestamp format was this   hhmmsssss   the above function   value as a      bigint which is a unix timestamp in     but i   the unix timestamp as a      bigint which is in     any help folks i   all ways possible   i’m stuck\n",
      "------------------------------------------------------------------------------------------------------------------------------------------------------\n",
      "john carmack is planning to create general ai \n",
      "------------------------------------------------------------------------------------------------------------------------------------------------------\n",
      "    analyzing     of posts for a    a pubic   of posts about moral   from ramitheasshole \n",
      "------------------------------------------------------------------------------------------------------------------------------------------------------\n",
      "small   a new   revolution \n",
      "------------------------------------------------------------------------------------------------------------------------------------------------------\n",
      "supercomputing the   of the coronavirus in busy   spaces \n",
      "------------------------------------------------------------------------------------------------------------------------------------------------------\n",
      "  quickstart vms missing hi all  i was trying to get   quickstart vm but it seems they are not available anymore   anyone have the  vm   anywhere   can share i   want the     vm tia\n",
      "------------------------------------------------------------------------------------------------------------------------------------------------------\n",
      "what is anomaly     why you   it \n",
      "------------------------------------------------------------------------------------------------------------------------------------------------------\n",
      "how fast   big   change planning on taking a course     years ago hello title says it all  i want to get to know the big     not becoming an expert just learning about it   be able to work in projects   grow my   if i like the   the thing is i   a course that looks interesting   it takes a couple of months or three to complete but it was   in        i   if the technologies   have   enough to be   to take the course or it is fine   i   learn the basis anyway    someone   me in what path to follow here  the series of courses im planning on taking are the specialization in big   from the university of california san   in the coursera platform   thanks for any help you   give me in this topic\n",
      "------------------------------------------------------------------------------------------------------------------------------------------------------\n",
      "    in xray images \n",
      "------------------------------------------------------------------------------------------------------------------------------------------------------\n",
      "how   a consumer receive a message from a message broker \n",
      "------------------------------------------------------------------------------------------------------------------------------------------------------\n",
      "python programming language is   better than other languages    \n",
      "------------------------------------------------------------------------------------------------------------------------------------------------------\n",
      "where to start in big   i am a   of web     big   has caught my attention i want to start learning big   where   i start\n",
      "------------------------------------------------------------------------------------------------------------------------------------------------------\n",
      "is taking input from   a way   the only way to implement a streaming system is it correct that a stream processing system is   as a system which takes   input  i can write a program that takes input from its     then in bash i can run the program with     input to its   is taking input from   a way   the only way to implement a streaming system\n",
      "------------------------------------------------------------------------------------------------------------------------------------------------------\n",
      "this professor says weve been looking at the coronavirus   wrong \n",
      "------------------------------------------------------------------------------------------------------------------------------------------------------\n",
      "how to use big   for improving   safety  acuvate \n",
      "------------------------------------------------------------------------------------------------------------------------------------------------------\n",
      "anyone       hey yall my org is         were approaching a     been hyping it up for a while now im even getting   for it on youtube   just love to hear if it has met your expectations thanks\n",
      "------------------------------------------------------------------------------------------------------------------------------------------------------\n",
      "looking for a   set with   repeatable report hello im a ai    looking for a   set for an assignment  i   to   a   paperreport that uses a   set as part of some    my goal is then to get the same   set   recreate what was   in the report  im looking for a pretty simple   that uses something such as a ffnn  linear regression    that i can the work with in r  has anyone got any inspiration for me  cheers in    c\n",
      "------------------------------------------------------------------------------------------------------------------------------------------------------\n",
      "multi matrix   learning with gpus \n",
      "------------------------------------------------------------------------------------------------------------------------------------------------------\n",
      "how   management   be like   a car from a to b point \n",
      "------------------------------------------------------------------------------------------------------------------------------------------------------\n",
      "what is anomaly     why you   it \n",
      "------------------------------------------------------------------------------------------------------------------------------------------------------\n",
      "corporate   for big   company tips hi there so im an communications intern at a big   analytics   training company ive been   to make a corporate   for the company  its my first week   i am still very much   witg the big     but i was still sought out for some reason  any   on how i   structutr the  \n",
      "------------------------------------------------------------------------------------------------------------------------------------------------------\n",
      "how to get your     game on with   \n",
      "------------------------------------------------------------------------------------------------------------------------------------------------------\n",
      "alteryx   capabilities when we got alteryx a few years ago we thought that bespoke packages in r   python were the way to go for really high performing     packages on alteryx were just alright  but now i am thinking that the python jupyter tool can potentially change that   love to hear thoughts from you guys   girls\n",
      "------------------------------------------------------------------------------------------------------------------------------------------------------\n",
      "how google is teaching a robot   to learn to move like a real   \n",
      "------------------------------------------------------------------------------------------------------------------------------------------------------\n",
      "what is canonical url   why it is so important \n",
      "------------------------------------------------------------------------------------------------------------------------------------------------------\n",
      "what is   how is     from   it \n",
      "------------------------------------------------------------------------------------------------------------------------------------------------------\n",
      "top    most     games \n",
      "------------------------------------------------------------------------------------------------------------------------------------------------------\n"
     ]
    }
   ],
   "source": [
    "\n",
    "# Explore /r/bigdata posts that are incorrectly predicted to /r/Python\n",
    "for i in df_pred[(df_pred.y_test - df_pred.y_pred) == 1]['X_test']:\n",
    "    print(i)\n",
    "    print('-'*150)"
   ]
  },
  {
   "cell_type": "markdown",
   "metadata": {},
   "source": [
    ">Refering to both sets of data of the wrong predicted data, the reason that the posts might be missclassified were due to:\n",
    "1. The user might post in the subrredit topic in either one of subreddit, this will happen because both Python and Bigdata subreddit were related topics.\n",
    "2. The post is related to both topics, so the post can be classified in either subreddit."
   ]
  },
  {
   "cell_type": "markdown",
   "metadata": {},
   "source": [
    "## 4. Conclusion and Recommendations"
   ]
  },
  {
   "cell_type": "markdown",
   "metadata": {},
   "source": [
    "The Multinomial Naive Bayes with Countvectorizer perform well with accuracy score at 85%, even though both subreddits were related.\n",
    "This project can be further improve by expand the scopes to include following steps:\n",
    "- Collect more subreddits post from both subreddits topics\n",
    "- Not to drop duplicates of the same user id, drop the similar post instead\n",
    "- Tuning the parameters of each model to acheive better scores, however this will required a long amount of time for computer to tune and compile the best parameters.\n",
    "- Consider others classifiers such as Adaboost, Gradientboost, etc.\n",
    "- Stop word to reduce to only 'english', even thought the title of the subreddit will the the word which occur most frequent in the end to lower the overfit of the data."
   ]
  }
 ],
 "metadata": {
  "kernelspec": {
   "display_name": "Python 3",
   "language": "python",
   "name": "python3"
  },
  "language_info": {
   "codemirror_mode": {
    "name": "ipython",
    "version": 3
   },
   "file_extension": ".py",
   "mimetype": "text/x-python",
   "name": "python",
   "nbconvert_exporter": "python",
   "pygments_lexer": "ipython3",
   "version": "3.7.6"
  },
  "widgets": {
   "application/vnd.jupyter.widget-state+json": {
    "state": {},
    "version_major": 2,
    "version_minor": 0
   }
  }
 },
 "nbformat": 4,
 "nbformat_minor": 4
}

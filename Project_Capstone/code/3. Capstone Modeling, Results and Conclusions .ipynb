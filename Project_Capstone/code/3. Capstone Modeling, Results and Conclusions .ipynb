{
 "cells": [
  {
   "cell_type": "markdown",
   "metadata": {},
   "source": [
    "# Capstone Project : NBA Player Analysis and Hall Of Fame Predictions\n",
    "By Chan Song Yuan SG-DSI-14"
   ]
  },
  {
   "cell_type": "markdown",
   "metadata": {},
   "source": [
    "## Notebook 3. Modeling, Results and Conclusions"
   ]
  },
  {
   "cell_type": "markdown",
   "metadata": {},
   "source": [
    "## Table of Contents\n",
    "\n",
    "- [1.Import Data](#1.-Import-Data)<br>\n",
    "- [2. Data Train Test Spliting](#2.-Data-Train-Test-Spliting)<br>\n",
    "- [3. Modeling](#3.-Modeling)<br>\n",
    "    - [3.1 Modeling With Hyperparameter Tuning](#3.1-Modeling-With-Hyperparameter-Tuning)<br>\n",
    "    - [3.2 Comparing Models Results With Best Hyperparameters](#3.2-Comparing-Models-Results-With-Best-Hyperparameters)<br>\n",
    "- [4. Conclusion & Recommendation](#4.-Conclusion-&-Recommendation)<br>"
   ]
  },
  {
   "cell_type": "code",
   "execution_count": 53,
   "metadata": {},
   "outputs": [],
   "source": [
    "import numpy as np\n",
    "import pandas as pd\n",
    "\n",
    "import chart_studio\n",
    "chart_studio.tools.set_credentials_file(username='songyuan89', api_key='2meHLg87R2tzuGwUHL84')\n",
    "import chart_studio.plotly as py\n",
    "import plotly.graph_objects as go\n",
    "import plotly.express as px\n",
    "\n",
    "from sklearn.pipeline import Pipeline\n",
    "from sklearn.preprocessing import StandardScaler\n",
    "from sklearn.naive_bayes import MultinomialNB\n",
    "from sklearn.tree import DecisionTreeClassifier\n",
    "from sklearn.ensemble import RandomForestClassifier,AdaBoostClassifier\n",
    "from sklearn.model_selection import GridSearchCV\n",
    "from xgboost import XGBClassifier\n",
    "\n",
    "pd.set_option('display.max_columns',None) \n",
    "pd.set_option('display.max_rows',100)\n",
    "\n",
    "import os\n",
    "\n",
    "%matplotlib inline"
   ]
  },
  {
   "cell_type": "markdown",
   "metadata": {},
   "source": [
    "## 1. Import Data"
   ]
  },
  {
   "cell_type": "code",
   "execution_count": 26,
   "metadata": {},
   "outputs": [],
   "source": [
    "df_career = pd.read_csv('../datasets/df_career.csv')"
   ]
  },
  {
   "cell_type": "markdown",
   "metadata": {},
   "source": [
    "## 2. Data Train Test Spliting"
   ]
  },
  {
   "cell_type": "code",
   "execution_count": 3,
   "metadata": {},
   "outputs": [],
   "source": [
    "# Drop 'Player' column for modeling\n",
    "df_career = df_career.drop(['Player'], axis=1)"
   ]
  },
  {
   "cell_type": "code",
   "execution_count": 4,
   "metadata": {},
   "outputs": [],
   "source": [
    "# Train Test Spliting\n",
    "# Train data will consist of Player who already retired in  1997 *taking Michael Jordan retire year\n",
    "# Test data will consist of Player who still playing after 1997\n",
    "\n",
    "train = df_career[(df_career['Last_Season'] <= 1997) | (df_career['HOF'] == 1)]\n",
    "test = df_career[(df_career['Last_Season'] > 1997) & (df_career['HOF'] == 0)]"
   ]
  },
  {
   "cell_type": "code",
   "execution_count": 5,
   "metadata": {},
   "outputs": [
    {
     "data": {
      "text/plain": [
       "0.0    312\n",
       "1.0     68\n",
       "Name: HOF, dtype: int64"
      ]
     },
     "execution_count": 5,
     "metadata": {},
     "output_type": "execute_result"
    }
   ],
   "source": [
    "train['HOF'].value_counts()"
   ]
  },
  {
   "cell_type": "code",
   "execution_count": 6,
   "metadata": {},
   "outputs": [
    {
     "data": {
      "text/html": [
       "<div>\n",
       "<style scoped>\n",
       "    .dataframe tbody tr th:only-of-type {\n",
       "        vertical-align: middle;\n",
       "    }\n",
       "\n",
       "    .dataframe tbody tr th {\n",
       "        vertical-align: top;\n",
       "    }\n",
       "\n",
       "    .dataframe thead th {\n",
       "        text-align: right;\n",
       "    }\n",
       "</style>\n",
       "<table border=\"1\" class=\"dataframe\">\n",
       "  <thead>\n",
       "    <tr style=\"text-align: right;\">\n",
       "      <th></th>\n",
       "      <th>Unnamed: 0</th>\n",
       "      <th>id</th>\n",
       "      <th>PER</th>\n",
       "      <th>TS%</th>\n",
       "      <th>OWS</th>\n",
       "      <th>DWS</th>\n",
       "      <th>WS</th>\n",
       "      <th>WS/48</th>\n",
       "      <th>OBPM</th>\n",
       "      <th>DBPM</th>\n",
       "      <th>BPM</th>\n",
       "      <th>FG%</th>\n",
       "      <th>3P%</th>\n",
       "      <th>2P%</th>\n",
       "      <th>eFG%</th>\n",
       "      <th>FT%</th>\n",
       "      <th>PPG</th>\n",
       "      <th>APG</th>\n",
       "      <th>RPG</th>\n",
       "      <th>SPG</th>\n",
       "      <th>BPG</th>\n",
       "      <th>HOF</th>\n",
       "      <th>MVP_Counts</th>\n",
       "      <th>Champions_Winners</th>\n",
       "      <th>season</th>\n",
       "      <th>Last_Season</th>\n",
       "      <th>Total_PTS</th>\n",
       "    </tr>\n",
       "  </thead>\n",
       "  <tbody>\n",
       "    <tr>\n",
       "      <th>1</th>\n",
       "      <td>2</td>\n",
       "      <td>58</td>\n",
       "      <td>18.526316</td>\n",
       "      <td>0.581474</td>\n",
       "      <td>5.873684</td>\n",
       "      <td>1.757895</td>\n",
       "      <td>7.642105</td>\n",
       "      <td>0.149263</td>\n",
       "      <td>4.205263</td>\n",
       "      <td>-1.247368</td>\n",
       "      <td>2.952632</td>\n",
       "      <td>0.451842</td>\n",
       "      <td>0.398000</td>\n",
       "      <td>0.488579</td>\n",
       "      <td>0.532158</td>\n",
       "      <td>0.896526</td>\n",
       "      <td>19.124945</td>\n",
       "      <td>3.452787</td>\n",
       "      <td>4.118728</td>\n",
       "      <td>1.137763</td>\n",
       "      <td>0.185133</td>\n",
       "      <td>0.0</td>\n",
       "      <td>0</td>\n",
       "      <td>2</td>\n",
       "      <td>18</td>\n",
       "      <td>2014.0</td>\n",
       "      <td>24505.0</td>\n",
       "    </tr>\n",
       "    <tr>\n",
       "      <th>2</th>\n",
       "      <td>3</td>\n",
       "      <td>146</td>\n",
       "      <td>13.837500</td>\n",
       "      <td>0.537250</td>\n",
       "      <td>2.300000</td>\n",
       "      <td>1.162500</td>\n",
       "      <td>3.437500</td>\n",
       "      <td>0.094500</td>\n",
       "      <td>0.812500</td>\n",
       "      <td>-2.625000</td>\n",
       "      <td>-1.837500</td>\n",
       "      <td>0.395500</td>\n",
       "      <td>0.368000</td>\n",
       "      <td>0.412000</td>\n",
       "      <td>0.475750</td>\n",
       "      <td>0.857125</td>\n",
       "      <td>10.214707</td>\n",
       "      <td>4.143085</td>\n",
       "      <td>1.836157</td>\n",
       "      <td>0.607843</td>\n",
       "      <td>0.035776</td>\n",
       "      <td>0.0</td>\n",
       "      <td>0</td>\n",
       "      <td>0</td>\n",
       "      <td>9</td>\n",
       "      <td>2017.0</td>\n",
       "      <td>6214.0</td>\n",
       "    </tr>\n",
       "    <tr>\n",
       "      <th>3</th>\n",
       "      <td>5</td>\n",
       "      <td>204</td>\n",
       "      <td>13.145455</td>\n",
       "      <td>0.544455</td>\n",
       "      <td>1.663636</td>\n",
       "      <td>1.954545</td>\n",
       "      <td>3.627273</td>\n",
       "      <td>0.098909</td>\n",
       "      <td>0.463636</td>\n",
       "      <td>0.818182</td>\n",
       "      <td>1.290909</td>\n",
       "      <td>0.436545</td>\n",
       "      <td>0.333455</td>\n",
       "      <td>0.525455</td>\n",
       "      <td>0.515545</td>\n",
       "      <td>0.754636</td>\n",
       "      <td>8.902484</td>\n",
       "      <td>1.966323</td>\n",
       "      <td>4.905326</td>\n",
       "      <td>0.800149</td>\n",
       "      <td>0.533846</td>\n",
       "      <td>0.0</td>\n",
       "      <td>0</td>\n",
       "      <td>1</td>\n",
       "      <td>14</td>\n",
       "      <td>2017.0</td>\n",
       "      <td>7589.0</td>\n",
       "    </tr>\n",
       "    <tr>\n",
       "      <th>5</th>\n",
       "      <td>9</td>\n",
       "      <td>454</td>\n",
       "      <td>14.680000</td>\n",
       "      <td>0.538000</td>\n",
       "      <td>2.740000</td>\n",
       "      <td>2.820000</td>\n",
       "      <td>5.540000</td>\n",
       "      <td>0.134400</td>\n",
       "      <td>0.260000</td>\n",
       "      <td>1.800000</td>\n",
       "      <td>2.040000</td>\n",
       "      <td>0.493600</td>\n",
       "      <td>0.246800</td>\n",
       "      <td>0.518200</td>\n",
       "      <td>0.505800</td>\n",
       "      <td>0.661600</td>\n",
       "      <td>9.659802</td>\n",
       "      <td>2.125249</td>\n",
       "      <td>3.340584</td>\n",
       "      <td>1.480879</td>\n",
       "      <td>0.298635</td>\n",
       "      <td>0.0</td>\n",
       "      <td>0</td>\n",
       "      <td>0</td>\n",
       "      <td>8</td>\n",
       "      <td>2012.0</td>\n",
       "      <td>3940.0</td>\n",
       "    </tr>\n",
       "    <tr>\n",
       "      <th>6</th>\n",
       "      <td>11</td>\n",
       "      <td>490</td>\n",
       "      <td>12.625000</td>\n",
       "      <td>0.513750</td>\n",
       "      <td>1.175000</td>\n",
       "      <td>1.600000</td>\n",
       "      <td>2.750000</td>\n",
       "      <td>0.088000</td>\n",
       "      <td>-0.650000</td>\n",
       "      <td>-0.450000</td>\n",
       "      <td>-1.125000</td>\n",
       "      <td>0.411250</td>\n",
       "      <td>0.342000</td>\n",
       "      <td>0.441250</td>\n",
       "      <td>0.463000</td>\n",
       "      <td>0.771250</td>\n",
       "      <td>8.495222</td>\n",
       "      <td>1.867410</td>\n",
       "      <td>3.220451</td>\n",
       "      <td>0.637647</td>\n",
       "      <td>0.149215</td>\n",
       "      <td>0.0</td>\n",
       "      <td>0</td>\n",
       "      <td>2</td>\n",
       "      <td>8</td>\n",
       "      <td>2008.0</td>\n",
       "      <td>3352.0</td>\n",
       "    </tr>\n",
       "  </tbody>\n",
       "</table>\n",
       "</div>"
      ],
      "text/plain": [
       "   Unnamed: 0   id        PER       TS%       OWS       DWS        WS  \\\n",
       "1           2   58  18.526316  0.581474  5.873684  1.757895  7.642105   \n",
       "2           3  146  13.837500  0.537250  2.300000  1.162500  3.437500   \n",
       "3           5  204  13.145455  0.544455  1.663636  1.954545  3.627273   \n",
       "5           9  454  14.680000  0.538000  2.740000  2.820000  5.540000   \n",
       "6          11  490  12.625000  0.513750  1.175000  1.600000  2.750000   \n",
       "\n",
       "      WS/48      OBPM      DBPM       BPM       FG%       3P%       2P%  \\\n",
       "1  0.149263  4.205263 -1.247368  2.952632  0.451842  0.398000  0.488579   \n",
       "2  0.094500  0.812500 -2.625000 -1.837500  0.395500  0.368000  0.412000   \n",
       "3  0.098909  0.463636  0.818182  1.290909  0.436545  0.333455  0.525455   \n",
       "5  0.134400  0.260000  1.800000  2.040000  0.493600  0.246800  0.518200   \n",
       "6  0.088000 -0.650000 -0.450000 -1.125000  0.411250  0.342000  0.441250   \n",
       "\n",
       "       eFG%       FT%        PPG       APG       RPG       SPG       BPG  HOF  \\\n",
       "1  0.532158  0.896526  19.124945  3.452787  4.118728  1.137763  0.185133  0.0   \n",
       "2  0.475750  0.857125  10.214707  4.143085  1.836157  0.607843  0.035776  0.0   \n",
       "3  0.515545  0.754636   8.902484  1.966323  4.905326  0.800149  0.533846  0.0   \n",
       "5  0.505800  0.661600   9.659802  2.125249  3.340584  1.480879  0.298635  0.0   \n",
       "6  0.463000  0.771250   8.495222  1.867410  3.220451  0.637647  0.149215  0.0   \n",
       "\n",
       "   MVP_Counts  Champions_Winners  season  Last_Season  Total_PTS  \n",
       "1           0                  2      18       2014.0    24505.0  \n",
       "2           0                  0       9       2017.0     6214.0  \n",
       "3           0                  1      14       2017.0     7589.0  \n",
       "5           0                  0       8       2012.0     3940.0  \n",
       "6           0                  2       8       2008.0     3352.0  "
      ]
     },
     "execution_count": 6,
     "metadata": {},
     "output_type": "execute_result"
    }
   ],
   "source": [
    "test.head()"
   ]
  },
  {
   "cell_type": "code",
   "execution_count": 7,
   "metadata": {},
   "outputs": [
    {
     "data": {
      "text/plain": [
       "0.0    533\n",
       "Name: HOF, dtype: int64"
      ]
     },
     "execution_count": 7,
     "metadata": {},
     "output_type": "execute_result"
    }
   ],
   "source": [
    "test['HOF'].value_counts()"
   ]
  },
  {
   "cell_type": "code",
   "execution_count": 8,
   "metadata": {},
   "outputs": [
    {
     "name": "stdout",
     "output_type": "stream",
     "text": [
      "Train data: (380, 27)\n",
      "Test data: (533, 27)\n"
     ]
    }
   ],
   "source": [
    "print('Train data:', train.shape)\n",
    "print('Test data:', test.shape)"
   ]
  },
  {
   "cell_type": "code",
   "execution_count": 9,
   "metadata": {},
   "outputs": [],
   "source": [
    "# Target Variable = HOF, so drop column HOF from X_train & X_test\n",
    "\n",
    "X_train = train.drop('HOF', axis=1)\n",
    "X_test = test.drop('HOF', axis =1)\n",
    "y_train = train['HOF']\n",
    "y_test = test['HOF']"
   ]
  },
  {
   "cell_type": "code",
   "execution_count": 10,
   "metadata": {},
   "outputs": [
    {
     "name": "stdout",
     "output_type": "stream",
     "text": [
      "Train data: (380, 26)\n",
      "Train data: (533, 26)\n",
      "Test data: (380,)\n"
     ]
    }
   ],
   "source": [
    "print('Train data:', X_train.shape)\n",
    "print('Train data:', X_test.shape)\n",
    "print('Test data:', y_train.shape)"
   ]
  },
  {
   "cell_type": "markdown",
   "metadata": {},
   "source": [
    "## 3. Modeling "
   ]
  },
  {
   "cell_type": "markdown",
   "metadata": {},
   "source": [
    "### 3.1 Modeling With Hyperparameter Tuning"
   ]
  },
  {
   "cell_type": "code",
   "execution_count": 11,
   "metadata": {},
   "outputs": [],
   "source": [
    "model_dict = {\n",
    "    \n",
    "    'ss' : StandardScaler(),\n",
    "    'dt': DecisionTreeClassifier(random_state=42),\n",
    "    'rf': RandomForestClassifier(random_state=42),\n",
    "    'ada': AdaBoostClassifier(random_state=42),\n",
    "    'xg' : XGBClassifier(random_state=42,eval_metric='auc')\n",
    "}"
   ]
  },
  {
   "cell_type": "code",
   "execution_count": 12,
   "metadata": {},
   "outputs": [],
   "source": [
    "model_lib = {\n",
    "    \n",
    "    'ss' : 'StandardScaler',\n",
    "    'rf': 'Random Forest',\n",
    "    'dt': 'Decision Tree',\n",
    "    'ada' : 'AdaBoost Classifier',\n",
    "    'xg' : 'XGBoost Classifier'\n",
    "}"
   ]
  },
  {
   "cell_type": "code",
   "execution_count": 13,
   "metadata": {},
   "outputs": [],
   "source": [
    "# Create dictionary for each model and classifier hyperparameters\n",
    "\n",
    "model_params ={\n",
    "    \n",
    "    'ss':{},\n",
    "    'rf': {\n",
    "        'rf__n_estimators': [1_000,10_000],\n",
    "        'rf__max_depth': [1,2,3],\n",
    "        'rf__min_samples_leaf': [1,2,3],\n",
    "        'rf__max_leaf_nodes': [2,3]\n",
    "    },\n",
    "    'dt': {\n",
    "        'dt__max_depth': [5,10,15],\n",
    "        'dt__min_samples_split': [5,10,15,20],\n",
    "        'dt__min_samples_leaf': [2,3,4]\n",
    "    },\n",
    "    'ada': {\n",
    "        'ada__n_estimators': [1_000,10_000],\n",
    "        'ada__learning_rate': [0.7,0.9,1.0]\n",
    "    },\n",
    "    'xg' :{\n",
    "        \n",
    "        'xg__learning_rate' :[0.6,0.7,0.8]\n",
    "\n",
    "}\n",
    "}"
   ]
  },
  {
   "cell_type": "code",
   "execution_count": 14,
   "metadata": {},
   "outputs": [],
   "source": [
    "# Define pipeline of models\n",
    "def pipelines (models_list):\n",
    "    \n",
    "    pipe_model = [(i,model_dict[i]) for i in models_list]\n",
    "    return Pipeline(pipe_model)"
   ]
  },
  {
   "cell_type": "code",
   "execution_count": 15,
   "metadata": {},
   "outputs": [],
   "source": [
    "# Define parameters to fit into GridSearch\n",
    "def parameter(name,model_dict):\n",
    "    parameters = model_params[name]\n",
    "    for k,v in parameters.items():\n",
    "        model_dict[k] = v\n",
    "    return model_dict"
   ]
  },
  {
   "cell_type": "code",
   "execution_count": 16,
   "metadata": {},
   "outputs": [],
   "source": [
    "# Define GridSearch\n",
    "def gs(method,model,X_train=X_train,y_train=y_train,X_test=X_test):\n",
    "    pipe_param = {}\n",
    "    pipe_param = parameter(method,pipe_param)\n",
    "    pipe_param = parameter(model,pipe_param)\n",
    "    pipe = pipelines([method,model])\n",
    "    g_search = GridSearchCV(pipe,param_grid=pipe_param, cv =5)\n",
    "    g_search.fit(X_train,y_train)\n",
    "    print(f'{model_lib[model]} with {model_lib[method]}:')\n",
    "    print(f'Train Score : {round(g_search.best_estimator_.score(X_train,y_train),4)}')\n",
    "    print(f'Parameters: {g_search.best_params_}')\n",
    "    return g_search.best_estimator_.predict(X_test)"
   ]
  },
  {
   "cell_type": "markdown",
   "metadata": {},
   "source": [
    "**Random Forest Classifier + Grid Search**"
   ]
  },
  {
   "cell_type": "code",
   "execution_count": 17,
   "metadata": {},
   "outputs": [
    {
     "name": "stdout",
     "output_type": "stream",
     "text": [
      "Random Forest with StandardScaler:\n",
      "Train Score : 0.9105\n",
      "Parameters: {'rf__max_depth': 2, 'rf__max_leaf_nodes': 3, 'rf__min_samples_leaf': 1, 'rf__n_estimators': 10000}\n"
     ]
    }
   ],
   "source": [
    "rf_pred = gs('ss', 'rf')"
   ]
  },
  {
   "cell_type": "markdown",
   "metadata": {},
   "source": [
    "**AdaBoost Classifier + Grid Search**"
   ]
  },
  {
   "cell_type": "code",
   "execution_count": 18,
   "metadata": {},
   "outputs": [
    {
     "name": "stdout",
     "output_type": "stream",
     "text": [
      "AdaBoost Classifier with StandardScaler:\n",
      "Train Score : 1.0\n",
      "Parameters: {'ada__learning_rate': 0.7, 'ada__n_estimators': 10000}\n"
     ]
    }
   ],
   "source": [
    "ada_pred = gs('ss', 'ada')"
   ]
  },
  {
   "cell_type": "markdown",
   "metadata": {},
   "source": [
    "**XGBoost Classifier + Grid Search**"
   ]
  },
  {
   "cell_type": "code",
   "execution_count": 19,
   "metadata": {},
   "outputs": [
    {
     "name": "stdout",
     "output_type": "stream",
     "text": [
      "XGBoost Classifier with StandardScaler:\n",
      "Train Score : 1.0\n",
      "Parameters: {'xg__learning_rate': 0.6}\n"
     ]
    }
   ],
   "source": [
    "xg_pred = gs('ss', 'xg')"
   ]
  },
  {
   "cell_type": "markdown",
   "metadata": {},
   "source": [
    "### 3.2 Comparing Models Results With Best Hyperparameters"
   ]
  },
  {
   "cell_type": "code",
   "execution_count": 20,
   "metadata": {},
   "outputs": [],
   "source": [
    "ss = StandardScaler()"
   ]
  },
  {
   "cell_type": "code",
   "execution_count": 21,
   "metadata": {},
   "outputs": [],
   "source": [
    "X_train_sc = ss.fit_transform(X_train)\n",
    "X_test_sc = ss.transform(X_test)"
   ]
  },
  {
   "cell_type": "markdown",
   "metadata": {},
   "source": [
    "**Random Forest Classfication**"
   ]
  },
  {
   "cell_type": "code",
   "execution_count": 22,
   "metadata": {},
   "outputs": [
    {
     "name": "stdout",
     "output_type": "stream",
     "text": [
      "Random Forest Model Score: 0.9105\n",
      "------------------------------\n",
      "[[0.26266822 0.73733178]\n",
      " [0.81824982 0.18175018]\n",
      " [0.80650486 0.19349514]\n",
      " ...\n",
      " [0.6845739  0.3154261 ]\n",
      " [0.68560469 0.31439531]\n",
      " [0.86466161 0.13533839]]\n"
     ]
    }
   ],
   "source": [
    "# Instantiate Random Forest\n",
    "rf = RandomForestClassifier(n_estimators = 10000,max_depth=2, max_leaf_nodes=3,min_samples_leaf=1)\n",
    "rf.fit(X_train, y_train)\n",
    "prediction = rf.predict(X_test)\n",
    "rf_score = rf.score(X_train, y_train)\n",
    "pred_proba = rf.predict_proba(X_test)\n",
    "print('Random Forest Model Score:',round(rf_score,4))\n",
    "print('------------------------------')\n",
    "print(pred_proba)"
   ]
  },
  {
   "cell_type": "code",
   "execution_count": 23,
   "metadata": {},
   "outputs": [],
   "source": [
    "y_test = []\n",
    "for i in enumerate(pred_proba):\n",
    "    y_test.append(i[1][1])\n",
    "y_test = np.asarray(y_test)\n"
   ]
  },
  {
   "cell_type": "code",
   "execution_count": 24,
   "metadata": {},
   "outputs": [],
   "source": [
    "results = pd.DataFrame({\n",
    "    \"id\": test[\"id\"],\n",
    "    \"HOF\": y_test\n",
    "    })"
   ]
  },
  {
   "cell_type": "code",
   "execution_count": 27,
   "metadata": {},
   "outputs": [],
   "source": [
    "players = df_career[['id', 'Player']]\n",
    "results = players.merge(results, on='id')"
   ]
  },
  {
   "cell_type": "code",
   "execution_count": 28,
   "metadata": {
    "scrolled": false
   },
   "outputs": [
    {
     "data": {
      "text/html": [
       "<div>\n",
       "<style scoped>\n",
       "    .dataframe tbody tr th:only-of-type {\n",
       "        vertical-align: middle;\n",
       "    }\n",
       "\n",
       "    .dataframe tbody tr th {\n",
       "        vertical-align: top;\n",
       "    }\n",
       "\n",
       "    .dataframe thead th {\n",
       "        text-align: right;\n",
       "    }\n",
       "</style>\n",
       "<table border=\"1\" class=\"dataframe\">\n",
       "  <thead>\n",
       "    <tr style=\"text-align: right;\">\n",
       "      <th></th>\n",
       "      <th>Player</th>\n",
       "      <th>HOF</th>\n",
       "    </tr>\n",
       "    <tr>\n",
       "      <th>id</th>\n",
       "      <th></th>\n",
       "      <th></th>\n",
       "    </tr>\n",
       "  </thead>\n",
       "  <tbody>\n",
       "    <tr>\n",
       "      <th>2943</th>\n",
       "      <td>LeBron James</td>\n",
       "      <td>0.829534</td>\n",
       "    </tr>\n",
       "    <tr>\n",
       "      <th>2625</th>\n",
       "      <td>Dirk Nowitzki</td>\n",
       "      <td>0.818191</td>\n",
       "    </tr>\n",
       "    <tr>\n",
       "      <th>3219</th>\n",
       "      <td>Kevin Durant</td>\n",
       "      <td>0.807564</td>\n",
       "    </tr>\n",
       "    <tr>\n",
       "      <th>2455</th>\n",
       "      <td>Kobe Bryant</td>\n",
       "      <td>0.796548</td>\n",
       "    </tr>\n",
       "    <tr>\n",
       "      <th>2534</th>\n",
       "      <td>Tim Duncan</td>\n",
       "      <td>0.794496</td>\n",
       "    </tr>\n",
       "    <tr>\n",
       "      <th>2400</th>\n",
       "      <td>Kevin Garnett</td>\n",
       "      <td>0.789097</td>\n",
       "    </tr>\n",
       "    <tr>\n",
       "      <th>3095</th>\n",
       "      <td>Chris Paul</td>\n",
       "      <td>0.752076</td>\n",
       "    </tr>\n",
       "    <tr>\n",
       "      <th>2629</th>\n",
       "      <td>Paul Pierce</td>\n",
       "      <td>0.751899</td>\n",
       "    </tr>\n",
       "    <tr>\n",
       "      <th>2554</th>\n",
       "      <td>Tracy McGrady</td>\n",
       "      <td>0.749821</td>\n",
       "    </tr>\n",
       "    <tr>\n",
       "      <th>3324</th>\n",
       "      <td>Russell Westbrook</td>\n",
       "      <td>0.739049</td>\n",
       "    </tr>\n",
       "    <tr>\n",
       "      <th>58</th>\n",
       "      <td>Ray Allen</td>\n",
       "      <td>0.737332</td>\n",
       "    </tr>\n",
       "    <tr>\n",
       "      <th>2807</th>\n",
       "      <td>Pau Gasol</td>\n",
       "      <td>0.725139</td>\n",
       "    </tr>\n",
       "    <tr>\n",
       "      <th>2906</th>\n",
       "      <td>Carmelo Anthony</td>\n",
       "      <td>0.689502</td>\n",
       "    </tr>\n",
       "    <tr>\n",
       "      <th>2999</th>\n",
       "      <td>Dwight Howard</td>\n",
       "      <td>0.676795</td>\n",
       "    </tr>\n",
       "    <tr>\n",
       "      <th>2490</th>\n",
       "      <td>Steve Nash</td>\n",
       "      <td>0.673197</td>\n",
       "    </tr>\n",
       "    <tr>\n",
       "      <th>2915</th>\n",
       "      <td>Chris Bosh</td>\n",
       "      <td>0.672489</td>\n",
       "    </tr>\n",
       "    <tr>\n",
       "      <th>2485</th>\n",
       "      <td>Stephon Marbury</td>\n",
       "      <td>0.660598</td>\n",
       "    </tr>\n",
       "    <tr>\n",
       "      <th>3342</th>\n",
       "      <td>Stephen Curry</td>\n",
       "      <td>0.656834</td>\n",
       "    </tr>\n",
       "    <tr>\n",
       "      <th>3342</th>\n",
       "      <td>Willie Reed</td>\n",
       "      <td>0.656834</td>\n",
       "    </tr>\n",
       "    <tr>\n",
       "      <th>2522</th>\n",
       "      <td>Chauncey Billups</td>\n",
       "      <td>0.653814</td>\n",
       "    </tr>\n",
       "  </tbody>\n",
       "</table>\n",
       "</div>"
      ],
      "text/plain": [
       "                 Player       HOF\n",
       "id                               \n",
       "2943       LeBron James  0.829534\n",
       "2625      Dirk Nowitzki  0.818191\n",
       "3219       Kevin Durant  0.807564\n",
       "2455        Kobe Bryant  0.796548\n",
       "2534         Tim Duncan  0.794496\n",
       "2400      Kevin Garnett  0.789097\n",
       "3095         Chris Paul  0.752076\n",
       "2629        Paul Pierce  0.751899\n",
       "2554      Tracy McGrady  0.749821\n",
       "3324  Russell Westbrook  0.739049\n",
       "58            Ray Allen  0.737332\n",
       "2807          Pau Gasol  0.725139\n",
       "2906    Carmelo Anthony  0.689502\n",
       "2999      Dwight Howard  0.676795\n",
       "2490         Steve Nash  0.673197\n",
       "2915         Chris Bosh  0.672489\n",
       "2485    Stephon Marbury  0.660598\n",
       "3342      Stephen Curry  0.656834\n",
       "3342        Willie Reed  0.656834\n",
       "2522   Chauncey Billups  0.653814"
      ]
     },
     "execution_count": 28,
     "metadata": {},
     "output_type": "execute_result"
    }
   ],
   "source": [
    "results  = results.sort_values(by='HOF', ascending=False)\n",
    "results = results.set_index('id')\n",
    "results.head(20)"
   ]
  },
  {
   "cell_type": "markdown",
   "metadata": {},
   "source": [
    "**AdaBoost Classifier**"
   ]
  },
  {
   "cell_type": "code",
   "execution_count": 29,
   "metadata": {},
   "outputs": [
    {
     "name": "stdout",
     "output_type": "stream",
     "text": [
      "AdaBoost Model Score: 1.0\n",
      "------------------------------\n",
      "[[0.46296092 0.53703908]\n",
      " [0.4893291  0.5106709 ]\n",
      " [0.50839544 0.49160456]\n",
      " ...\n",
      " [0.50522556 0.49477444]\n",
      " [0.5052286  0.4947714 ]\n",
      " [0.49889649 0.50110351]]\n"
     ]
    }
   ],
   "source": [
    "# Instantiate AdaBoost Classifier\n",
    "ada = AdaBoostClassifier(learning_rate= 0.7, n_estimators = 10000)\n",
    "ada.fit(X_train, y_train)\n",
    "prediction = ada.predict(X_test)\n",
    "ada_score = ada.score(X_train, y_train)\n",
    "pred_proba = ada.predict_proba(X_test)\n",
    "print('AdaBoost Model Score:',round(ada_score,4))\n",
    "print('------------------------------')\n",
    "print(pred_proba)"
   ]
  },
  {
   "cell_type": "code",
   "execution_count": 30,
   "metadata": {},
   "outputs": [],
   "source": [
    "y_test = []\n",
    "for i in enumerate(pred_proba):\n",
    "    y_test.append(i[1][1])\n",
    "y_test = np.asarray(y_test)\n"
   ]
  },
  {
   "cell_type": "code",
   "execution_count": 31,
   "metadata": {},
   "outputs": [],
   "source": [
    "results = pd.DataFrame({\n",
    "    \"id\": test[\"id\"],\n",
    "    \"HOF\": y_test\n",
    "    })"
   ]
  },
  {
   "cell_type": "code",
   "execution_count": 32,
   "metadata": {},
   "outputs": [],
   "source": [
    "players = df_career[['id', 'Player']]\n",
    "results = players.merge(results, on='id')"
   ]
  },
  {
   "cell_type": "code",
   "execution_count": 33,
   "metadata": {
    "scrolled": false
   },
   "outputs": [
    {
     "data": {
      "text/html": [
       "<div>\n",
       "<style scoped>\n",
       "    .dataframe tbody tr th:only-of-type {\n",
       "        vertical-align: middle;\n",
       "    }\n",
       "\n",
       "    .dataframe tbody tr th {\n",
       "        vertical-align: top;\n",
       "    }\n",
       "\n",
       "    .dataframe thead th {\n",
       "        text-align: right;\n",
       "    }\n",
       "</style>\n",
       "<table border=\"1\" class=\"dataframe\">\n",
       "  <thead>\n",
       "    <tr style=\"text-align: right;\">\n",
       "      <th></th>\n",
       "      <th>Player</th>\n",
       "      <th>HOF</th>\n",
       "    </tr>\n",
       "    <tr>\n",
       "      <th>id</th>\n",
       "      <th></th>\n",
       "      <th></th>\n",
       "    </tr>\n",
       "  </thead>\n",
       "  <tbody>\n",
       "    <tr>\n",
       "      <th>2534</th>\n",
       "      <td>Tim Duncan</td>\n",
       "      <td>0.620322</td>\n",
       "    </tr>\n",
       "    <tr>\n",
       "      <th>2400</th>\n",
       "      <td>Kevin Garnett</td>\n",
       "      <td>0.602696</td>\n",
       "    </tr>\n",
       "    <tr>\n",
       "      <th>2943</th>\n",
       "      <td>LeBron James</td>\n",
       "      <td>0.600571</td>\n",
       "    </tr>\n",
       "    <tr>\n",
       "      <th>3219</th>\n",
       "      <td>Kevin Durant</td>\n",
       "      <td>0.589252</td>\n",
       "    </tr>\n",
       "    <tr>\n",
       "      <th>3342</th>\n",
       "      <td>Stephen Curry</td>\n",
       "      <td>0.581682</td>\n",
       "    </tr>\n",
       "    <tr>\n",
       "      <th>3342</th>\n",
       "      <td>Willie Reed</td>\n",
       "      <td>0.581682</td>\n",
       "    </tr>\n",
       "    <tr>\n",
       "      <th>2455</th>\n",
       "      <td>Kobe Bryant</td>\n",
       "      <td>0.572167</td>\n",
       "    </tr>\n",
       "    <tr>\n",
       "      <th>2999</th>\n",
       "      <td>Dwight Howard</td>\n",
       "      <td>0.568905</td>\n",
       "    </tr>\n",
       "    <tr>\n",
       "      <th>2625</th>\n",
       "      <td>Dirk Nowitzki</td>\n",
       "      <td>0.568744</td>\n",
       "    </tr>\n",
       "    <tr>\n",
       "      <th>3095</th>\n",
       "      <td>Chris Paul</td>\n",
       "      <td>0.558395</td>\n",
       "    </tr>\n",
       "    <tr>\n",
       "      <th>3324</th>\n",
       "      <td>Russell Westbrook</td>\n",
       "      <td>0.558192</td>\n",
       "    </tr>\n",
       "    <tr>\n",
       "      <th>2906</th>\n",
       "      <td>Carmelo Anthony</td>\n",
       "      <td>0.545597</td>\n",
       "    </tr>\n",
       "    <tr>\n",
       "      <th>2490</th>\n",
       "      <td>Steve Nash</td>\n",
       "      <td>0.541841</td>\n",
       "    </tr>\n",
       "    <tr>\n",
       "      <th>2522</th>\n",
       "      <td>Chauncey Billups</td>\n",
       "      <td>0.538627</td>\n",
       "    </tr>\n",
       "    <tr>\n",
       "      <th>58</th>\n",
       "      <td>Ray Allen</td>\n",
       "      <td>0.537039</td>\n",
       "    </tr>\n",
       "    <tr>\n",
       "      <th>2485</th>\n",
       "      <td>Stephon Marbury</td>\n",
       "      <td>0.536454</td>\n",
       "    </tr>\n",
       "    <tr>\n",
       "      <th>2822</th>\n",
       "      <td>Tony Parker</td>\n",
       "      <td>0.535199</td>\n",
       "    </tr>\n",
       "    <tr>\n",
       "      <th>2336</th>\n",
       "      <td>Jason Kidd</td>\n",
       "      <td>0.534372</td>\n",
       "    </tr>\n",
       "    <tr>\n",
       "      <th>2859</th>\n",
       "      <td>Manu Ginobili</td>\n",
       "      <td>0.533430</td>\n",
       "    </tr>\n",
       "    <tr>\n",
       "      <th>2807</th>\n",
       "      <td>Pau Gasol</td>\n",
       "      <td>0.532521</td>\n",
       "    </tr>\n",
       "  </tbody>\n",
       "</table>\n",
       "</div>"
      ],
      "text/plain": [
       "                 Player       HOF\n",
       "id                               \n",
       "2534         Tim Duncan  0.620322\n",
       "2400      Kevin Garnett  0.602696\n",
       "2943       LeBron James  0.600571\n",
       "3219       Kevin Durant  0.589252\n",
       "3342      Stephen Curry  0.581682\n",
       "3342        Willie Reed  0.581682\n",
       "2455        Kobe Bryant  0.572167\n",
       "2999      Dwight Howard  0.568905\n",
       "2625      Dirk Nowitzki  0.568744\n",
       "3095         Chris Paul  0.558395\n",
       "3324  Russell Westbrook  0.558192\n",
       "2906    Carmelo Anthony  0.545597\n",
       "2490         Steve Nash  0.541841\n",
       "2522   Chauncey Billups  0.538627\n",
       "58            Ray Allen  0.537039\n",
       "2485    Stephon Marbury  0.536454\n",
       "2822        Tony Parker  0.535199\n",
       "2336         Jason Kidd  0.534372\n",
       "2859      Manu Ginobili  0.533430\n",
       "2807          Pau Gasol  0.532521"
      ]
     },
     "execution_count": 33,
     "metadata": {},
     "output_type": "execute_result"
    }
   ],
   "source": [
    "results  = results.sort_values(by='HOF', ascending=False)\n",
    "results = results.set_index('id')\n",
    "results.head(20)"
   ]
  },
  {
   "cell_type": "markdown",
   "metadata": {},
   "source": [
    "**XGBoost Classifier**"
   ]
  },
  {
   "cell_type": "code",
   "execution_count": 48,
   "metadata": {},
   "outputs": [
    {
     "name": "stdout",
     "output_type": "stream",
     "text": [
      "XGBoost Model Score: 1.0\n",
      "------------------------------\n",
      "[[5.4012537e-03 9.9459875e-01]\n",
      " [9.8654753e-01 1.3452464e-02]\n",
      " [9.0997899e-01 9.0020984e-02]\n",
      " ...\n",
      " [9.9273723e-01 7.2627435e-03]\n",
      " [9.9937916e-01 6.2081299e-04]\n",
      " [9.9988508e-01 1.1490992e-04]]\n"
     ]
    }
   ],
   "source": [
    "# Instantiate XGBoost Classifier\n",
    "xg = XGBClassifier(eta = 0,scale_pos_weight = 0.4,learning_rate=0.6)\n",
    "xg.fit(X_train, y_train)\n",
    "prediction = xg.predict(X_test)\n",
    "xg_score = xg.score(X_train, y_train)\n",
    "pred_proba = xg.predict_proba(X_test)\n",
    "print('XGBoost Model Score:',round(xg_score,4))\n",
    "print('------------------------------')\n",
    "print(pred_proba)"
   ]
  },
  {
   "cell_type": "code",
   "execution_count": 49,
   "metadata": {},
   "outputs": [],
   "source": [
    "y_test = []\n",
    "for i in enumerate(pred_proba):\n",
    "    y_test.append(i[1][1])\n",
    "y_test = np.asarray(y_test)\n"
   ]
  },
  {
   "cell_type": "markdown",
   "metadata": {},
   "source": [
    "results = pd.DataFrame({\n",
    "    \"id\": test[\"id\"],\n",
    "    \"HOF\": y_test\n",
    "    })"
   ]
  },
  {
   "cell_type": "code",
   "execution_count": 51,
   "metadata": {},
   "outputs": [],
   "source": [
    "players = df_career[['id', 'Player']]\n",
    "results = players.merge(results, on='id')"
   ]
  },
  {
   "cell_type": "code",
   "execution_count": 52,
   "metadata": {
    "scrolled": false
   },
   "outputs": [
    {
     "data": {
      "text/html": [
       "<div>\n",
       "<style scoped>\n",
       "    .dataframe tbody tr th:only-of-type {\n",
       "        vertical-align: middle;\n",
       "    }\n",
       "\n",
       "    .dataframe tbody tr th {\n",
       "        vertical-align: top;\n",
       "    }\n",
       "\n",
       "    .dataframe thead th {\n",
       "        text-align: right;\n",
       "    }\n",
       "</style>\n",
       "<table border=\"1\" class=\"dataframe\">\n",
       "  <thead>\n",
       "    <tr style=\"text-align: right;\">\n",
       "      <th></th>\n",
       "      <th>Player</th>\n",
       "      <th>HOF</th>\n",
       "    </tr>\n",
       "    <tr>\n",
       "      <th>id</th>\n",
       "      <th></th>\n",
       "      <th></th>\n",
       "    </tr>\n",
       "  </thead>\n",
       "  <tbody>\n",
       "    <tr>\n",
       "      <th>2534</th>\n",
       "      <td>Tim Duncan</td>\n",
       "      <td>0.994822</td>\n",
       "    </tr>\n",
       "    <tr>\n",
       "      <th>58</th>\n",
       "      <td>Ray Allen</td>\n",
       "      <td>0.994599</td>\n",
       "    </tr>\n",
       "    <tr>\n",
       "      <th>2625</th>\n",
       "      <td>Dirk Nowitzki</td>\n",
       "      <td>0.994424</td>\n",
       "    </tr>\n",
       "    <tr>\n",
       "      <th>2807</th>\n",
       "      <td>Pau Gasol</td>\n",
       "      <td>0.992963</td>\n",
       "    </tr>\n",
       "    <tr>\n",
       "      <th>2943</th>\n",
       "      <td>LeBron James</td>\n",
       "      <td>0.992784</td>\n",
       "    </tr>\n",
       "    <tr>\n",
       "      <th>3219</th>\n",
       "      <td>Kevin Durant</td>\n",
       "      <td>0.988898</td>\n",
       "    </tr>\n",
       "    <tr>\n",
       "      <th>2336</th>\n",
       "      <td>Jason Kidd</td>\n",
       "      <td>0.984888</td>\n",
       "    </tr>\n",
       "    <tr>\n",
       "      <th>2400</th>\n",
       "      <td>Kevin Garnett</td>\n",
       "      <td>0.984877</td>\n",
       "    </tr>\n",
       "    <tr>\n",
       "      <th>2455</th>\n",
       "      <td>Kobe Bryant</td>\n",
       "      <td>0.984721</td>\n",
       "    </tr>\n",
       "    <tr>\n",
       "      <th>2629</th>\n",
       "      <td>Paul Pierce</td>\n",
       "      <td>0.977102</td>\n",
       "    </tr>\n",
       "    <tr>\n",
       "      <th>2915</th>\n",
       "      <td>Chris Bosh</td>\n",
       "      <td>0.966249</td>\n",
       "    </tr>\n",
       "    <tr>\n",
       "      <th>2554</th>\n",
       "      <td>Tracy McGrady</td>\n",
       "      <td>0.963825</td>\n",
       "    </tr>\n",
       "    <tr>\n",
       "      <th>2490</th>\n",
       "      <td>Steve Nash</td>\n",
       "      <td>0.953981</td>\n",
       "    </tr>\n",
       "    <tr>\n",
       "      <th>2999</th>\n",
       "      <td>Dwight Howard</td>\n",
       "      <td>0.943091</td>\n",
       "    </tr>\n",
       "    <tr>\n",
       "      <th>2485</th>\n",
       "      <td>Stephon Marbury</td>\n",
       "      <td>0.941559</td>\n",
       "    </tr>\n",
       "    <tr>\n",
       "      <th>2027</th>\n",
       "      <td>Glen Rice</td>\n",
       "      <td>0.934909</td>\n",
       "    </tr>\n",
       "    <tr>\n",
       "      <th>2906</th>\n",
       "      <td>Carmelo Anthony</td>\n",
       "      <td>0.929067</td>\n",
       "    </tr>\n",
       "    <tr>\n",
       "      <th>2699</th>\n",
       "      <td>Jason Terry</td>\n",
       "      <td>0.886771</td>\n",
       "    </tr>\n",
       "    <tr>\n",
       "      <th>2822</th>\n",
       "      <td>Tony Parker</td>\n",
       "      <td>0.886262</td>\n",
       "    </tr>\n",
       "    <tr>\n",
       "      <th>4180</th>\n",
       "      <td>Antoine Walker</td>\n",
       "      <td>0.880008</td>\n",
       "    </tr>\n",
       "  </tbody>\n",
       "</table>\n",
       "</div>"
      ],
      "text/plain": [
       "               Player       HOF\n",
       "id                             \n",
       "2534       Tim Duncan  0.994822\n",
       "58          Ray Allen  0.994599\n",
       "2625    Dirk Nowitzki  0.994424\n",
       "2807        Pau Gasol  0.992963\n",
       "2943     LeBron James  0.992784\n",
       "3219     Kevin Durant  0.988898\n",
       "2336       Jason Kidd  0.984888\n",
       "2400    Kevin Garnett  0.984877\n",
       "2455      Kobe Bryant  0.984721\n",
       "2629      Paul Pierce  0.977102\n",
       "2915       Chris Bosh  0.966249\n",
       "2554    Tracy McGrady  0.963825\n",
       "2490       Steve Nash  0.953981\n",
       "2999    Dwight Howard  0.943091\n",
       "2485  Stephon Marbury  0.941559\n",
       "2027        Glen Rice  0.934909\n",
       "2906  Carmelo Anthony  0.929067\n",
       "2699      Jason Terry  0.886771\n",
       "2822      Tony Parker  0.886262\n",
       "4180   Antoine Walker  0.880008"
      ]
     },
     "execution_count": 52,
     "metadata": {},
     "output_type": "execute_result"
    }
   ],
   "source": [
    "results  = results.sort_values(by='HOF', ascending=False)\n",
    "results = results.set_index('id')\n",
    "results.head(20)"
   ]
  },
  {
   "cell_type": "markdown",
   "metadata": {},
   "source": [
    "|Models | Best Params | Train Score |  Description |\n",
    "|--------|------|---------|--------------| \n",
    "|  Random Forest | 'rf__max_depth': 2, 'rf__max_leaf_nodes': 3, 'rf__min_samples_leaf': 1, 'rf__n_estimators': 10000| 0.9105 | The train score is lower but the results seems acceptable, but by comparing with XGBoost Classifier model, the probability results is lower.|\n",
    "|  AdaBoost | 'ada__learning_rate': 0.7, 'ada__n_estimators': 10000| 1.0 | Even though the train score is 1.0, but the probability were lower than 0.7 |\n",
    "|  XGBoost | 'xg__learning_rate': 0.6| 1.0 | The train score is 1.0 and comparing the results, the probability by XGBoost Classifications seems perform better than other 2 models |\n"
   ]
  },
  {
   "cell_type": "markdown",
   "metadata": {},
   "source": [
    "By comparing the train data accuracy and the results for each model, seems XGboost is performing better with 1.0 of accuracy and the results is more likely accurate comparing to other 2 models."
   ]
  },
  {
   "cell_type": "code",
   "execution_count": 71,
   "metadata": {},
   "outputs": [],
   "source": [
    "# Limit to 50 Players for ease of read of scatter plots\n",
    "\n",
    "results50 = results.head(50)\n",
    "results50.to_csv('../datasets/results50.csv')"
   ]
  },
  {
   "cell_type": "code",
   "execution_count": 70,
   "metadata": {},
   "outputs": [
    {
     "data": {
      "application/vnd.plotly.v1+json": {
       "config": {
        "plotlyServerURL": "https://plotly.com"
       },
       "data": [
        {
         "hovertext": [
          "Tim Duncan",
          "Ray Allen",
          "Dirk Nowitzki",
          "Pau Gasol",
          "LeBron James",
          "Kevin Durant",
          "Jason Kidd",
          "Kevin Garnett",
          "Kobe Bryant",
          "Paul Pierce",
          "Chris Bosh",
          "Tracy McGrady",
          "Steve Nash",
          "Dwight Howard",
          "Stephon Marbury",
          "Glen Rice",
          "Carmelo Anthony",
          "Jason Terry",
          "Tony Parker",
          "Antoine Walker",
          "Shawn Marion",
          "Kevin Love",
          "Russell Westbrook",
          "Chauncey Billups",
          "Chris Paul",
          "Otis Thorpe",
          "Sam Cassell",
          "Rashard Lewis",
          "Michael Finley",
          "Latrell Sprewell",
          "Amar'e Stoudemire",
          "Chris Webber",
          "James Harden",
          "Elton Brand",
          "Tim Hardaway",
          "P.J. Brown",
          "Brook Lopez",
          "Eddie Jones",
          "Jeff Hornacek",
          "Richard Hamilton",
          "Stephen Curry",
          "Rasheed Wallace",
          "LaMarcus Aldridge",
          "Juwan Howard",
          "Terry Cummings",
          "Jerry Stackhouse",
          "Grant Hill",
          "Clifford Robinson",
          "Hersey Hawkins",
          "Terry Porter"
         ],
         "marker": {
          "color": "blue",
          "size": 12,
          "symbol": "star-dot"
         },
         "mode": "markers",
         "type": "scatter",
         "x": [
          "Tim Duncan",
          "Ray Allen",
          "Dirk Nowitzki",
          "Pau Gasol",
          "LeBron James",
          "Kevin Durant",
          "Jason Kidd",
          "Kevin Garnett",
          "Kobe Bryant",
          "Paul Pierce",
          "Chris Bosh",
          "Tracy McGrady",
          "Steve Nash",
          "Dwight Howard",
          "Stephon Marbury",
          "Glen Rice",
          "Carmelo Anthony",
          "Jason Terry",
          "Tony Parker",
          "Antoine Walker",
          "Shawn Marion",
          "Kevin Love",
          "Russell Westbrook",
          "Chauncey Billups",
          "Chris Paul",
          "Otis Thorpe",
          "Sam Cassell",
          "Rashard Lewis",
          "Michael Finley",
          "Latrell Sprewell",
          "Amar'e Stoudemire",
          "Chris Webber",
          "James Harden",
          "Elton Brand",
          "Tim Hardaway",
          "P.J. Brown",
          "Brook Lopez",
          "Eddie Jones",
          "Jeff Hornacek",
          "Richard Hamilton",
          "Stephen Curry",
          "Rasheed Wallace",
          "LaMarcus Aldridge",
          "Juwan Howard",
          "Terry Cummings",
          "Jerry Stackhouse",
          "Grant Hill",
          "Clifford Robinson",
          "Hersey Hawkins",
          "Terry Porter"
         ],
         "y": [
          0.9948219060897827,
          0.9945987462997437,
          0.9944236874580383,
          0.9929633736610413,
          0.9927841424942017,
          0.9888978600502014,
          0.9848877191543579,
          0.9848765134811401,
          0.9847208857536316,
          0.9771023988723755,
          0.966249406337738,
          0.9638249278068542,
          0.9539812207221985,
          0.9430910348892212,
          0.9415590167045593,
          0.9349091649055481,
          0.9290666580200195,
          0.886771023273468,
          0.8862619996070862,
          0.8800082206726074,
          0.8547635078430176,
          0.8394795656204224,
          0.8277106881141663,
          0.8201491236686707,
          0.8047075867652893,
          0.793107807636261,
          0.7575287222862244,
          0.7340450882911682,
          0.7285870313644409,
          0.7057079076766968,
          0.7056849002838135,
          0.6140943169593811,
          0.6055006384849548,
          0.5197583436965942,
          0.5054282546043396,
          0.48767006397247314,
          0.4605170786380768,
          0.4079323410987854,
          0.4012366533279419,
          0.396176278591156,
          0.38785627484321594,
          0.37073829770088196,
          0.3699829876422882,
          0.282937616109848,
          0.2715663015842438,
          0.2618110775947571,
          0.22494180500507355,
          0.19935379922389984,
          0.18622389435768127,
          0.17123165726661682
         ]
        }
       ],
       "layout": {
        "height": 600,
        "template": {
         "data": {
          "bar": [
           {
            "error_x": {
             "color": "#2a3f5f"
            },
            "error_y": {
             "color": "#2a3f5f"
            },
            "marker": {
             "line": {
              "color": "#E5ECF6",
              "width": 0.5
             }
            },
            "type": "bar"
           }
          ],
          "barpolar": [
           {
            "marker": {
             "line": {
              "color": "#E5ECF6",
              "width": 0.5
             }
            },
            "type": "barpolar"
           }
          ],
          "carpet": [
           {
            "aaxis": {
             "endlinecolor": "#2a3f5f",
             "gridcolor": "white",
             "linecolor": "white",
             "minorgridcolor": "white",
             "startlinecolor": "#2a3f5f"
            },
            "baxis": {
             "endlinecolor": "#2a3f5f",
             "gridcolor": "white",
             "linecolor": "white",
             "minorgridcolor": "white",
             "startlinecolor": "#2a3f5f"
            },
            "type": "carpet"
           }
          ],
          "choropleth": [
           {
            "colorbar": {
             "outlinewidth": 0,
             "ticks": ""
            },
            "type": "choropleth"
           }
          ],
          "contour": [
           {
            "colorbar": {
             "outlinewidth": 0,
             "ticks": ""
            },
            "colorscale": [
             [
              0,
              "#0d0887"
             ],
             [
              0.1111111111111111,
              "#46039f"
             ],
             [
              0.2222222222222222,
              "#7201a8"
             ],
             [
              0.3333333333333333,
              "#9c179e"
             ],
             [
              0.4444444444444444,
              "#bd3786"
             ],
             [
              0.5555555555555556,
              "#d8576b"
             ],
             [
              0.6666666666666666,
              "#ed7953"
             ],
             [
              0.7777777777777778,
              "#fb9f3a"
             ],
             [
              0.8888888888888888,
              "#fdca26"
             ],
             [
              1,
              "#f0f921"
             ]
            ],
            "type": "contour"
           }
          ],
          "contourcarpet": [
           {
            "colorbar": {
             "outlinewidth": 0,
             "ticks": ""
            },
            "type": "contourcarpet"
           }
          ],
          "heatmap": [
           {
            "colorbar": {
             "outlinewidth": 0,
             "ticks": ""
            },
            "colorscale": [
             [
              0,
              "#0d0887"
             ],
             [
              0.1111111111111111,
              "#46039f"
             ],
             [
              0.2222222222222222,
              "#7201a8"
             ],
             [
              0.3333333333333333,
              "#9c179e"
             ],
             [
              0.4444444444444444,
              "#bd3786"
             ],
             [
              0.5555555555555556,
              "#d8576b"
             ],
             [
              0.6666666666666666,
              "#ed7953"
             ],
             [
              0.7777777777777778,
              "#fb9f3a"
             ],
             [
              0.8888888888888888,
              "#fdca26"
             ],
             [
              1,
              "#f0f921"
             ]
            ],
            "type": "heatmap"
           }
          ],
          "heatmapgl": [
           {
            "colorbar": {
             "outlinewidth": 0,
             "ticks": ""
            },
            "colorscale": [
             [
              0,
              "#0d0887"
             ],
             [
              0.1111111111111111,
              "#46039f"
             ],
             [
              0.2222222222222222,
              "#7201a8"
             ],
             [
              0.3333333333333333,
              "#9c179e"
             ],
             [
              0.4444444444444444,
              "#bd3786"
             ],
             [
              0.5555555555555556,
              "#d8576b"
             ],
             [
              0.6666666666666666,
              "#ed7953"
             ],
             [
              0.7777777777777778,
              "#fb9f3a"
             ],
             [
              0.8888888888888888,
              "#fdca26"
             ],
             [
              1,
              "#f0f921"
             ]
            ],
            "type": "heatmapgl"
           }
          ],
          "histogram": [
           {
            "marker": {
             "colorbar": {
              "outlinewidth": 0,
              "ticks": ""
             }
            },
            "type": "histogram"
           }
          ],
          "histogram2d": [
           {
            "colorbar": {
             "outlinewidth": 0,
             "ticks": ""
            },
            "colorscale": [
             [
              0,
              "#0d0887"
             ],
             [
              0.1111111111111111,
              "#46039f"
             ],
             [
              0.2222222222222222,
              "#7201a8"
             ],
             [
              0.3333333333333333,
              "#9c179e"
             ],
             [
              0.4444444444444444,
              "#bd3786"
             ],
             [
              0.5555555555555556,
              "#d8576b"
             ],
             [
              0.6666666666666666,
              "#ed7953"
             ],
             [
              0.7777777777777778,
              "#fb9f3a"
             ],
             [
              0.8888888888888888,
              "#fdca26"
             ],
             [
              1,
              "#f0f921"
             ]
            ],
            "type": "histogram2d"
           }
          ],
          "histogram2dcontour": [
           {
            "colorbar": {
             "outlinewidth": 0,
             "ticks": ""
            },
            "colorscale": [
             [
              0,
              "#0d0887"
             ],
             [
              0.1111111111111111,
              "#46039f"
             ],
             [
              0.2222222222222222,
              "#7201a8"
             ],
             [
              0.3333333333333333,
              "#9c179e"
             ],
             [
              0.4444444444444444,
              "#bd3786"
             ],
             [
              0.5555555555555556,
              "#d8576b"
             ],
             [
              0.6666666666666666,
              "#ed7953"
             ],
             [
              0.7777777777777778,
              "#fb9f3a"
             ],
             [
              0.8888888888888888,
              "#fdca26"
             ],
             [
              1,
              "#f0f921"
             ]
            ],
            "type": "histogram2dcontour"
           }
          ],
          "mesh3d": [
           {
            "colorbar": {
             "outlinewidth": 0,
             "ticks": ""
            },
            "type": "mesh3d"
           }
          ],
          "parcoords": [
           {
            "line": {
             "colorbar": {
              "outlinewidth": 0,
              "ticks": ""
             }
            },
            "type": "parcoords"
           }
          ],
          "pie": [
           {
            "automargin": true,
            "type": "pie"
           }
          ],
          "scatter": [
           {
            "marker": {
             "colorbar": {
              "outlinewidth": 0,
              "ticks": ""
             }
            },
            "type": "scatter"
           }
          ],
          "scatter3d": [
           {
            "line": {
             "colorbar": {
              "outlinewidth": 0,
              "ticks": ""
             }
            },
            "marker": {
             "colorbar": {
              "outlinewidth": 0,
              "ticks": ""
             }
            },
            "type": "scatter3d"
           }
          ],
          "scattercarpet": [
           {
            "marker": {
             "colorbar": {
              "outlinewidth": 0,
              "ticks": ""
             }
            },
            "type": "scattercarpet"
           }
          ],
          "scattergeo": [
           {
            "marker": {
             "colorbar": {
              "outlinewidth": 0,
              "ticks": ""
             }
            },
            "type": "scattergeo"
           }
          ],
          "scattergl": [
           {
            "marker": {
             "colorbar": {
              "outlinewidth": 0,
              "ticks": ""
             }
            },
            "type": "scattergl"
           }
          ],
          "scattermapbox": [
           {
            "marker": {
             "colorbar": {
              "outlinewidth": 0,
              "ticks": ""
             }
            },
            "type": "scattermapbox"
           }
          ],
          "scatterpolar": [
           {
            "marker": {
             "colorbar": {
              "outlinewidth": 0,
              "ticks": ""
             }
            },
            "type": "scatterpolar"
           }
          ],
          "scatterpolargl": [
           {
            "marker": {
             "colorbar": {
              "outlinewidth": 0,
              "ticks": ""
             }
            },
            "type": "scatterpolargl"
           }
          ],
          "scatterternary": [
           {
            "marker": {
             "colorbar": {
              "outlinewidth": 0,
              "ticks": ""
             }
            },
            "type": "scatterternary"
           }
          ],
          "surface": [
           {
            "colorbar": {
             "outlinewidth": 0,
             "ticks": ""
            },
            "colorscale": [
             [
              0,
              "#0d0887"
             ],
             [
              0.1111111111111111,
              "#46039f"
             ],
             [
              0.2222222222222222,
              "#7201a8"
             ],
             [
              0.3333333333333333,
              "#9c179e"
             ],
             [
              0.4444444444444444,
              "#bd3786"
             ],
             [
              0.5555555555555556,
              "#d8576b"
             ],
             [
              0.6666666666666666,
              "#ed7953"
             ],
             [
              0.7777777777777778,
              "#fb9f3a"
             ],
             [
              0.8888888888888888,
              "#fdca26"
             ],
             [
              1,
              "#f0f921"
             ]
            ],
            "type": "surface"
           }
          ],
          "table": [
           {
            "cells": {
             "fill": {
              "color": "#EBF0F8"
             },
             "line": {
              "color": "white"
             }
            },
            "header": {
             "fill": {
              "color": "#C8D4E3"
             },
             "line": {
              "color": "white"
             }
            },
            "type": "table"
           }
          ]
         },
         "layout": {
          "annotationdefaults": {
           "arrowcolor": "#2a3f5f",
           "arrowhead": 0,
           "arrowwidth": 1
          },
          "coloraxis": {
           "colorbar": {
            "outlinewidth": 0,
            "ticks": ""
           }
          },
          "colorscale": {
           "diverging": [
            [
             0,
             "#8e0152"
            ],
            [
             0.1,
             "#c51b7d"
            ],
            [
             0.2,
             "#de77ae"
            ],
            [
             0.3,
             "#f1b6da"
            ],
            [
             0.4,
             "#fde0ef"
            ],
            [
             0.5,
             "#f7f7f7"
            ],
            [
             0.6,
             "#e6f5d0"
            ],
            [
             0.7,
             "#b8e186"
            ],
            [
             0.8,
             "#7fbc41"
            ],
            [
             0.9,
             "#4d9221"
            ],
            [
             1,
             "#276419"
            ]
           ],
           "sequential": [
            [
             0,
             "#0d0887"
            ],
            [
             0.1111111111111111,
             "#46039f"
            ],
            [
             0.2222222222222222,
             "#7201a8"
            ],
            [
             0.3333333333333333,
             "#9c179e"
            ],
            [
             0.4444444444444444,
             "#bd3786"
            ],
            [
             0.5555555555555556,
             "#d8576b"
            ],
            [
             0.6666666666666666,
             "#ed7953"
            ],
            [
             0.7777777777777778,
             "#fb9f3a"
            ],
            [
             0.8888888888888888,
             "#fdca26"
            ],
            [
             1,
             "#f0f921"
            ]
           ],
           "sequentialminus": [
            [
             0,
             "#0d0887"
            ],
            [
             0.1111111111111111,
             "#46039f"
            ],
            [
             0.2222222222222222,
             "#7201a8"
            ],
            [
             0.3333333333333333,
             "#9c179e"
            ],
            [
             0.4444444444444444,
             "#bd3786"
            ],
            [
             0.5555555555555556,
             "#d8576b"
            ],
            [
             0.6666666666666666,
             "#ed7953"
            ],
            [
             0.7777777777777778,
             "#fb9f3a"
            ],
            [
             0.8888888888888888,
             "#fdca26"
            ],
            [
             1,
             "#f0f921"
            ]
           ]
          },
          "colorway": [
           "#636efa",
           "#EF553B",
           "#00cc96",
           "#ab63fa",
           "#FFA15A",
           "#19d3f3",
           "#FF6692",
           "#B6E880",
           "#FF97FF",
           "#FECB52"
          ],
          "font": {
           "color": "#2a3f5f"
          },
          "geo": {
           "bgcolor": "white",
           "lakecolor": "white",
           "landcolor": "#E5ECF6",
           "showlakes": true,
           "showland": true,
           "subunitcolor": "white"
          },
          "hoverlabel": {
           "align": "left"
          },
          "hovermode": "closest",
          "mapbox": {
           "style": "light"
          },
          "paper_bgcolor": "white",
          "plot_bgcolor": "#E5ECF6",
          "polar": {
           "angularaxis": {
            "gridcolor": "white",
            "linecolor": "white",
            "ticks": ""
           },
           "bgcolor": "#E5ECF6",
           "radialaxis": {
            "gridcolor": "white",
            "linecolor": "white",
            "ticks": ""
           }
          },
          "scene": {
           "xaxis": {
            "backgroundcolor": "#E5ECF6",
            "gridcolor": "white",
            "gridwidth": 2,
            "linecolor": "white",
            "showbackground": true,
            "ticks": "",
            "zerolinecolor": "white"
           },
           "yaxis": {
            "backgroundcolor": "#E5ECF6",
            "gridcolor": "white",
            "gridwidth": 2,
            "linecolor": "white",
            "showbackground": true,
            "ticks": "",
            "zerolinecolor": "white"
           },
           "zaxis": {
            "backgroundcolor": "#E5ECF6",
            "gridcolor": "white",
            "gridwidth": 2,
            "linecolor": "white",
            "showbackground": true,
            "ticks": "",
            "zerolinecolor": "white"
           }
          },
          "shapedefaults": {
           "line": {
            "color": "#2a3f5f"
           }
          },
          "ternary": {
           "aaxis": {
            "gridcolor": "white",
            "linecolor": "white",
            "ticks": ""
           },
           "baxis": {
            "gridcolor": "white",
            "linecolor": "white",
            "ticks": ""
           },
           "bgcolor": "#E5ECF6",
           "caxis": {
            "gridcolor": "white",
            "linecolor": "white",
            "ticks": ""
           }
          },
          "title": {
           "x": 0.05
          },
          "xaxis": {
           "automargin": true,
           "gridcolor": "white",
           "linecolor": "white",
           "ticks": "",
           "title": {
            "standoff": 15
           },
           "zerolinecolor": "white",
           "zerolinewidth": 2
          },
          "yaxis": {
           "automargin": true,
           "gridcolor": "white",
           "linecolor": "white",
           "ticks": "",
           "title": {
            "standoff": 15
           },
           "zerolinecolor": "white",
           "zerolinewidth": 2
          }
         }
        },
        "title": {
         "text": "Player Nominated As Hall Of Fame Probability"
        },
        "width": 1000
       }
      },
      "text/html": [
       "<div>\n",
       "        \n",
       "        \n",
       "            <div id=\"d93ecff1-87eb-46b9-aa2d-939dc15e267b\" class=\"plotly-graph-div\" style=\"height:600px; width:1000px;\"></div>\n",
       "            <script type=\"text/javascript\">\n",
       "                require([\"plotly\"], function(Plotly) {\n",
       "                    window.PLOTLYENV=window.PLOTLYENV || {};\n",
       "                    \n",
       "                if (document.getElementById(\"d93ecff1-87eb-46b9-aa2d-939dc15e267b\")) {\n",
       "                    Plotly.newPlot(\n",
       "                        'd93ecff1-87eb-46b9-aa2d-939dc15e267b',\n",
       "                        [{\"hovertext\": [\"Tim Duncan\", \"Ray Allen\", \"Dirk Nowitzki\", \"Pau Gasol\", \"LeBron James\", \"Kevin Durant\", \"Jason Kidd\", \"Kevin Garnett\", \"Kobe Bryant\", \"Paul Pierce\", \"Chris Bosh\", \"Tracy McGrady\", \"Steve Nash\", \"Dwight Howard\", \"Stephon Marbury\", \"Glen Rice\", \"Carmelo Anthony\", \"Jason Terry\", \"Tony Parker\", \"Antoine Walker\", \"Shawn Marion\", \"Kevin Love\", \"Russell Westbrook\", \"Chauncey Billups\", \"Chris Paul\", \"Otis Thorpe\", \"Sam Cassell\", \"Rashard Lewis\", \"Michael Finley\", \"Latrell Sprewell\", \"Amar'e Stoudemire\", \"Chris Webber\", \"James Harden\", \"Elton Brand\", \"Tim Hardaway\", \"P.J. Brown\", \"Brook Lopez\", \"Eddie Jones\", \"Jeff Hornacek\", \"Richard Hamilton\", \"Stephen Curry\", \"Rasheed Wallace\", \"LaMarcus Aldridge\", \"Juwan Howard\", \"Terry Cummings\", \"Jerry Stackhouse\", \"Grant Hill\", \"Clifford Robinson\", \"Hersey Hawkins\", \"Terry Porter\"], \"marker\": {\"color\": \"blue\", \"size\": 12, \"symbol\": \"star-dot\"}, \"mode\": \"markers\", \"type\": \"scatter\", \"x\": [\"Tim Duncan\", \"Ray Allen\", \"Dirk Nowitzki\", \"Pau Gasol\", \"LeBron James\", \"Kevin Durant\", \"Jason Kidd\", \"Kevin Garnett\", \"Kobe Bryant\", \"Paul Pierce\", \"Chris Bosh\", \"Tracy McGrady\", \"Steve Nash\", \"Dwight Howard\", \"Stephon Marbury\", \"Glen Rice\", \"Carmelo Anthony\", \"Jason Terry\", \"Tony Parker\", \"Antoine Walker\", \"Shawn Marion\", \"Kevin Love\", \"Russell Westbrook\", \"Chauncey Billups\", \"Chris Paul\", \"Otis Thorpe\", \"Sam Cassell\", \"Rashard Lewis\", \"Michael Finley\", \"Latrell Sprewell\", \"Amar'e Stoudemire\", \"Chris Webber\", \"James Harden\", \"Elton Brand\", \"Tim Hardaway\", \"P.J. Brown\", \"Brook Lopez\", \"Eddie Jones\", \"Jeff Hornacek\", \"Richard Hamilton\", \"Stephen Curry\", \"Rasheed Wallace\", \"LaMarcus Aldridge\", \"Juwan Howard\", \"Terry Cummings\", \"Jerry Stackhouse\", \"Grant Hill\", \"Clifford Robinson\", \"Hersey Hawkins\", \"Terry Porter\"], \"y\": [0.9948219060897827, 0.9945987462997437, 0.9944236874580383, 0.9929633736610413, 0.9927841424942017, 0.9888978600502014, 0.9848877191543579, 0.9848765134811401, 0.9847208857536316, 0.9771023988723755, 0.966249406337738, 0.9638249278068542, 0.9539812207221985, 0.9430910348892212, 0.9415590167045593, 0.9349091649055481, 0.9290666580200195, 0.886771023273468, 0.8862619996070862, 0.8800082206726074, 0.8547635078430176, 0.8394795656204224, 0.8277106881141663, 0.8201491236686707, 0.8047075867652893, 0.793107807636261, 0.7575287222862244, 0.7340450882911682, 0.7285870313644409, 0.7057079076766968, 0.7056849002838135, 0.6140943169593811, 0.6055006384849548, 0.5197583436965942, 0.5054282546043396, 0.48767006397247314, 0.4605170786380768, 0.4079323410987854, 0.4012366533279419, 0.396176278591156, 0.38785627484321594, 0.37073829770088196, 0.3699829876422882, 0.282937616109848, 0.2715663015842438, 0.2618110775947571, 0.22494180500507355, 0.19935379922389984, 0.18622389435768127, 0.17123165726661682]}],\n",
       "                        {\"height\": 600, \"template\": {\"data\": {\"bar\": [{\"error_x\": {\"color\": \"#2a3f5f\"}, \"error_y\": {\"color\": \"#2a3f5f\"}, \"marker\": {\"line\": {\"color\": \"#E5ECF6\", \"width\": 0.5}}, \"type\": \"bar\"}], \"barpolar\": [{\"marker\": {\"line\": {\"color\": \"#E5ECF6\", \"width\": 0.5}}, \"type\": \"barpolar\"}], \"carpet\": [{\"aaxis\": {\"endlinecolor\": \"#2a3f5f\", \"gridcolor\": \"white\", \"linecolor\": \"white\", \"minorgridcolor\": \"white\", \"startlinecolor\": \"#2a3f5f\"}, \"baxis\": {\"endlinecolor\": \"#2a3f5f\", \"gridcolor\": \"white\", \"linecolor\": \"white\", \"minorgridcolor\": \"white\", \"startlinecolor\": \"#2a3f5f\"}, \"type\": \"carpet\"}], \"choropleth\": [{\"colorbar\": {\"outlinewidth\": 0, \"ticks\": \"\"}, \"type\": \"choropleth\"}], \"contour\": [{\"colorbar\": {\"outlinewidth\": 0, \"ticks\": \"\"}, \"colorscale\": [[0.0, \"#0d0887\"], [0.1111111111111111, \"#46039f\"], [0.2222222222222222, \"#7201a8\"], [0.3333333333333333, \"#9c179e\"], [0.4444444444444444, \"#bd3786\"], [0.5555555555555556, \"#d8576b\"], [0.6666666666666666, \"#ed7953\"], [0.7777777777777778, \"#fb9f3a\"], [0.8888888888888888, \"#fdca26\"], [1.0, \"#f0f921\"]], \"type\": \"contour\"}], \"contourcarpet\": [{\"colorbar\": {\"outlinewidth\": 0, \"ticks\": \"\"}, \"type\": \"contourcarpet\"}], \"heatmap\": [{\"colorbar\": {\"outlinewidth\": 0, \"ticks\": \"\"}, \"colorscale\": [[0.0, \"#0d0887\"], [0.1111111111111111, \"#46039f\"], [0.2222222222222222, \"#7201a8\"], [0.3333333333333333, \"#9c179e\"], [0.4444444444444444, \"#bd3786\"], [0.5555555555555556, \"#d8576b\"], [0.6666666666666666, \"#ed7953\"], [0.7777777777777778, \"#fb9f3a\"], [0.8888888888888888, \"#fdca26\"], [1.0, \"#f0f921\"]], \"type\": \"heatmap\"}], \"heatmapgl\": [{\"colorbar\": {\"outlinewidth\": 0, \"ticks\": \"\"}, \"colorscale\": [[0.0, \"#0d0887\"], [0.1111111111111111, \"#46039f\"], [0.2222222222222222, \"#7201a8\"], [0.3333333333333333, \"#9c179e\"], [0.4444444444444444, \"#bd3786\"], [0.5555555555555556, \"#d8576b\"], [0.6666666666666666, \"#ed7953\"], [0.7777777777777778, \"#fb9f3a\"], [0.8888888888888888, \"#fdca26\"], [1.0, \"#f0f921\"]], \"type\": \"heatmapgl\"}], \"histogram\": [{\"marker\": {\"colorbar\": {\"outlinewidth\": 0, \"ticks\": \"\"}}, \"type\": \"histogram\"}], \"histogram2d\": [{\"colorbar\": {\"outlinewidth\": 0, \"ticks\": \"\"}, \"colorscale\": [[0.0, \"#0d0887\"], [0.1111111111111111, \"#46039f\"], [0.2222222222222222, \"#7201a8\"], [0.3333333333333333, \"#9c179e\"], [0.4444444444444444, \"#bd3786\"], [0.5555555555555556, \"#d8576b\"], [0.6666666666666666, \"#ed7953\"], [0.7777777777777778, \"#fb9f3a\"], [0.8888888888888888, \"#fdca26\"], [1.0, \"#f0f921\"]], \"type\": \"histogram2d\"}], \"histogram2dcontour\": [{\"colorbar\": {\"outlinewidth\": 0, \"ticks\": \"\"}, \"colorscale\": [[0.0, \"#0d0887\"], [0.1111111111111111, \"#46039f\"], [0.2222222222222222, \"#7201a8\"], [0.3333333333333333, \"#9c179e\"], [0.4444444444444444, \"#bd3786\"], [0.5555555555555556, \"#d8576b\"], [0.6666666666666666, \"#ed7953\"], [0.7777777777777778, \"#fb9f3a\"], [0.8888888888888888, \"#fdca26\"], [1.0, \"#f0f921\"]], \"type\": \"histogram2dcontour\"}], \"mesh3d\": [{\"colorbar\": {\"outlinewidth\": 0, \"ticks\": \"\"}, \"type\": \"mesh3d\"}], \"parcoords\": [{\"line\": {\"colorbar\": {\"outlinewidth\": 0, \"ticks\": \"\"}}, \"type\": \"parcoords\"}], \"pie\": [{\"automargin\": true, \"type\": \"pie\"}], \"scatter\": [{\"marker\": {\"colorbar\": {\"outlinewidth\": 0, \"ticks\": \"\"}}, \"type\": \"scatter\"}], \"scatter3d\": [{\"line\": {\"colorbar\": {\"outlinewidth\": 0, \"ticks\": \"\"}}, \"marker\": {\"colorbar\": {\"outlinewidth\": 0, \"ticks\": \"\"}}, \"type\": \"scatter3d\"}], \"scattercarpet\": [{\"marker\": {\"colorbar\": {\"outlinewidth\": 0, \"ticks\": \"\"}}, \"type\": \"scattercarpet\"}], \"scattergeo\": [{\"marker\": {\"colorbar\": {\"outlinewidth\": 0, \"ticks\": \"\"}}, \"type\": \"scattergeo\"}], \"scattergl\": [{\"marker\": {\"colorbar\": {\"outlinewidth\": 0, \"ticks\": \"\"}}, \"type\": \"scattergl\"}], \"scattermapbox\": [{\"marker\": {\"colorbar\": {\"outlinewidth\": 0, \"ticks\": \"\"}}, \"type\": \"scattermapbox\"}], \"scatterpolar\": [{\"marker\": {\"colorbar\": {\"outlinewidth\": 0, \"ticks\": \"\"}}, \"type\": \"scatterpolar\"}], \"scatterpolargl\": [{\"marker\": {\"colorbar\": {\"outlinewidth\": 0, \"ticks\": \"\"}}, \"type\": \"scatterpolargl\"}], \"scatterternary\": [{\"marker\": {\"colorbar\": {\"outlinewidth\": 0, \"ticks\": \"\"}}, \"type\": \"scatterternary\"}], \"surface\": [{\"colorbar\": {\"outlinewidth\": 0, \"ticks\": \"\"}, \"colorscale\": [[0.0, \"#0d0887\"], [0.1111111111111111, \"#46039f\"], [0.2222222222222222, \"#7201a8\"], [0.3333333333333333, \"#9c179e\"], [0.4444444444444444, \"#bd3786\"], [0.5555555555555556, \"#d8576b\"], [0.6666666666666666, \"#ed7953\"], [0.7777777777777778, \"#fb9f3a\"], [0.8888888888888888, \"#fdca26\"], [1.0, \"#f0f921\"]], \"type\": \"surface\"}], \"table\": [{\"cells\": {\"fill\": {\"color\": \"#EBF0F8\"}, \"line\": {\"color\": \"white\"}}, \"header\": {\"fill\": {\"color\": \"#C8D4E3\"}, \"line\": {\"color\": \"white\"}}, \"type\": \"table\"}]}, \"layout\": {\"annotationdefaults\": {\"arrowcolor\": \"#2a3f5f\", \"arrowhead\": 0, \"arrowwidth\": 1}, \"coloraxis\": {\"colorbar\": {\"outlinewidth\": 0, \"ticks\": \"\"}}, \"colorscale\": {\"diverging\": [[0, \"#8e0152\"], [0.1, \"#c51b7d\"], [0.2, \"#de77ae\"], [0.3, \"#f1b6da\"], [0.4, \"#fde0ef\"], [0.5, \"#f7f7f7\"], [0.6, \"#e6f5d0\"], [0.7, \"#b8e186\"], [0.8, \"#7fbc41\"], [0.9, \"#4d9221\"], [1, \"#276419\"]], \"sequential\": [[0.0, \"#0d0887\"], [0.1111111111111111, \"#46039f\"], [0.2222222222222222, \"#7201a8\"], [0.3333333333333333, \"#9c179e\"], [0.4444444444444444, \"#bd3786\"], [0.5555555555555556, \"#d8576b\"], [0.6666666666666666, \"#ed7953\"], [0.7777777777777778, \"#fb9f3a\"], [0.8888888888888888, \"#fdca26\"], [1.0, \"#f0f921\"]], \"sequentialminus\": [[0.0, \"#0d0887\"], [0.1111111111111111, \"#46039f\"], [0.2222222222222222, \"#7201a8\"], [0.3333333333333333, \"#9c179e\"], [0.4444444444444444, \"#bd3786\"], [0.5555555555555556, \"#d8576b\"], [0.6666666666666666, \"#ed7953\"], [0.7777777777777778, \"#fb9f3a\"], [0.8888888888888888, \"#fdca26\"], [1.0, \"#f0f921\"]]}, \"colorway\": [\"#636efa\", \"#EF553B\", \"#00cc96\", \"#ab63fa\", \"#FFA15A\", \"#19d3f3\", \"#FF6692\", \"#B6E880\", \"#FF97FF\", \"#FECB52\"], \"font\": {\"color\": \"#2a3f5f\"}, \"geo\": {\"bgcolor\": \"white\", \"lakecolor\": \"white\", \"landcolor\": \"#E5ECF6\", \"showlakes\": true, \"showland\": true, \"subunitcolor\": \"white\"}, \"hoverlabel\": {\"align\": \"left\"}, \"hovermode\": \"closest\", \"mapbox\": {\"style\": \"light\"}, \"paper_bgcolor\": \"white\", \"plot_bgcolor\": \"#E5ECF6\", \"polar\": {\"angularaxis\": {\"gridcolor\": \"white\", \"linecolor\": \"white\", \"ticks\": \"\"}, \"bgcolor\": \"#E5ECF6\", \"radialaxis\": {\"gridcolor\": \"white\", \"linecolor\": \"white\", \"ticks\": \"\"}}, \"scene\": {\"xaxis\": {\"backgroundcolor\": \"#E5ECF6\", \"gridcolor\": \"white\", \"gridwidth\": 2, \"linecolor\": \"white\", \"showbackground\": true, \"ticks\": \"\", \"zerolinecolor\": \"white\"}, \"yaxis\": {\"backgroundcolor\": \"#E5ECF6\", \"gridcolor\": \"white\", \"gridwidth\": 2, \"linecolor\": \"white\", \"showbackground\": true, \"ticks\": \"\", \"zerolinecolor\": \"white\"}, \"zaxis\": {\"backgroundcolor\": \"#E5ECF6\", \"gridcolor\": \"white\", \"gridwidth\": 2, \"linecolor\": \"white\", \"showbackground\": true, \"ticks\": \"\", \"zerolinecolor\": \"white\"}}, \"shapedefaults\": {\"line\": {\"color\": \"#2a3f5f\"}}, \"ternary\": {\"aaxis\": {\"gridcolor\": \"white\", \"linecolor\": \"white\", \"ticks\": \"\"}, \"baxis\": {\"gridcolor\": \"white\", \"linecolor\": \"white\", \"ticks\": \"\"}, \"bgcolor\": \"#E5ECF6\", \"caxis\": {\"gridcolor\": \"white\", \"linecolor\": \"white\", \"ticks\": \"\"}}, \"title\": {\"x\": 0.05}, \"xaxis\": {\"automargin\": true, \"gridcolor\": \"white\", \"linecolor\": \"white\", \"ticks\": \"\", \"title\": {\"standoff\": 15}, \"zerolinecolor\": \"white\", \"zerolinewidth\": 2}, \"yaxis\": {\"automargin\": true, \"gridcolor\": \"white\", \"linecolor\": \"white\", \"ticks\": \"\", \"title\": {\"standoff\": 15}, \"zerolinecolor\": \"white\", \"zerolinewidth\": 2}}}, \"title\": {\"text\": \"Player Nominated As Hall Of Fame Probability\"}, \"width\": 1000},\n",
       "                        {\"responsive\": true}\n",
       "                    ).then(function(){\n",
       "                            \n",
       "var gd = document.getElementById('d93ecff1-87eb-46b9-aa2d-939dc15e267b');\n",
       "var x = new MutationObserver(function (mutations, observer) {{\n",
       "        var display = window.getComputedStyle(gd).display;\n",
       "        if (!display || display === 'none') {{\n",
       "            console.log([gd, 'removed!']);\n",
       "            Plotly.purge(gd);\n",
       "            observer.disconnect();\n",
       "        }}\n",
       "}});\n",
       "\n",
       "// Listen for the removal of the full notebook cells\n",
       "var notebookContainer = gd.closest('#notebook-container');\n",
       "if (notebookContainer) {{\n",
       "    x.observe(notebookContainer, {childList: true});\n",
       "}}\n",
       "\n",
       "// Listen for the clearing of the current output cell\n",
       "var outputEl = gd.closest('.output');\n",
       "if (outputEl) {{\n",
       "    x.observe(outputEl, {childList: true});\n",
       "}}\n",
       "\n",
       "                        })\n",
       "                };\n",
       "                });\n",
       "            </script>\n",
       "        </div>"
      ]
     },
     "metadata": {},
     "output_type": "display_data"
    }
   ],
   "source": [
    "fig = go.Figure()\n",
    "\n",
    "fig.add_trace(go.Scatter(x = results50['Player'], y= results50['HOF'], hovertext=results50['Player'],\n",
    "                         mode = 'markers', marker_symbol = 'star-dot', marker_size=12, marker_color = 'blue'))\n",
    "\n",
    "fig.update_layout(title_text=\"Player Nominated As Hall Of Fame Probability\", height = 600, width = 1000)\n",
    "\n",
    "fig.show()\n"
   ]
  },
  {
   "cell_type": "markdown",
   "metadata": {},
   "source": [
    "### 4. Conclusion & Recommendation"
   ]
  },
  {
   "cell_type": "markdown",
   "metadata": {},
   "source": [
    "**Conclusion**\n",
    "\n",
    "After EDA done, I had chose 20-22 features for modeling and classifications to predict which NBA players will have higher probabily to be nominated as Hall Of Famer in near future. The train test split was done manually instead of using train_test_split. \n",
    "\n",
    "Train data : Players who were retired at 1997 or players who already nominated as Hall Of Famer<br>\n",
    "Test data: Players who were still playing after 1997 and not nominated as Hall of Famer yet.<br>\n",
    "\n",
    "From 3 classification modeling, the XGBoost Model seems perform better comparing to other 2 models, with better accuracy and results.\n",
    "\n",
    "**Recommendation**\n",
    "\n",
    "The datasets only recorded until year 2017, so it is good to get the newer datasets to get better results and predictions for the modeling.\n",
    "\n",
    "\n"
   ]
  }
 ],
 "metadata": {
  "kernelspec": {
   "display_name": "Python 3",
   "language": "python",
   "name": "python3"
  },
  "language_info": {
   "codemirror_mode": {
    "name": "ipython",
    "version": 3
   },
   "file_extension": ".py",
   "mimetype": "text/x-python",
   "name": "python",
   "nbconvert_exporter": "python",
   "pygments_lexer": "ipython3",
   "version": "3.7.6"
  }
 },
 "nbformat": 4,
 "nbformat_minor": 4
}
